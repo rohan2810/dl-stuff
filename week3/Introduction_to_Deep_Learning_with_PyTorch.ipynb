{
  "cells": [
    {
      "cell_type": "markdown",
      "metadata": {
        "id": "DjYDWVa3V4Tu"
      },
      "source": [
        "# **Module 3: Introduction to Deep Learning with PyTorch**\n",
        "\n",
        "## Introduction\n",
        "In previous notebooks, we have created, trained, and evaluated neural networks using python classes we have developed. There are many open source libraries that help optimize and make the process of creating these models repeatable, and we will look at one of the most popular ones in this notebook: PyTorch.\n",
        "\n",
        "Now the we know the basics of using tensors in [Pytorch](https://pytorch.org/) from the previous notebook, we will use them to create Deep Learning models. In the following notebook we will go through an example of creating both a classification and regression model in Pytorch on a large publicly available dataset."
      ]
    },
    {
      "cell_type": "markdown",
      "metadata": {
        "id": "88DD4RKAU4J-"
      },
      "source": [
        "## Classification with PyTorch\n",
        "\n",
        "In this first example, we will be using PyTorch to perform a binary classification task on an open source dataset. The dataset in particular is the Abalone Age Dataset and can be found [here](https://archive.ics.uci.edu/ml/machine-learning-databases/abalone/).\n",
        "\n",
        "[Abalone](https://en.wikipedia.org/wiki/Abalone) are a type of marine snail, and their age can be determined by performing an extremely manual task of counting rings inside of their shell. This dataset contains a number of measurements that can be used to predict the number of rings."
      ]
    },
    {
      "cell_type": "markdown",
      "metadata": {
        "id": "uIOAvcyPl-Hd"
      },
      "source": [
        "### Datset Download and Module Import"
      ]
    },
    {
      "cell_type": "code",
      "execution_count": null,
      "metadata": {
        "colab": {
          "base_uri": "https://localhost:8080/"
        },
        "id": "LwGngEegU4KB",
        "outputId": "4286a3ab-76e5-4fe8-fe88-19f628e2812e"
      },
      "outputs": [
        {
          "output_type": "stream",
          "name": "stdout",
          "text": [
            "rm: cannot remove 'abalone.data': No such file or directory\n",
            "rm: cannot remove 'abalone.names': No such file or directory\n",
            "--2022-08-31 14:45:04--  https://archive.ics.uci.edu/ml/machine-learning-databases/abalone/abalone.data\n",
            "Resolving archive.ics.uci.edu (archive.ics.uci.edu)... 128.195.10.252\n",
            "Connecting to archive.ics.uci.edu (archive.ics.uci.edu)|128.195.10.252|:443... connected.\n",
            "HTTP request sent, awaiting response... 200 OK\n",
            "Length: 191873 (187K) [application/x-httpd-php]\n",
            "Saving to: ‘abalone.data’\n",
            "\n",
            "abalone.data        100%[===================>] 187.38K   733KB/s    in 0.3s    \n",
            "\n",
            "2022-08-31 14:45:05 (733 KB/s) - ‘abalone.data’ saved [191873/191873]\n",
            "\n",
            "--2022-08-31 14:45:05--  https://archive.ics.uci.edu/ml/machine-learning-databases/abalone/abalone.names\n",
            "Resolving archive.ics.uci.edu (archive.ics.uci.edu)... 128.195.10.252\n",
            "Connecting to archive.ics.uci.edu (archive.ics.uci.edu)|128.195.10.252|:443... connected.\n",
            "HTTP request sent, awaiting response... 200 OK\n",
            "Length: 4319 (4.2K) [application/x-httpd-php]\n",
            "Saving to: ‘abalone.names’\n",
            "\n",
            "abalone.names       100%[===================>]   4.22K  --.-KB/s    in 0s      \n",
            "\n",
            "2022-08-31 14:45:06 (68.7 MB/s) - ‘abalone.names’ saved [4319/4319]\n",
            "\n"
          ]
        }
      ],
      "source": [
        "# Download the abalone .csv files from data archive if needed\n",
        "!rm abalone.data abalone.names\n",
        "!wget https://archive.ics.uci.edu/ml/machine-learning-databases/abalone/abalone.data\n",
        "!wget https://archive.ics.uci.edu/ml/machine-learning-databases/abalone/abalone.names"
      ]
    },
    {
      "cell_type": "code",
      "execution_count": null,
      "metadata": {
        "id": "S982Co0hU4KB"
      },
      "outputs": [],
      "source": [
        "# As you can see we now require a lot of different modules\n",
        "import pandas as pd\n",
        "import numpy as np\n",
        "import torch\n",
        "import torch.nn as nn\n",
        "from sklearn.preprocessing import StandardScaler\n",
        "from sklearn.compose import ColumnTransformer\n",
        "\n",
        "from sklearn.model_selection import train_test_split\n",
        "import sklearn.metrics as metrics\n",
        "from torch.utils.data import TensorDataset, DataLoader\n",
        "\n",
        "import torchvision\n",
        "import torchvision.transforms as transforms\n",
        "import matplotlib.pyplot as plt\n",
        "import time, copy"
      ]
    },
    {
      "cell_type": "markdown",
      "metadata": {
        "id": "wZuTMIgTU4KE"
      },
      "source": [
        "### Prepare the abalone data for classification\n",
        "\n",
        "We want to create a classification problem to differentiate old and young abalones. We designate any abalone with less than 10 rings as young, and all others as old."
      ]
    },
    {
      "cell_type": "code",
      "execution_count": null,
      "metadata": {
        "colab": {
          "base_uri": "https://localhost:8080/",
          "height": 224
        },
        "id": "qR67MHXsU4KE",
        "outputId": "1edd7adb-9e5d-475e-f1fd-44a100e7352d"
      },
      "outputs": [
        {
          "output_type": "stream",
          "name": "stdout",
          "text": [
            "['Length', 'Diameter', 'Height', 'Whole weight']\n"
          ]
        },
        {
          "output_type": "execute_result",
          "data": {
            "text/plain": [
              "  Sex  Length  Diameter  Height  Whole weight  Shucked weight  Viscera weight  \\\n",
              "0   M   0.455     0.365   0.095        0.5140          0.2245          0.1010   \n",
              "1   M   0.350     0.265   0.090        0.2255          0.0995          0.0485   \n",
              "2   F   0.530     0.420   0.135        0.6770          0.2565          0.1415   \n",
              "3   M   0.440     0.365   0.125        0.5160          0.2155          0.1140   \n",
              "4   I   0.330     0.255   0.080        0.2050          0.0895          0.0395   \n",
              "\n",
              "   Shell weights  Rings  Old  \n",
              "0          0.150     15    1  \n",
              "1          0.070      7    0  \n",
              "2          0.210      9    0  \n",
              "3          0.155     10    1  \n",
              "4          0.055      7    0  "
            ],
            "text/html": [
              "\n",
              "  <div id=\"df-0765b983-318a-4dae-9ff7-d38cee4f6900\">\n",
              "    <div class=\"colab-df-container\">\n",
              "      <div>\n",
              "<style scoped>\n",
              "    .dataframe tbody tr th:only-of-type {\n",
              "        vertical-align: middle;\n",
              "    }\n",
              "\n",
              "    .dataframe tbody tr th {\n",
              "        vertical-align: top;\n",
              "    }\n",
              "\n",
              "    .dataframe thead th {\n",
              "        text-align: right;\n",
              "    }\n",
              "</style>\n",
              "<table border=\"1\" class=\"dataframe\">\n",
              "  <thead>\n",
              "    <tr style=\"text-align: right;\">\n",
              "      <th></th>\n",
              "      <th>Sex</th>\n",
              "      <th>Length</th>\n",
              "      <th>Diameter</th>\n",
              "      <th>Height</th>\n",
              "      <th>Whole weight</th>\n",
              "      <th>Shucked weight</th>\n",
              "      <th>Viscera weight</th>\n",
              "      <th>Shell weights</th>\n",
              "      <th>Rings</th>\n",
              "      <th>Old</th>\n",
              "    </tr>\n",
              "  </thead>\n",
              "  <tbody>\n",
              "    <tr>\n",
              "      <th>0</th>\n",
              "      <td>M</td>\n",
              "      <td>0.455</td>\n",
              "      <td>0.365</td>\n",
              "      <td>0.095</td>\n",
              "      <td>0.5140</td>\n",
              "      <td>0.2245</td>\n",
              "      <td>0.1010</td>\n",
              "      <td>0.150</td>\n",
              "      <td>15</td>\n",
              "      <td>1</td>\n",
              "    </tr>\n",
              "    <tr>\n",
              "      <th>1</th>\n",
              "      <td>M</td>\n",
              "      <td>0.350</td>\n",
              "      <td>0.265</td>\n",
              "      <td>0.090</td>\n",
              "      <td>0.2255</td>\n",
              "      <td>0.0995</td>\n",
              "      <td>0.0485</td>\n",
              "      <td>0.070</td>\n",
              "      <td>7</td>\n",
              "      <td>0</td>\n",
              "    </tr>\n",
              "    <tr>\n",
              "      <th>2</th>\n",
              "      <td>F</td>\n",
              "      <td>0.530</td>\n",
              "      <td>0.420</td>\n",
              "      <td>0.135</td>\n",
              "      <td>0.6770</td>\n",
              "      <td>0.2565</td>\n",
              "      <td>0.1415</td>\n",
              "      <td>0.210</td>\n",
              "      <td>9</td>\n",
              "      <td>0</td>\n",
              "    </tr>\n",
              "    <tr>\n",
              "      <th>3</th>\n",
              "      <td>M</td>\n",
              "      <td>0.440</td>\n",
              "      <td>0.365</td>\n",
              "      <td>0.125</td>\n",
              "      <td>0.5160</td>\n",
              "      <td>0.2155</td>\n",
              "      <td>0.1140</td>\n",
              "      <td>0.155</td>\n",
              "      <td>10</td>\n",
              "      <td>1</td>\n",
              "    </tr>\n",
              "    <tr>\n",
              "      <th>4</th>\n",
              "      <td>I</td>\n",
              "      <td>0.330</td>\n",
              "      <td>0.255</td>\n",
              "      <td>0.080</td>\n",
              "      <td>0.2050</td>\n",
              "      <td>0.0895</td>\n",
              "      <td>0.0395</td>\n",
              "      <td>0.055</td>\n",
              "      <td>7</td>\n",
              "      <td>0</td>\n",
              "    </tr>\n",
              "  </tbody>\n",
              "</table>\n",
              "</div>\n",
              "      <button class=\"colab-df-convert\" onclick=\"convertToInteractive('df-0765b983-318a-4dae-9ff7-d38cee4f6900')\"\n",
              "              title=\"Convert this dataframe to an interactive table.\"\n",
              "              style=\"display:none;\">\n",
              "        \n",
              "  <svg xmlns=\"http://www.w3.org/2000/svg\" height=\"24px\"viewBox=\"0 0 24 24\"\n",
              "       width=\"24px\">\n",
              "    <path d=\"M0 0h24v24H0V0z\" fill=\"none\"/>\n",
              "    <path d=\"M18.56 5.44l.94 2.06.94-2.06 2.06-.94-2.06-.94-.94-2.06-.94 2.06-2.06.94zm-11 1L8.5 8.5l.94-2.06 2.06-.94-2.06-.94L8.5 2.5l-.94 2.06-2.06.94zm10 10l.94 2.06.94-2.06 2.06-.94-2.06-.94-.94-2.06-.94 2.06-2.06.94z\"/><path d=\"M17.41 7.96l-1.37-1.37c-.4-.4-.92-.59-1.43-.59-.52 0-1.04.2-1.43.59L10.3 9.45l-7.72 7.72c-.78.78-.78 2.05 0 2.83L4 21.41c.39.39.9.59 1.41.59.51 0 1.02-.2 1.41-.59l7.78-7.78 2.81-2.81c.8-.78.8-2.07 0-2.86zM5.41 20L4 18.59l7.72-7.72 1.47 1.35L5.41 20z\"/>\n",
              "  </svg>\n",
              "      </button>\n",
              "      \n",
              "  <style>\n",
              "    .colab-df-container {\n",
              "      display:flex;\n",
              "      flex-wrap:wrap;\n",
              "      gap: 12px;\n",
              "    }\n",
              "\n",
              "    .colab-df-convert {\n",
              "      background-color: #E8F0FE;\n",
              "      border: none;\n",
              "      border-radius: 50%;\n",
              "      cursor: pointer;\n",
              "      display: none;\n",
              "      fill: #1967D2;\n",
              "      height: 32px;\n",
              "      padding: 0 0 0 0;\n",
              "      width: 32px;\n",
              "    }\n",
              "\n",
              "    .colab-df-convert:hover {\n",
              "      background-color: #E2EBFA;\n",
              "      box-shadow: 0px 1px 2px rgba(60, 64, 67, 0.3), 0px 1px 3px 1px rgba(60, 64, 67, 0.15);\n",
              "      fill: #174EA6;\n",
              "    }\n",
              "\n",
              "    [theme=dark] .colab-df-convert {\n",
              "      background-color: #3B4455;\n",
              "      fill: #D2E3FC;\n",
              "    }\n",
              "\n",
              "    [theme=dark] .colab-df-convert:hover {\n",
              "      background-color: #434B5C;\n",
              "      box-shadow: 0px 1px 3px 1px rgba(0, 0, 0, 0.15);\n",
              "      filter: drop-shadow(0px 1px 2px rgba(0, 0, 0, 0.3));\n",
              "      fill: #FFFFFF;\n",
              "    }\n",
              "  </style>\n",
              "\n",
              "      <script>\n",
              "        const buttonEl =\n",
              "          document.querySelector('#df-0765b983-318a-4dae-9ff7-d38cee4f6900 button.colab-df-convert');\n",
              "        buttonEl.style.display =\n",
              "          google.colab.kernel.accessAllowed ? 'block' : 'none';\n",
              "\n",
              "        async function convertToInteractive(key) {\n",
              "          const element = document.querySelector('#df-0765b983-318a-4dae-9ff7-d38cee4f6900');\n",
              "          const dataTable =\n",
              "            await google.colab.kernel.invokeFunction('convertToInteractive',\n",
              "                                                     [key], {});\n",
              "          if (!dataTable) return;\n",
              "\n",
              "          const docLinkHtml = 'Like what you see? Visit the ' +\n",
              "            '<a target=\"_blank\" href=https://colab.research.google.com/notebooks/data_table.ipynb>data table notebook</a>'\n",
              "            + ' to learn more about interactive tables.';\n",
              "          element.innerHTML = '';\n",
              "          dataTable['output_type'] = 'display_data';\n",
              "          await google.colab.output.renderOutput(dataTable, element);\n",
              "          const docLink = document.createElement('div');\n",
              "          docLink.innerHTML = docLinkHtml;\n",
              "          element.appendChild(docLink);\n",
              "        }\n",
              "      </script>\n",
              "    </div>\n",
              "  </div>\n",
              "  "
            ]
          },
          "metadata": {},
          "execution_count": 3
        }
      ],
      "source": [
        "\n",
        "column_names = [\"Sex\", \"Length\", \"Diameter\", \"Height\", \"Whole weight\",\n",
        "                \"Shucked weight\", \"Viscera weight\", \"Shell weights\", \"Rings\"]\n",
        "df = pd.read_csv('abalone.data', header=None, names=column_names)\n",
        "df['Old'] = 0  # By default, abalone is Young\n",
        "df.loc[(df['Rings'] >= 10), 'Old'] = 1 # 10 rings or more means an Abalone is old\n",
        "class_labels = ['Young', 'Old']   # [0, 1], [N, P]\n",
        "numerical_feature_columns = column_names[1:5] # We first only want to classify with numerical features excluding sex and only the whole weight\n",
        "print(numerical_feature_columns)\n",
        "label_column = 'Old'\n",
        "\n",
        "\n",
        "df.head() # Visualize a subset of the dataset"
      ]
    },
    {
      "cell_type": "markdown",
      "metadata": {
        "id": "b9ttQznume2S"
      },
      "source": [
        "### Train-Validation-Test Split and Standardization\n",
        "\n",
        "For this classification task, we will split our dataset into 3 different subsets as described earlier in the module. The train subset will be the largest and this is the subset is used to train and optimize the weights of the model. Next is the validation subset, which will be used as an unbiased evaluation of the model and help to tune different hyperparameters. Lastly is the test subset, which is used to perform an unbiased evaluation of the fully trained model.\n",
        "\n",
        "Additionally, we would like to perform data standardization by removing the mean and scaling by the variance. We will perform this on each of the features however we want to ensure that this standardization function is computed on the train data subset. We then apply the standardization function to the validation and test datasets. By ensuring that the standardization is only computed on the train subset, we gaurantee that no information from the validation or test datasets is leaking into the train subset.\n",
        "\n",
        "Below we provide a function for splitting a given dataset into a 60-20-20 train-validation-test and performing data standardization using the sklearn StandardScaler class for PyTorch consumption:"
      ]
    },
    {
      "cell_type": "code",
      "source": [
        "from sklearn.compose import ColumnTransformer\n",
        "from sklearn.preprocessing import StandardScaler\n",
        "\n",
        "def train_test_val_split(df, feature_columns, label_column, ct):\n",
        "  # First perform an 80/20 train/test split\n",
        "  initial_train_split = df.sample(frac=.8,random_state=42)\n",
        "  test = df.drop(initial_train_split.index)\n",
        "\n",
        "  # Next perform a 75/25 train/val split\n",
        "  train = initial_train_split.sample(frac=.75, random_state=42)\n",
        "  val = initial_train_split.drop(train.index)\n",
        "\n",
        "  # Split all of the datasets into features and labels (x and y)\n",
        "  train_x = train[feature_columns]\n",
        "  # We won't be transforming the labels so they can go straight to torch tensors\n",
        "  train_y = torch.from_numpy(train[label_column].values)\n",
        "\n",
        "  val_x = val[feature_columns]\n",
        "  val_y = torch.from_numpy(val[label_column].values)\n",
        "\n",
        "  test_x = test[feature_columns]\n",
        "  test_y = torch.from_numpy(test[label_column].values)\n",
        "\n",
        "  # Fit our ColumnTransformer to the train dataset\n",
        "  ct.fit(train_x)\n",
        "\n",
        "  # Perform the standardization on each of the x datasets\n",
        "  train_x = ct.transform(train_x)\n",
        "  val_x = ct.transform(val_x)\n",
        "  test_x = ct.transform(test_x)\n",
        "\n",
        "  # Transform our datasets into Torch Tensors\n",
        "  train_x = torch.from_numpy(train_x).float()\n",
        "  val_x = torch.from_numpy(val_x).float()\n",
        "  test_x = torch.from_numpy(test_x).float()\n",
        "\n",
        "  # Create the input-label pair datasets to be consumed by PyTorch\n",
        "  train_dataset = TensorDataset(train_x, train_y)\n",
        "  test_dataset = TensorDataset(test_x, test_y)\n",
        "  val_dataset = TensorDataset(val_x, val_y)\n",
        "  return train_dataset, test_dataset, val_dataset\n"
      ],
      "metadata": {
        "id": "T_8oUtiUA3Lc"
      },
      "execution_count": null,
      "outputs": []
    },
    {
      "cell_type": "code",
      "source": [
        "# Create our StandardScaler to use for datastandardization\n",
        "# More here: https://scikit-learn.org/stable/modules/generated/sklearn.preprocessing.StandardScaler.html\n",
        "# https://scikit-learn.org/stable/modules/generated/sklearn.compose.ColumnTransformer.html#sklearn.compose.ColumnTransformer\n",
        "ct = ColumnTransformer([('numerical_features', StandardScaler(), numerical_feature_columns)], remainder='passthrough')\n",
        "\n",
        "train_dataset, test_dataset, val_dataset = train_test_val_split(df, numerical_feature_columns, label_column, ct)"
      ],
      "metadata": {
        "id": "lVZXumJh2BVA"
      },
      "execution_count": null,
      "outputs": []
    },
    {
      "cell_type": "markdown",
      "metadata": {
        "id": "90DlOd1UqgEg"
      },
      "source": [
        "### Model Hyperparameters and Definition\n",
        "Now that we can easily split our dataset into train, validation, and test subsets, we turn to the selection of our hyperparameters. These hyperparameters include model architecture decisions (number of hidden layers) and external training parameters such as batch size, learning rate, and number of training epochs."
      ]
    },
    {
      "cell_type": "code",
      "execution_count": null,
      "metadata": {
        "id": "ZyTKvqUAU4KG"
      },
      "outputs": [],
      "source": [
        "# device config (train our model on GPU if it is available which is much faster)\n",
        "device = torch.device('cuda' if torch.cuda.is_available() else 'cpu')\n",
        "\n",
        "# hyperparameters\n",
        "\n",
        "# model architecture\n",
        "input_size = len(numerical_feature_columns) # Make sure to remove the index column\n",
        "hidden_size1 = 64\n",
        "hidden_size2 = 64\n",
        "hidden_size3 = 64\n",
        "num_classes = 2\n",
        "\n",
        "# external training parameters\n",
        "batch_size = 10\n",
        "learning_rate = 0.001\n",
        "num_epochs = 50\n"
      ]
    },
    {
      "cell_type": "markdown",
      "source": [
        "### Hyperparameter Selection\n",
        "\n",
        "In this walkthrough, we will use our validation set to determine two different hyperparameters.\n",
        "\n",
        "The first is the total number of Epochs to train for. At the end of our entire training process we will select the weights from the epoch with the highest validation accuracy.\n",
        "\n",
        "The second is number of layers - we will try both a 2-hidden-layer and 3-hidden-layer network. Again, which ever has the best performance on the validation set will be our final model of choice."
      ],
      "metadata": {
        "id": "MxCCd0idiKbp"
      }
    },
    {
      "cell_type": "code",
      "execution_count": null,
      "metadata": {
        "id": "GSjFybbmU4KH"
      },
      "outputs": [],
      "source": [
        "# Simple two-hidden-layer classification model\n",
        "class SimpleClassifier2Layer(nn.Module):\n",
        "    def __init__(self, input_size, hidden_size1, hidden_size2, num_classes):\n",
        "        super(SimpleClassifier2Layer, self).__init__()\n",
        "        self.layers = nn.Sequential(\n",
        "            nn.Linear(input_size, hidden_size1),\n",
        "            nn.ReLU(),\n",
        "            nn.Linear(hidden_size1, hidden_size2),\n",
        "            nn.ReLU(),\n",
        "            nn.Linear(hidden_size2, num_classes),\n",
        "        )\n",
        "\n",
        "    def forward(self, x):\n",
        "        return self.layers(x)\n",
        "\n",
        "# Simple three-hidden-layer classification model\n",
        "class SimpleClassifier3Layer(nn.Module):\n",
        "    def __init__(self, input_size, hidden_size1, hidden_size2, hidden_size3, num_classes):\n",
        "        super(SimpleClassifier3Layer, self).__init__()\n",
        "        self.layers = nn.Sequential(\n",
        "            nn.Linear(input_size, hidden_size1),\n",
        "            nn.ReLU(),\n",
        "            nn.Linear(hidden_size1, hidden_size2),\n",
        "            nn.ReLU(),\n",
        "            nn.Linear(hidden_size2, hidden_size3),\n",
        "            nn.ReLU(),\n",
        "            nn.Linear(hidden_size3, num_classes),\n",
        "        )\n",
        "\n",
        "    def forward(self, x):\n",
        "        return self.layers(x)"
      ]
    },
    {
      "cell_type": "code",
      "execution_count": null,
      "metadata": {
        "colab": {
          "base_uri": "https://localhost:8080/"
        },
        "id": "o51QXeXxU4KH",
        "outputId": "8beb3758-bfcc-4e52-938f-67f58126e596"
      },
      "outputs": [
        {
          "output_type": "stream",
          "name": "stdout",
          "text": [
            "SimpleClassifier2Layer(\n",
            "  (layers): Sequential(\n",
            "    (0): Linear(in_features=4, out_features=64, bias=True)\n",
            "    (1): ReLU()\n",
            "    (2): Linear(in_features=64, out_features=64, bias=True)\n",
            "    (3): ReLU()\n",
            "    (4): Linear(in_features=64, out_features=2, bias=True)\n",
            "  )\n",
            ")\n",
            "SimpleClassifier3Layer(\n",
            "  (layers): Sequential(\n",
            "    (0): Linear(in_features=4, out_features=64, bias=True)\n",
            "    (1): ReLU()\n",
            "    (2): Linear(in_features=64, out_features=64, bias=True)\n",
            "    (3): ReLU()\n",
            "    (4): Linear(in_features=64, out_features=64, bias=True)\n",
            "    (5): ReLU()\n",
            "    (6): Linear(in_features=64, out_features=2, bias=True)\n",
            "  )\n",
            ")\n"
          ]
        }
      ],
      "source": [
        "two_layer_model = SimpleClassifier2Layer(input_size, hidden_size1, hidden_size2, num_classes).to(device)\n",
        "print(two_layer_model)\n",
        "\n",
        "three_layer_model = SimpleClassifier3Layer(input_size, hidden_size1, hidden_size2, hidden_size3, num_classes).to(device)\n",
        "print(three_layer_model)"
      ]
    },
    {
      "cell_type": "markdown",
      "metadata": {
        "id": "GNoWdg86vq-N"
      },
      "source": [
        "### Final Data Preparation\n",
        "\n",
        "Now that we have our model and our hyperparameters defined, we can do the last data preparation step. We will use a built in PyTorch class called a DataLoader with our batch size specified earlier. This DataLoader will be responsible for feeding in the batches of data to the model during training."
      ]
    },
    {
      "cell_type": "code",
      "execution_count": null,
      "metadata": {
        "colab": {
          "base_uri": "https://localhost:8080/"
        },
        "id": "Js3SG4MwoZ8Z",
        "outputId": "c59e5c8c-6cf8-4142-9bcd-cecac8b2cd7e"
      },
      "outputs": [
        {
          "output_type": "stream",
          "name": "stdout",
          "text": [
            "dataset_sizes = {'train': 2506, 'val': 836, 'test': 835}\n"
          ]
        }
      ],
      "source": [
        "dataloaders = {'train': DataLoader(train_dataset, batch_size=batch_size),\n",
        "               'val': DataLoader(val_dataset, batch_size=batch_size),\n",
        "               'test': DataLoader(test_dataset, batch_size=batch_size)}\n",
        "\n",
        "dataset_sizes = {'train': len(train_dataset),\n",
        "                 'val': len(val_dataset),\n",
        "                 'test': len(test_dataset)}\n",
        "print(f'dataset_sizes = {dataset_sizes}')"
      ]
    },
    {
      "cell_type": "markdown",
      "metadata": {
        "id": "vFLV8A-IwJeN"
      },
      "source": [
        "### Training the model\n",
        "\n",
        "Now that we have our model architecture defined and our data ready for consumption, we must define the training function. This function will be responsible for updating all of the weights of the model."
      ]
    },
    {
      "cell_type": "code",
      "execution_count": null,
      "metadata": {
        "id": "5da9eptsU4KH"
      },
      "outputs": [],
      "source": [
        "# From https://pytorch.org/tutorials/beginner/transfer_learning_tutorial.html\n",
        "\n",
        "def train_model(model, dataloaders, dataset_sizes, criterion, optimizer, scheduler, num_epochs=25):\n",
        "    since = time.time()\n",
        "\n",
        "    best_model_wts = copy.deepcopy(model.state_dict()) # keep the best weights stored separately\n",
        "    best_acc = 0.0\n",
        "    best_epoch = 0\n",
        "\n",
        "    # Each epoch has a training, validation, and test phase\n",
        "    phases = ['train', 'val', 'test']\n",
        "\n",
        "    # Keep track of how loss and accuracy evolves during training\n",
        "    training_curves = {}\n",
        "    for phase in phases:\n",
        "        training_curves[phase+'_loss'] = []\n",
        "        training_curves[phase+'_acc'] = []\n",
        "\n",
        "    for epoch in range(num_epochs):\n",
        "        print(f'\\nEpoch {epoch+1}/{num_epochs}')\n",
        "        print('-' * 10)\n",
        "\n",
        "        for phase in phases:\n",
        "            if phase == 'train':\n",
        "                model.train()  # Set model to training mode\n",
        "            else:\n",
        "                model.eval()   # Set model to evaluate mode\n",
        "\n",
        "            running_loss = 0.0\n",
        "            running_corrects = 0\n",
        "\n",
        "            # Iterate over data.\n",
        "            for inputs, labels in dataloaders[phase]:\n",
        "                # This ensures all of our datapoints are flattened\n",
        "                # before feeding them to our model\n",
        "                inputs = inputs.view(inputs.shape[0],-1)\n",
        "                inputs = inputs.to(device)\n",
        "                labels = labels.to(device)\n",
        "\n",
        "                # zero the parameter gradients\n",
        "                optimizer.zero_grad()\n",
        "\n",
        "                # forward\n",
        "                with torch.set_grad_enabled(phase == 'train'):\n",
        "                    outputs = model(inputs)\n",
        "                    _, predictions = torch.max(outputs, 1)\n",
        "                    loss = criterion(outputs, labels)\n",
        "\n",
        "                    # backward + update weights only if in training phase\n",
        "                    if phase == 'train':\n",
        "                        loss.backward()\n",
        "                        optimizer.step()\n",
        "\n",
        "                # statistics\n",
        "                running_loss += loss.item() * inputs.size(0)\n",
        "                running_corrects += torch.sum(predictions == labels.data)\n",
        "\n",
        "            if phase == 'train':\n",
        "                scheduler.step()\n",
        "\n",
        "            epoch_loss = running_loss / dataset_sizes[phase]\n",
        "            epoch_acc = running_corrects.double() / dataset_sizes[phase]\n",
        "            training_curves[phase+'_loss'].append(epoch_loss)\n",
        "            training_curves[phase+'_acc'].append(epoch_acc)\n",
        "\n",
        "            print(f'{phase:5} Loss: {epoch_loss:.4f} Acc: {epoch_acc:.4f}')\n",
        "\n",
        "            # deep copy the model if it's the best accuracy (based on validation)\n",
        "            if phase == 'val' and epoch_acc > best_acc:\n",
        "                best_epoch = epoch\n",
        "                best_acc = epoch_acc\n",
        "                best_model_wts = copy.deepcopy(model.state_dict())\n",
        "\n",
        "    time_elapsed = time.time() - since\n",
        "    print(f'\\nTraining complete in {time_elapsed // 60:.0f}m {time_elapsed % 60:.0f}s')\n",
        "    print(f'Best val Acc: {best_acc:4f} at epoch {best_epoch}')\n",
        "\n",
        "    # load best model weights\n",
        "    model.load_state_dict(best_model_wts)\n",
        "\n",
        "    return model, training_curves"
      ]
    },
    {
      "cell_type": "markdown",
      "source": [
        "We have written our training function above to be architecture independent. That means we can use the same function to train both the two-hidden-layer and three-hidden-layer networks."
      ],
      "metadata": {
        "id": "LmhLnJZuh7kj"
      }
    },
    {
      "cell_type": "code",
      "execution_count": null,
      "metadata": {
        "colab": {
          "base_uri": "https://localhost:8080/"
        },
        "id": "zhu-dTNRU4KJ",
        "outputId": "1d86988d-7a5e-4434-91ca-7046ed0bae55"
      },
      "outputs": [
        {
          "output_type": "stream",
          "name": "stdout",
          "text": [
            "\n",
            "Epoch 1/50\n",
            "----------\n",
            "train Loss: 0.5318 Acc: 0.7362\n",
            "val   Loss: 0.4655 Acc: 0.7823\n",
            "test  Loss: 0.5285 Acc: 0.7174\n",
            "\n",
            "Epoch 2/50\n",
            "----------\n",
            "train Loss: 0.5195 Acc: 0.7370\n",
            "val   Loss: 0.4616 Acc: 0.7799\n",
            "test  Loss: 0.5266 Acc: 0.7114\n",
            "\n",
            "Epoch 3/50\n",
            "----------\n",
            "train Loss: 0.5145 Acc: 0.7406\n",
            "val   Loss: 0.4588 Acc: 0.7787\n",
            "test  Loss: 0.5256 Acc: 0.7150\n",
            "\n",
            "Epoch 4/50\n",
            "----------\n",
            "train Loss: 0.5102 Acc: 0.7422\n",
            "val   Loss: 0.4572 Acc: 0.7811\n",
            "test  Loss: 0.5250 Acc: 0.7162\n",
            "\n",
            "Epoch 5/50\n",
            "----------\n",
            "train Loss: 0.5082 Acc: 0.7446\n",
            "val   Loss: 0.4558 Acc: 0.7811\n",
            "test  Loss: 0.5247 Acc: 0.7114\n",
            "\n",
            "Epoch 6/50\n",
            "----------\n",
            "train Loss: 0.5064 Acc: 0.7470\n",
            "val   Loss: 0.4549 Acc: 0.7799\n",
            "test  Loss: 0.5243 Acc: 0.7078\n",
            "\n",
            "Epoch 7/50\n",
            "----------\n",
            "train Loss: 0.5050 Acc: 0.7498\n",
            "val   Loss: 0.4539 Acc: 0.7823\n",
            "test  Loss: 0.5240 Acc: 0.7114\n",
            "\n",
            "Epoch 8/50\n",
            "----------\n",
            "train Loss: 0.5035 Acc: 0.7494\n",
            "val   Loss: 0.4531 Acc: 0.7847\n",
            "test  Loss: 0.5238 Acc: 0.7114\n",
            "\n",
            "Epoch 9/50\n",
            "----------\n",
            "train Loss: 0.5023 Acc: 0.7506\n",
            "val   Loss: 0.4529 Acc: 0.7859\n",
            "test  Loss: 0.5237 Acc: 0.7102\n",
            "\n",
            "Epoch 10/50\n",
            "----------\n",
            "train Loss: 0.5012 Acc: 0.7526\n",
            "val   Loss: 0.4526 Acc: 0.7895\n",
            "test  Loss: 0.5237 Acc: 0.7102\n",
            "\n",
            "Epoch 11/50\n",
            "----------\n",
            "train Loss: 0.5001 Acc: 0.7530\n",
            "val   Loss: 0.4524 Acc: 0.7895\n",
            "test  Loss: 0.5236 Acc: 0.7078\n",
            "\n",
            "Epoch 12/50\n",
            "----------\n",
            "train Loss: 0.4993 Acc: 0.7530\n",
            "val   Loss: 0.4522 Acc: 0.7847\n",
            "test  Loss: 0.5236 Acc: 0.7102\n",
            "\n",
            "Epoch 13/50\n",
            "----------\n",
            "train Loss: 0.4984 Acc: 0.7534\n",
            "val   Loss: 0.4520 Acc: 0.7859\n",
            "test  Loss: 0.5236 Acc: 0.7102\n",
            "\n",
            "Epoch 14/50\n",
            "----------\n",
            "train Loss: 0.4976 Acc: 0.7526\n",
            "val   Loss: 0.4519 Acc: 0.7859\n",
            "test  Loss: 0.5237 Acc: 0.7102\n",
            "\n",
            "Epoch 15/50\n",
            "----------\n",
            "train Loss: 0.4969 Acc: 0.7526\n",
            "val   Loss: 0.4519 Acc: 0.7835\n",
            "test  Loss: 0.5238 Acc: 0.7102\n",
            "\n",
            "Epoch 16/50\n",
            "----------\n",
            "train Loss: 0.4963 Acc: 0.7522\n",
            "val   Loss: 0.4520 Acc: 0.7823\n",
            "test  Loss: 0.5240 Acc: 0.7090\n",
            "\n",
            "Epoch 17/50\n",
            "----------\n",
            "train Loss: 0.4957 Acc: 0.7530\n",
            "val   Loss: 0.4521 Acc: 0.7835\n",
            "test  Loss: 0.5242 Acc: 0.7090\n",
            "\n",
            "Epoch 18/50\n",
            "----------\n",
            "train Loss: 0.4952 Acc: 0.7530\n",
            "val   Loss: 0.4522 Acc: 0.7859\n",
            "test  Loss: 0.5241 Acc: 0.7102\n",
            "\n",
            "Epoch 19/50\n",
            "----------\n",
            "train Loss: 0.4946 Acc: 0.7534\n",
            "val   Loss: 0.4520 Acc: 0.7871\n",
            "test  Loss: 0.5242 Acc: 0.7102\n",
            "\n",
            "Epoch 20/50\n",
            "----------\n",
            "train Loss: 0.4941 Acc: 0.7542\n",
            "val   Loss: 0.4520 Acc: 0.7871\n",
            "test  Loss: 0.5243 Acc: 0.7126\n",
            "\n",
            "Epoch 21/50\n",
            "----------\n",
            "train Loss: 0.4937 Acc: 0.7550\n",
            "val   Loss: 0.4519 Acc: 0.7883\n",
            "test  Loss: 0.5244 Acc: 0.7126\n",
            "\n",
            "Epoch 22/50\n",
            "----------\n",
            "train Loss: 0.4933 Acc: 0.7554\n",
            "val   Loss: 0.4517 Acc: 0.7883\n",
            "test  Loss: 0.5244 Acc: 0.7138\n",
            "\n",
            "Epoch 23/50\n",
            "----------\n",
            "train Loss: 0.4929 Acc: 0.7558\n",
            "val   Loss: 0.4518 Acc: 0.7895\n",
            "test  Loss: 0.5245 Acc: 0.7162\n",
            "\n",
            "Epoch 24/50\n",
            "----------\n",
            "train Loss: 0.4925 Acc: 0.7554\n",
            "val   Loss: 0.4517 Acc: 0.7907\n",
            "test  Loss: 0.5245 Acc: 0.7174\n",
            "\n",
            "Epoch 25/50\n",
            "----------\n",
            "train Loss: 0.4922 Acc: 0.7550\n",
            "val   Loss: 0.4516 Acc: 0.7907\n",
            "test  Loss: 0.5245 Acc: 0.7186\n",
            "\n",
            "Epoch 26/50\n",
            "----------\n",
            "train Loss: 0.4919 Acc: 0.7558\n",
            "val   Loss: 0.4514 Acc: 0.7907\n",
            "test  Loss: 0.5245 Acc: 0.7186\n",
            "\n",
            "Epoch 27/50\n",
            "----------\n",
            "train Loss: 0.4916 Acc: 0.7550\n",
            "val   Loss: 0.4513 Acc: 0.7907\n",
            "test  Loss: 0.5246 Acc: 0.7186\n",
            "\n",
            "Epoch 28/50\n",
            "----------\n",
            "train Loss: 0.4913 Acc: 0.7542\n",
            "val   Loss: 0.4511 Acc: 0.7907\n",
            "test  Loss: 0.5246 Acc: 0.7198\n",
            "\n",
            "Epoch 29/50\n",
            "----------\n",
            "train Loss: 0.4910 Acc: 0.7550\n",
            "val   Loss: 0.4509 Acc: 0.7895\n",
            "test  Loss: 0.5247 Acc: 0.7210\n",
            "\n",
            "Epoch 30/50\n",
            "----------\n",
            "train Loss: 0.4907 Acc: 0.7550\n",
            "val   Loss: 0.4507 Acc: 0.7895\n",
            "test  Loss: 0.5248 Acc: 0.7210\n",
            "\n",
            "Epoch 31/50\n",
            "----------\n",
            "train Loss: 0.4905 Acc: 0.7554\n",
            "val   Loss: 0.4504 Acc: 0.7895\n",
            "test  Loss: 0.5249 Acc: 0.7210\n",
            "\n",
            "Epoch 32/50\n",
            "----------\n",
            "train Loss: 0.4902 Acc: 0.7562\n",
            "val   Loss: 0.4502 Acc: 0.7907\n",
            "test  Loss: 0.5250 Acc: 0.7210\n",
            "\n",
            "Epoch 33/50\n",
            "----------\n",
            "train Loss: 0.4900 Acc: 0.7570\n",
            "val   Loss: 0.4499 Acc: 0.7907\n",
            "test  Loss: 0.5251 Acc: 0.7222\n",
            "\n",
            "Epoch 34/50\n",
            "----------\n",
            "train Loss: 0.4897 Acc: 0.7566\n",
            "val   Loss: 0.4497 Acc: 0.7907\n",
            "test  Loss: 0.5252 Acc: 0.7246\n",
            "\n",
            "Epoch 35/50\n",
            "----------\n",
            "train Loss: 0.4895 Acc: 0.7574\n",
            "val   Loss: 0.4494 Acc: 0.7883\n",
            "test  Loss: 0.5252 Acc: 0.7246\n",
            "\n",
            "Epoch 36/50\n",
            "----------\n",
            "train Loss: 0.4893 Acc: 0.7570\n",
            "val   Loss: 0.4491 Acc: 0.7883\n",
            "test  Loss: 0.5252 Acc: 0.7222\n",
            "\n",
            "Epoch 37/50\n",
            "----------\n",
            "train Loss: 0.4891 Acc: 0.7578\n",
            "val   Loss: 0.4489 Acc: 0.7883\n",
            "test  Loss: 0.5253 Acc: 0.7210\n",
            "\n",
            "Epoch 38/50\n",
            "----------\n",
            "train Loss: 0.4889 Acc: 0.7574\n",
            "val   Loss: 0.4487 Acc: 0.7895\n",
            "test  Loss: 0.5253 Acc: 0.7210\n",
            "\n",
            "Epoch 39/50\n",
            "----------\n",
            "train Loss: 0.4887 Acc: 0.7570\n",
            "val   Loss: 0.4486 Acc: 0.7895\n",
            "test  Loss: 0.5253 Acc: 0.7186\n",
            "\n",
            "Epoch 40/50\n",
            "----------\n",
            "train Loss: 0.4885 Acc: 0.7574\n",
            "val   Loss: 0.4484 Acc: 0.7895\n",
            "test  Loss: 0.5254 Acc: 0.7210\n",
            "\n",
            "Epoch 41/50\n",
            "----------\n",
            "train Loss: 0.4884 Acc: 0.7574\n",
            "val   Loss: 0.4483 Acc: 0.7895\n",
            "test  Loss: 0.5254 Acc: 0.7186\n",
            "\n",
            "Epoch 42/50\n",
            "----------\n",
            "train Loss: 0.4882 Acc: 0.7582\n",
            "val   Loss: 0.4480 Acc: 0.7895\n",
            "test  Loss: 0.5254 Acc: 0.7174\n",
            "\n",
            "Epoch 43/50\n",
            "----------\n",
            "train Loss: 0.4881 Acc: 0.7582\n",
            "val   Loss: 0.4478 Acc: 0.7895\n",
            "test  Loss: 0.5254 Acc: 0.7174\n",
            "\n",
            "Epoch 44/50\n",
            "----------\n",
            "train Loss: 0.4879 Acc: 0.7578\n",
            "val   Loss: 0.4477 Acc: 0.7919\n",
            "test  Loss: 0.5255 Acc: 0.7174\n",
            "\n",
            "Epoch 45/50\n",
            "----------\n",
            "train Loss: 0.4878 Acc: 0.7586\n",
            "val   Loss: 0.4475 Acc: 0.7931\n",
            "test  Loss: 0.5255 Acc: 0.7174\n",
            "\n",
            "Epoch 46/50\n",
            "----------\n",
            "train Loss: 0.4877 Acc: 0.7594\n",
            "val   Loss: 0.4473 Acc: 0.7931\n",
            "test  Loss: 0.5255 Acc: 0.7174\n",
            "\n",
            "Epoch 47/50\n",
            "----------\n",
            "train Loss: 0.4876 Acc: 0.7594\n",
            "val   Loss: 0.4472 Acc: 0.7919\n",
            "test  Loss: 0.5255 Acc: 0.7174\n",
            "\n",
            "Epoch 48/50\n",
            "----------\n",
            "train Loss: 0.4874 Acc: 0.7598\n",
            "val   Loss: 0.4472 Acc: 0.7919\n",
            "test  Loss: 0.5256 Acc: 0.7174\n",
            "\n",
            "Epoch 49/50\n",
            "----------\n",
            "train Loss: 0.4873 Acc: 0.7602\n",
            "val   Loss: 0.4470 Acc: 0.7919\n",
            "test  Loss: 0.5256 Acc: 0.7174\n",
            "\n",
            "Epoch 50/50\n",
            "----------\n",
            "train Loss: 0.4872 Acc: 0.7598\n",
            "val   Loss: 0.4469 Acc: 0.7919\n",
            "test  Loss: 0.5256 Acc: 0.7174\n",
            "\n",
            "Training complete in 0m 17s\n",
            "Best val Acc: 0.793062 at epoch 44\n"
          ]
        }
      ],
      "source": [
        "# Two-hidden-Layer Training\n",
        "# loss and optimizer\n",
        "criterion = nn.CrossEntropyLoss() # CrossEntropyLoss for classification!\n",
        "optimizer = torch.optim.Adam(two_layer_model.parameters(), lr=learning_rate)\n",
        "scheduler = torch.optim.lr_scheduler.ExponentialLR(optimizer, gamma=0.95)\n",
        "\n",
        "# Train the model. We also will store the results of training to visualize\n",
        "two_layer_model, training_curves_two_layer = train_model(two_layer_model, dataloaders, dataset_sizes,\n",
        "                                     criterion, optimizer, scheduler, num_epochs=num_epochs)"
      ]
    },
    {
      "cell_type": "markdown",
      "metadata": {
        "id": "dz95CvYx73p5"
      },
      "source": [
        "In order to determine which weight we would like to use for our final model, we will look for the Epoch that performed best on the validation set."
      ]
    },
    {
      "cell_type": "code",
      "source": [
        "# Three-hidden-Layer Training\n",
        "# loss and optimizer\n",
        "criterion = nn.CrossEntropyLoss() # CrossEntropyLoss for classification!\n",
        "optimizer = torch.optim.Adam(three_layer_model.parameters(), lr=learning_rate)\n",
        "scheduler = torch.optim.lr_scheduler.ExponentialLR(optimizer, gamma=0.95)\n",
        "\n",
        "# Train the model. We also will store the results of training to visualize\n",
        "three_layer_model, training_curves_three_layer = train_model(three_layer_model, dataloaders, dataset_sizes,\n",
        "                                     criterion, optimizer, scheduler, num_epochs=num_epochs)"
      ],
      "metadata": {
        "colab": {
          "base_uri": "https://localhost:8080/"
        },
        "id": "WTzVkL72jTLP",
        "outputId": "36d1165b-3c13-416e-a948-63033527da39"
      },
      "execution_count": null,
      "outputs": [
        {
          "output_type": "stream",
          "name": "stdout",
          "text": [
            "\n",
            "Epoch 1/50\n",
            "----------\n",
            "train Loss: 0.5407 Acc: 0.7374\n",
            "val   Loss: 0.4605 Acc: 0.7679\n",
            "test  Loss: 0.5323 Acc: 0.7210\n",
            "\n",
            "Epoch 2/50\n",
            "----------\n",
            "train Loss: 0.5214 Acc: 0.7418\n",
            "val   Loss: 0.4550 Acc: 0.7775\n",
            "test  Loss: 0.5288 Acc: 0.7198\n",
            "\n",
            "Epoch 3/50\n",
            "----------\n",
            "train Loss: 0.5157 Acc: 0.7450\n",
            "val   Loss: 0.4512 Acc: 0.7823\n",
            "test  Loss: 0.5276 Acc: 0.7198\n",
            "\n",
            "Epoch 4/50\n",
            "----------\n",
            "train Loss: 0.5089 Acc: 0.7466\n",
            "val   Loss: 0.4493 Acc: 0.7835\n",
            "test  Loss: 0.5266 Acc: 0.7210\n",
            "\n",
            "Epoch 5/50\n",
            "----------\n",
            "train Loss: 0.5065 Acc: 0.7466\n",
            "val   Loss: 0.4484 Acc: 0.7883\n",
            "test  Loss: 0.5255 Acc: 0.7246\n",
            "\n",
            "Epoch 6/50\n",
            "----------\n",
            "train Loss: 0.5046 Acc: 0.7510\n",
            "val   Loss: 0.4469 Acc: 0.7883\n",
            "test  Loss: 0.5254 Acc: 0.7246\n",
            "\n",
            "Epoch 7/50\n",
            "----------\n",
            "train Loss: 0.5032 Acc: 0.7546\n",
            "val   Loss: 0.4468 Acc: 0.7895\n",
            "test  Loss: 0.5246 Acc: 0.7246\n",
            "\n",
            "Epoch 8/50\n",
            "----------\n",
            "train Loss: 0.5018 Acc: 0.7522\n",
            "val   Loss: 0.4468 Acc: 0.7919\n",
            "test  Loss: 0.5244 Acc: 0.7222\n",
            "\n",
            "Epoch 9/50\n",
            "----------\n",
            "train Loss: 0.5009 Acc: 0.7538\n",
            "val   Loss: 0.4468 Acc: 0.7883\n",
            "test  Loss: 0.5243 Acc: 0.7222\n",
            "\n",
            "Epoch 10/50\n",
            "----------\n",
            "train Loss: 0.5000 Acc: 0.7554\n",
            "val   Loss: 0.4473 Acc: 0.7883\n",
            "test  Loss: 0.5239 Acc: 0.7186\n",
            "\n",
            "Epoch 11/50\n",
            "----------\n",
            "train Loss: 0.4989 Acc: 0.7562\n",
            "val   Loss: 0.4480 Acc: 0.7895\n",
            "test  Loss: 0.5234 Acc: 0.7174\n",
            "\n",
            "Epoch 12/50\n",
            "----------\n",
            "train Loss: 0.4980 Acc: 0.7566\n",
            "val   Loss: 0.4481 Acc: 0.7919\n",
            "test  Loss: 0.5230 Acc: 0.7162\n",
            "\n",
            "Epoch 13/50\n",
            "----------\n",
            "train Loss: 0.4972 Acc: 0.7566\n",
            "val   Loss: 0.4486 Acc: 0.7919\n",
            "test  Loss: 0.5230 Acc: 0.7138\n",
            "\n",
            "Epoch 14/50\n",
            "----------\n",
            "train Loss: 0.4965 Acc: 0.7582\n",
            "val   Loss: 0.4493 Acc: 0.7919\n",
            "test  Loss: 0.5229 Acc: 0.7162\n",
            "\n",
            "Epoch 15/50\n",
            "----------\n",
            "train Loss: 0.4957 Acc: 0.7574\n",
            "val   Loss: 0.4497 Acc: 0.7919\n",
            "test  Loss: 0.5229 Acc: 0.7186\n",
            "\n",
            "Epoch 16/50\n",
            "----------\n",
            "train Loss: 0.4952 Acc: 0.7578\n",
            "val   Loss: 0.4505 Acc: 0.7919\n",
            "test  Loss: 0.5232 Acc: 0.7186\n",
            "\n",
            "Epoch 17/50\n",
            "----------\n",
            "train Loss: 0.4945 Acc: 0.7570\n",
            "val   Loss: 0.4510 Acc: 0.7919\n",
            "test  Loss: 0.5232 Acc: 0.7174\n",
            "\n",
            "Epoch 18/50\n",
            "----------\n",
            "train Loss: 0.4939 Acc: 0.7578\n",
            "val   Loss: 0.4517 Acc: 0.7895\n",
            "test  Loss: 0.5235 Acc: 0.7174\n",
            "\n",
            "Epoch 19/50\n",
            "----------\n",
            "train Loss: 0.4933 Acc: 0.7578\n",
            "val   Loss: 0.4522 Acc: 0.7907\n",
            "test  Loss: 0.5237 Acc: 0.7174\n",
            "\n",
            "Epoch 20/50\n",
            "----------\n",
            "train Loss: 0.4929 Acc: 0.7566\n",
            "val   Loss: 0.4529 Acc: 0.7895\n",
            "test  Loss: 0.5241 Acc: 0.7186\n",
            "\n",
            "Epoch 21/50\n",
            "----------\n",
            "train Loss: 0.4923 Acc: 0.7586\n",
            "val   Loss: 0.4532 Acc: 0.7919\n",
            "test  Loss: 0.5242 Acc: 0.7174\n",
            "\n",
            "Epoch 22/50\n",
            "----------\n",
            "train Loss: 0.4919 Acc: 0.7590\n",
            "val   Loss: 0.4539 Acc: 0.7919\n",
            "test  Loss: 0.5244 Acc: 0.7186\n",
            "\n",
            "Epoch 23/50\n",
            "----------\n",
            "train Loss: 0.4915 Acc: 0.7594\n",
            "val   Loss: 0.4542 Acc: 0.7919\n",
            "test  Loss: 0.5246 Acc: 0.7186\n",
            "\n",
            "Epoch 24/50\n",
            "----------\n",
            "train Loss: 0.4912 Acc: 0.7586\n",
            "val   Loss: 0.4550 Acc: 0.7907\n",
            "test  Loss: 0.5249 Acc: 0.7186\n",
            "\n",
            "Epoch 25/50\n",
            "----------\n",
            "train Loss: 0.4908 Acc: 0.7586\n",
            "val   Loss: 0.4554 Acc: 0.7895\n",
            "test  Loss: 0.5253 Acc: 0.7174\n",
            "\n",
            "Epoch 26/50\n",
            "----------\n",
            "train Loss: 0.4904 Acc: 0.7582\n",
            "val   Loss: 0.4559 Acc: 0.7907\n",
            "test  Loss: 0.5255 Acc: 0.7174\n",
            "\n",
            "Epoch 27/50\n",
            "----------\n",
            "train Loss: 0.4901 Acc: 0.7582\n",
            "val   Loss: 0.4561 Acc: 0.7907\n",
            "test  Loss: 0.5256 Acc: 0.7174\n",
            "\n",
            "Epoch 28/50\n",
            "----------\n",
            "train Loss: 0.4898 Acc: 0.7586\n",
            "val   Loss: 0.4561 Acc: 0.7907\n",
            "test  Loss: 0.5257 Acc: 0.7174\n",
            "\n",
            "Epoch 29/50\n",
            "----------\n",
            "train Loss: 0.4895 Acc: 0.7594\n",
            "val   Loss: 0.4562 Acc: 0.7907\n",
            "test  Loss: 0.5259 Acc: 0.7174\n",
            "\n",
            "Epoch 30/50\n",
            "----------\n",
            "train Loss: 0.4891 Acc: 0.7598\n",
            "val   Loss: 0.4561 Acc: 0.7895\n",
            "test  Loss: 0.5261 Acc: 0.7174\n",
            "\n",
            "Epoch 31/50\n",
            "----------\n",
            "train Loss: 0.4888 Acc: 0.7594\n",
            "val   Loss: 0.4564 Acc: 0.7907\n",
            "test  Loss: 0.5264 Acc: 0.7174\n",
            "\n",
            "Epoch 32/50\n",
            "----------\n",
            "train Loss: 0.4885 Acc: 0.7590\n",
            "val   Loss: 0.4564 Acc: 0.7895\n",
            "test  Loss: 0.5265 Acc: 0.7174\n",
            "\n",
            "Epoch 33/50\n",
            "----------\n",
            "train Loss: 0.4883 Acc: 0.7590\n",
            "val   Loss: 0.4565 Acc: 0.7883\n",
            "test  Loss: 0.5267 Acc: 0.7174\n",
            "\n",
            "Epoch 34/50\n",
            "----------\n",
            "train Loss: 0.4880 Acc: 0.7594\n",
            "val   Loss: 0.4564 Acc: 0.7871\n",
            "test  Loss: 0.5268 Acc: 0.7174\n",
            "\n",
            "Epoch 35/50\n",
            "----------\n",
            "train Loss: 0.4877 Acc: 0.7602\n",
            "val   Loss: 0.4565 Acc: 0.7871\n",
            "test  Loss: 0.5271 Acc: 0.7186\n",
            "\n",
            "Epoch 36/50\n",
            "----------\n",
            "train Loss: 0.4875 Acc: 0.7610\n",
            "val   Loss: 0.4565 Acc: 0.7871\n",
            "test  Loss: 0.5272 Acc: 0.7186\n",
            "\n",
            "Epoch 37/50\n",
            "----------\n",
            "train Loss: 0.4873 Acc: 0.7614\n",
            "val   Loss: 0.4564 Acc: 0.7871\n",
            "test  Loss: 0.5274 Acc: 0.7198\n",
            "\n",
            "Epoch 38/50\n",
            "----------\n",
            "train Loss: 0.4871 Acc: 0.7618\n",
            "val   Loss: 0.4564 Acc: 0.7871\n",
            "test  Loss: 0.5275 Acc: 0.7198\n",
            "\n",
            "Epoch 39/50\n",
            "----------\n",
            "train Loss: 0.4868 Acc: 0.7618\n",
            "val   Loss: 0.4564 Acc: 0.7871\n",
            "test  Loss: 0.5277 Acc: 0.7198\n",
            "\n",
            "Epoch 40/50\n",
            "----------\n",
            "train Loss: 0.4866 Acc: 0.7614\n",
            "val   Loss: 0.4563 Acc: 0.7859\n",
            "test  Loss: 0.5278 Acc: 0.7210\n",
            "\n",
            "Epoch 41/50\n",
            "----------\n",
            "train Loss: 0.4864 Acc: 0.7618\n",
            "val   Loss: 0.4561 Acc: 0.7871\n",
            "test  Loss: 0.5280 Acc: 0.7198\n",
            "\n",
            "Epoch 42/50\n",
            "----------\n",
            "train Loss: 0.4862 Acc: 0.7618\n",
            "val   Loss: 0.4560 Acc: 0.7871\n",
            "test  Loss: 0.5281 Acc: 0.7210\n",
            "\n",
            "Epoch 43/50\n",
            "----------\n",
            "train Loss: 0.4861 Acc: 0.7622\n",
            "val   Loss: 0.4560 Acc: 0.7871\n",
            "test  Loss: 0.5283 Acc: 0.7210\n",
            "\n",
            "Epoch 44/50\n",
            "----------\n",
            "train Loss: 0.4859 Acc: 0.7626\n",
            "val   Loss: 0.4559 Acc: 0.7871\n",
            "test  Loss: 0.5284 Acc: 0.7210\n",
            "\n",
            "Epoch 45/50\n",
            "----------\n",
            "train Loss: 0.4857 Acc: 0.7626\n",
            "val   Loss: 0.4558 Acc: 0.7871\n",
            "test  Loss: 0.5286 Acc: 0.7222\n",
            "\n",
            "Epoch 46/50\n",
            "----------\n",
            "train Loss: 0.4855 Acc: 0.7622\n",
            "val   Loss: 0.4557 Acc: 0.7883\n",
            "test  Loss: 0.5286 Acc: 0.7222\n",
            "\n",
            "Epoch 47/50\n",
            "----------\n",
            "train Loss: 0.4853 Acc: 0.7622\n",
            "val   Loss: 0.4556 Acc: 0.7871\n",
            "test  Loss: 0.5287 Acc: 0.7210\n",
            "\n",
            "Epoch 48/50\n",
            "----------\n",
            "train Loss: 0.4852 Acc: 0.7622\n",
            "val   Loss: 0.4555 Acc: 0.7871\n",
            "test  Loss: 0.5289 Acc: 0.7210\n",
            "\n",
            "Epoch 49/50\n",
            "----------\n",
            "train Loss: 0.4850 Acc: 0.7626\n",
            "val   Loss: 0.4554 Acc: 0.7859\n",
            "test  Loss: 0.5289 Acc: 0.7198\n",
            "\n",
            "Epoch 50/50\n",
            "----------\n",
            "train Loss: 0.4849 Acc: 0.7622\n",
            "val   Loss: 0.4553 Acc: 0.7859\n",
            "test  Loss: 0.5291 Acc: 0.7210\n",
            "\n",
            "Training complete in 0m 21s\n",
            "Best val Acc: 0.791866 at epoch 7\n"
          ]
        }
      ]
    },
    {
      "cell_type": "markdown",
      "source": [
        "After our training, we saw comparable accuracy between our two different models so we will use the three-layer model going forward but will explore other methods of improving our performance."
      ],
      "metadata": {
        "id": "OGRiX8hgkE_0"
      }
    },
    {
      "cell_type": "markdown",
      "metadata": {
        "id": "Z1vxiEA_zX-B"
      },
      "source": [
        "### Training Curves and Metrics\n",
        "\n",
        "Below we have provided functions for visualizing the training curves and metrics for the classification problem. Feel free to use these functions in the future!"
      ]
    },
    {
      "cell_type": "code",
      "execution_count": null,
      "metadata": {
        "id": "8DDWNUtOU4KI"
      },
      "outputs": [],
      "source": [
        "def plot_training_curves(training_curves,\n",
        "                         phases=['train', 'val', 'test'],\n",
        "                         metrics=['loss','acc']):\n",
        "    epochs = list(range(len(training_curves['train_loss'])))\n",
        "    for metric in metrics:\n",
        "        plt.figure()\n",
        "        plt.title(f'Training curves - {metric}')\n",
        "        for phase in phases:\n",
        "            key = phase+'_'+metric\n",
        "            if key in training_curves:\n",
        "                plt.plot(epochs, training_curves[phase+'_'+metric])\n",
        "        plt.xlabel('epoch')\n",
        "        plt.legend(labels=phases)\n",
        "\n",
        "def classify_predictions(model, device, dataloader):\n",
        "    model.eval()   # Set model to evaluate mode\n",
        "    all_labels = torch.tensor([]).to(device)\n",
        "    all_scores = torch.tensor([]).to(device)\n",
        "    all_preds = torch.tensor([]).to(device)\n",
        "    for inputs, labels in dataloader:\n",
        "        inputs = inputs.to(device)\n",
        "        labels = labels.to(device)\n",
        "        outputs = torch.softmax(model(inputs),dim=1)\n",
        "        _, preds = torch.max(outputs, 1)\n",
        "        scores = outputs[:,1]\n",
        "        all_labels = torch.cat((all_labels, labels), 0)\n",
        "        all_scores = torch.cat((all_scores, scores), 0)\n",
        "        all_preds = torch.cat((all_preds, preds), 0)\n",
        "    return all_preds.detach().cpu(), all_labels.detach().cpu(), all_scores.detach().cpu()\n",
        "\n",
        "def plot_regression(model, device, dataloader):\n",
        "    preds, targets = regress_predictions(model, device, dataloader)\n",
        "    plt.figure()\n",
        "    plt.title(f'Regression results')\n",
        "    plt.scatter(targets, preds)\n",
        "    xmin = min(min(targets), min(preds))\n",
        "    xmax = max(max(targets), max(targets))\n",
        "    plt.plot([xmin, xmax], [xmin, xmax], 'black', linestyle='--', marker='')\n",
        "    plt.xlabel('target value')\n",
        "    plt.ylabel('prediced value')\n",
        "\n",
        "def regress_predictions(model, device, dataloader):\n",
        "    model.eval()   # Set model to evaluate mode\n",
        "    all_targets = torch.tensor([]).to(device)\n",
        "    all_preds = torch.tensor([]).to(device)\n",
        "    for inputs, targets in dataloader:\n",
        "        inputs = inputs.to(device)\n",
        "        targets = targets.to(device)\n",
        "        preds = model(inputs)\n",
        "        all_targets = torch.cat((all_targets, targets), 0)\n",
        "        all_preds = torch.cat((all_preds, preds), 0)\n",
        "    return all_preds.detach().cpu(), all_targets.detach().cpu()\n",
        "\n",
        "def plot_metrics(model, device, dataloaders, phase='test'):\n",
        "    preds, labels, scores = classify_predictions(model, device, dataloaders[phase])\n",
        "\n",
        "    fpr, tpr, thresholds = metrics.roc_curve(labels, scores)\n",
        "    auc = metrics.roc_auc_score(labels, preds)\n",
        "\n",
        "    disp = metrics.RocCurveDisplay(fpr=fpr, tpr=tpr, roc_auc=auc)\n",
        "    ind = np.argmin(np.abs(thresholds - 0.5))\n",
        "    ax = disp.plot().ax_\n",
        "    ax.scatter(fpr[ind], tpr[ind], color = 'red')\n",
        "    ax.set_title('ROC Curve (red dot at threshold = 0.5)')\n",
        "\n",
        "    cm = metrics.confusion_matrix(labels, preds)\n",
        "    disp = metrics.ConfusionMatrixDisplay(confusion_matrix=cm, display_labels=class_labels)\n",
        "    #disp = metrics.ConfusionMatrixDisplay(confusion_matrix=cm)\n",
        "    ax = disp.plot().ax_\n",
        "    ax.set_title('Confusion Matrix -- counts')\n",
        "\n",
        "    ncm = metrics.confusion_matrix(labels, preds, normalize='true')\n",
        "    disp = metrics.ConfusionMatrixDisplay(confusion_matrix=ncm)\n",
        "    ax = disp.plot().ax_\n",
        "    ax.set_title('Confusion Matrix -- rates')\n",
        "\n",
        "    TN, FP, FN, TP = cm[0,0], cm[0,1], cm[1,0], cm[1,1]\n",
        "    N, P = TN + FP, TP + FN\n",
        "    ACC = (TP + TN)/(P+N)\n",
        "    TPR, FPR, FNR, TNR = TP/P, FP/N, FN/P, TN/N\n",
        "    print(f'\\nAt default threshold:')\n",
        "    print(f' TN = {TN:5},  FP = {FP:5} -> N = {N:5}')\n",
        "    print(f' FN = {FN:5},  TP = {TP:5} -> P = {P:5}')\n",
        "    print(f'TNR = {TNR:5.3f}, FPR = {FPR:5.3f}')\n",
        "    print(f'FNR = {FNR:5.3f}, TPR = {TPR:5.3f}')\n",
        "    print(f'ACC = {ACC:6.3f}')\n",
        "\n",
        "    return cm, fpr, tpr, thresholds, auc"
      ]
    },
    {
      "cell_type": "code",
      "execution_count": null,
      "metadata": {
        "colab": {
          "base_uri": "https://localhost:8080/",
          "height": 573
        },
        "id": "OWc_FiINU4KJ",
        "outputId": "9e0d1725-4946-4749-d349-e90d45862326",
        "scrolled": false
      },
      "outputs": [
        {
          "output_type": "display_data",
          "data": {
            "text/plain": [
              "<Figure size 432x288 with 1 Axes>"
            ],
            "image/png": "[encoded data removed]"
          },
          "metadata": {
            "needs_background": "light"
          }
        },
        {
          "output_type": "display_data",
          "data": {
            "text/plain": [
              "<Figure size 432x288 with 1 Axes>"
            ],
            "image/png": "[encoded data removed]"
          },
          "metadata": {
            "needs_background": "light"
          }
        }
      ],
      "source": [
        "plot_training_curves(training_curves_three_layer, phases=['train', 'val', 'test'])"
      ]
    },
    {
      "cell_type": "markdown",
      "source": [
        "Looking at this graph, we can see that our model is currently overfitting to the training dataset. As our blue training loss curve is steadily decreasing, we actually see that the validation loss increases. We will tackle the overfitting problem in the next sections!"
      ],
      "metadata": {
        "id": "aALKlL5Aw_uy"
      }
    },
    {
      "cell_type": "code",
      "execution_count": null,
      "metadata": {
        "colab": {
          "base_uri": "https://localhost:8080/",
          "height": 312
        },
        "id": "YgZFioiIU4KK",
        "outputId": "49476564-1cf2-4a7d-93f7-18dcc90792c6",
        "scrolled": true
      },
      "outputs": [
        {
          "output_type": "error",
          "ename": "RuntimeError",
          "evalue": "ignored",
          "traceback": [
            "\u001b[0;31m---------------------------------------------------------------------------\u001b[0m",
            "\u001b[0;31mRuntimeError\u001b[0m                              Traceback (most recent call last)",
            "\u001b[0;32m<ipython-input-33-6c111dde64d1>\u001b[0m in \u001b[0;36m<module>\u001b[0;34m\u001b[0m\n\u001b[0;32m----> 1\u001b[0;31m \u001b[0mres\u001b[0m \u001b[0;34m=\u001b[0m \u001b[0mplot_metrics\u001b[0m\u001b[0;34m(\u001b[0m\u001b[0mthree_layer_model\u001b[0m\u001b[0;34m,\u001b[0m \u001b[0mdevice\u001b[0m\u001b[0;34m,\u001b[0m \u001b[0mdataloaders\u001b[0m\u001b[0;34m,\u001b[0m \u001b[0mphase\u001b[0m\u001b[0;34m=\u001b[0m\u001b[0;34m'test'\u001b[0m\u001b[0;34m)\u001b[0m\u001b[0;34m\u001b[0m\u001b[0;34m\u001b[0m\u001b[0m\n\u001b[0m",
            "\u001b[0;32m<ipython-input-13-52c6b024b91d>\u001b[0m in \u001b[0;36mplot_metrics\u001b[0;34m(model, device, dataloaders, phase)\u001b[0m\n\u001b[1;32m     53\u001b[0m \u001b[0;34m\u001b[0m\u001b[0m\n\u001b[1;32m     54\u001b[0m \u001b[0;32mdef\u001b[0m \u001b[0mplot_metrics\u001b[0m\u001b[0;34m(\u001b[0m\u001b[0mmodel\u001b[0m\u001b[0;34m,\u001b[0m \u001b[0mdevice\u001b[0m\u001b[0;34m,\u001b[0m \u001b[0mdataloaders\u001b[0m\u001b[0;34m,\u001b[0m \u001b[0mphase\u001b[0m\u001b[0;34m=\u001b[0m\u001b[0;34m'test'\u001b[0m\u001b[0;34m)\u001b[0m\u001b[0;34m:\u001b[0m\u001b[0;34m\u001b[0m\u001b[0;34m\u001b[0m\u001b[0m\n\u001b[0;32m---> 55\u001b[0;31m     \u001b[0mpreds\u001b[0m\u001b[0;34m,\u001b[0m \u001b[0mlabels\u001b[0m\u001b[0;34m,\u001b[0m \u001b[0mscores\u001b[0m \u001b[0;34m=\u001b[0m \u001b[0mclassify_predictions\u001b[0m\u001b[0;34m(\u001b[0m\u001b[0mmodel\u001b[0m\u001b[0;34m,\u001b[0m \u001b[0mdevice\u001b[0m\u001b[0;34m,\u001b[0m \u001b[0mdataloaders\u001b[0m\u001b[0;34m[\u001b[0m\u001b[0mphase\u001b[0m\u001b[0;34m]\u001b[0m\u001b[0;34m)\u001b[0m\u001b[0;34m\u001b[0m\u001b[0;34m\u001b[0m\u001b[0m\n\u001b[0m\u001b[1;32m     56\u001b[0m \u001b[0;34m\u001b[0m\u001b[0m\n\u001b[1;32m     57\u001b[0m     \u001b[0mfpr\u001b[0m\u001b[0;34m,\u001b[0m \u001b[0mtpr\u001b[0m\u001b[0;34m,\u001b[0m \u001b[0mthresholds\u001b[0m \u001b[0;34m=\u001b[0m \u001b[0mmetrics\u001b[0m\u001b[0;34m.\u001b[0m\u001b[0mroc_curve\u001b[0m\u001b[0;34m(\u001b[0m\u001b[0mlabels\u001b[0m\u001b[0;34m,\u001b[0m \u001b[0mscores\u001b[0m\u001b[0;34m)\u001b[0m\u001b[0;34m\u001b[0m\u001b[0;34m\u001b[0m\u001b[0m\n",
            "\u001b[0;32m<ipython-input-13-52c6b024b91d>\u001b[0m in \u001b[0;36mclassify_predictions\u001b[0;34m(model, device, dataloader)\u001b[0m\n\u001b[1;32m     21\u001b[0m         \u001b[0minputs\u001b[0m \u001b[0;34m=\u001b[0m \u001b[0minputs\u001b[0m\u001b[0;34m.\u001b[0m\u001b[0mto\u001b[0m\u001b[0;34m(\u001b[0m\u001b[0mdevice\u001b[0m\u001b[0;34m)\u001b[0m\u001b[0;34m\u001b[0m\u001b[0;34m\u001b[0m\u001b[0m\n\u001b[1;32m     22\u001b[0m         \u001b[0mlabels\u001b[0m \u001b[0;34m=\u001b[0m \u001b[0mlabels\u001b[0m\u001b[0;34m.\u001b[0m\u001b[0mto\u001b[0m\u001b[0;34m(\u001b[0m\u001b[0mdevice\u001b[0m\u001b[0;34m)\u001b[0m\u001b[0;34m\u001b[0m\u001b[0;34m\u001b[0m\u001b[0m\n\u001b[0;32m---> 23\u001b[0;31m         \u001b[0moutputs\u001b[0m \u001b[0;34m=\u001b[0m \u001b[0mtorch\u001b[0m\u001b[0;34m.\u001b[0m\u001b[0msoftmax\u001b[0m\u001b[0;34m(\u001b[0m\u001b[0mmodel\u001b[0m\u001b[0;34m(\u001b[0m\u001b[0minputs\u001b[0m\u001b[0;34m)\u001b[0m\u001b[0;34m,\u001b[0m\u001b[0mdim\u001b[0m\u001b[0;34m=\u001b[0m\u001b[0;36m1\u001b[0m\u001b[0;34m)\u001b[0m\u001b[0;34m\u001b[0m\u001b[0;34m\u001b[0m\u001b[0m\n\u001b[0m\u001b[1;32m     24\u001b[0m         \u001b[0m_\u001b[0m\u001b[0;34m,\u001b[0m \u001b[0mpreds\u001b[0m \u001b[0;34m=\u001b[0m \u001b[0mtorch\u001b[0m\u001b[0;34m.\u001b[0m\u001b[0mmax\u001b[0m\u001b[0;34m(\u001b[0m\u001b[0moutputs\u001b[0m\u001b[0;34m,\u001b[0m \u001b[0;36m1\u001b[0m\u001b[0;34m)\u001b[0m\u001b[0;34m\u001b[0m\u001b[0;34m\u001b[0m\u001b[0m\n\u001b[1;32m     25\u001b[0m         \u001b[0mscores\u001b[0m \u001b[0;34m=\u001b[0m \u001b[0moutputs\u001b[0m\u001b[0;34m[\u001b[0m\u001b[0;34m:\u001b[0m\u001b[0;34m,\u001b[0m\u001b[0;36m1\u001b[0m\u001b[0;34m]\u001b[0m\u001b[0;34m\u001b[0m\u001b[0;34m\u001b[0m\u001b[0m\n",
            "\u001b[0;32m/usr/local/lib/python3.7/dist-packages/torch/nn/modules/module.py\u001b[0m in \u001b[0;36m_call_impl\u001b[0;34m(self, *input, **kwargs)\u001b[0m\n\u001b[1;32m   1128\u001b[0m         if not (self._backward_hooks or self._forward_hooks or self._forward_pre_hooks or _global_backward_hooks\n\u001b[1;32m   1129\u001b[0m                 or _global_forward_hooks or _global_forward_pre_hooks):\n\u001b[0;32m-> 1130\u001b[0;31m             \u001b[0;32mreturn\u001b[0m \u001b[0mforward_call\u001b[0m\u001b[0;34m(\u001b[0m\u001b[0;34m*\u001b[0m\u001b[0minput\u001b[0m\u001b[0;34m,\u001b[0m \u001b[0;34m**\u001b[0m\u001b[0mkwargs\u001b[0m\u001b[0;34m)\u001b[0m\u001b[0;34m\u001b[0m\u001b[0;34m\u001b[0m\u001b[0m\n\u001b[0m\u001b[1;32m   1131\u001b[0m         \u001b[0;31m# Do not call functions when jit is used\u001b[0m\u001b[0;34m\u001b[0m\u001b[0;34m\u001b[0m\u001b[0;34m\u001b[0m\u001b[0m\n\u001b[1;32m   1132\u001b[0m         \u001b[0mfull_backward_hooks\u001b[0m\u001b[0;34m,\u001b[0m \u001b[0mnon_full_backward_hooks\u001b[0m \u001b[0;34m=\u001b[0m \u001b[0;34m[\u001b[0m\u001b[0;34m]\u001b[0m\u001b[0;34m,\u001b[0m \u001b[0;34m[\u001b[0m\u001b[0;34m]\u001b[0m\u001b[0;34m\u001b[0m\u001b[0;34m\u001b[0m\u001b[0m\n",
            "\u001b[0;32m<ipython-input-7-8b4c307691c2>\u001b[0m in \u001b[0;36mforward\u001b[0;34m(self, x)\u001b[0m\n\u001b[1;32m     29\u001b[0m \u001b[0;34m\u001b[0m\u001b[0m\n\u001b[1;32m     30\u001b[0m     \u001b[0;32mdef\u001b[0m \u001b[0mforward\u001b[0m\u001b[0;34m(\u001b[0m\u001b[0mself\u001b[0m\u001b[0;34m,\u001b[0m \u001b[0mx\u001b[0m\u001b[0;34m)\u001b[0m\u001b[0;34m:\u001b[0m\u001b[0;34m\u001b[0m\u001b[0;34m\u001b[0m\u001b[0m\n\u001b[0;32m---> 31\u001b[0;31m         \u001b[0;32mreturn\u001b[0m \u001b[0mself\u001b[0m\u001b[0;34m.\u001b[0m\u001b[0mlayers\u001b[0m\u001b[0;34m(\u001b[0m\u001b[0mx\u001b[0m\u001b[0;34m)\u001b[0m\u001b[0;34m\u001b[0m\u001b[0;34m\u001b[0m\u001b[0m\n\u001b[0m",
            "\u001b[0;32m/usr/local/lib/python3.7/dist-packages/torch/nn/modules/module.py\u001b[0m in \u001b[0;36m_call_impl\u001b[0;34m(self, *input, **kwargs)\u001b[0m\n\u001b[1;32m   1128\u001b[0m         if not (self._backward_hooks or self._forward_hooks or self._forward_pre_hooks or _global_backward_hooks\n\u001b[1;32m   1129\u001b[0m                 or _global_forward_hooks or _global_forward_pre_hooks):\n\u001b[0;32m-> 1130\u001b[0;31m             \u001b[0;32mreturn\u001b[0m \u001b[0mforward_call\u001b[0m\u001b[0;34m(\u001b[0m\u001b[0;34m*\u001b[0m\u001b[0minput\u001b[0m\u001b[0;34m,\u001b[0m \u001b[0;34m**\u001b[0m\u001b[0mkwargs\u001b[0m\u001b[0;34m)\u001b[0m\u001b[0;34m\u001b[0m\u001b[0;34m\u001b[0m\u001b[0m\n\u001b[0m\u001b[1;32m   1131\u001b[0m         \u001b[0;31m# Do not call functions when jit is used\u001b[0m\u001b[0;34m\u001b[0m\u001b[0;34m\u001b[0m\u001b[0;34m\u001b[0m\u001b[0m\n\u001b[1;32m   1132\u001b[0m         \u001b[0mfull_backward_hooks\u001b[0m\u001b[0;34m,\u001b[0m \u001b[0mnon_full_backward_hooks\u001b[0m \u001b[0;34m=\u001b[0m \u001b[0;34m[\u001b[0m\u001b[0;34m]\u001b[0m\u001b[0;34m,\u001b[0m \u001b[0;34m[\u001b[0m\u001b[0;34m]\u001b[0m\u001b[0;34m\u001b[0m\u001b[0;34m\u001b[0m\u001b[0m\n",
            "\u001b[0;32m/usr/local/lib/python3.7/dist-packages/torch/nn/modules/container.py\u001b[0m in \u001b[0;36mforward\u001b[0;34m(self, input)\u001b[0m\n\u001b[1;32m    137\u001b[0m     \u001b[0;32mdef\u001b[0m \u001b[0mforward\u001b[0m\u001b[0;34m(\u001b[0m\u001b[0mself\u001b[0m\u001b[0;34m,\u001b[0m \u001b[0minput\u001b[0m\u001b[0;34m)\u001b[0m\u001b[0;34m:\u001b[0m\u001b[0;34m\u001b[0m\u001b[0;34m\u001b[0m\u001b[0m\n\u001b[1;32m    138\u001b[0m         \u001b[0;32mfor\u001b[0m \u001b[0mmodule\u001b[0m \u001b[0;32min\u001b[0m \u001b[0mself\u001b[0m\u001b[0;34m:\u001b[0m\u001b[0;34m\u001b[0m\u001b[0;34m\u001b[0m\u001b[0m\n\u001b[0;32m--> 139\u001b[0;31m             \u001b[0minput\u001b[0m \u001b[0;34m=\u001b[0m \u001b[0mmodule\u001b[0m\u001b[0;34m(\u001b[0m\u001b[0minput\u001b[0m\u001b[0;34m)\u001b[0m\u001b[0;34m\u001b[0m\u001b[0;34m\u001b[0m\u001b[0m\n\u001b[0m\u001b[1;32m    140\u001b[0m         \u001b[0;32mreturn\u001b[0m \u001b[0minput\u001b[0m\u001b[0;34m\u001b[0m\u001b[0;34m\u001b[0m\u001b[0m\n\u001b[1;32m    141\u001b[0m \u001b[0;34m\u001b[0m\u001b[0m\n",
            "\u001b[0;32m/usr/local/lib/python3.7/dist-packages/torch/nn/modules/module.py\u001b[0m in \u001b[0;36m_call_impl\u001b[0;34m(self, *input, **kwargs)\u001b[0m\n\u001b[1;32m   1128\u001b[0m         if not (self._backward_hooks or self._forward_hooks or self._forward_pre_hooks or _global_backward_hooks\n\u001b[1;32m   1129\u001b[0m                 or _global_forward_hooks or _global_forward_pre_hooks):\n\u001b[0;32m-> 1130\u001b[0;31m             \u001b[0;32mreturn\u001b[0m \u001b[0mforward_call\u001b[0m\u001b[0;34m(\u001b[0m\u001b[0;34m*\u001b[0m\u001b[0minput\u001b[0m\u001b[0;34m,\u001b[0m \u001b[0;34m**\u001b[0m\u001b[0mkwargs\u001b[0m\u001b[0;34m)\u001b[0m\u001b[0;34m\u001b[0m\u001b[0;34m\u001b[0m\u001b[0m\n\u001b[0m\u001b[1;32m   1131\u001b[0m         \u001b[0;31m# Do not call functions when jit is used\u001b[0m\u001b[0;34m\u001b[0m\u001b[0;34m\u001b[0m\u001b[0;34m\u001b[0m\u001b[0m\n\u001b[1;32m   1132\u001b[0m         \u001b[0mfull_backward_hooks\u001b[0m\u001b[0;34m,\u001b[0m \u001b[0mnon_full_backward_hooks\u001b[0m \u001b[0;34m=\u001b[0m \u001b[0;34m[\u001b[0m\u001b[0;34m]\u001b[0m\u001b[0;34m,\u001b[0m \u001b[0;34m[\u001b[0m\u001b[0;34m]\u001b[0m\u001b[0;34m\u001b[0m\u001b[0;34m\u001b[0m\u001b[0m\n",
            "\u001b[0;32m/usr/local/lib/python3.7/dist-packages/torch/nn/modules/linear.py\u001b[0m in \u001b[0;36mforward\u001b[0;34m(self, input)\u001b[0m\n\u001b[1;32m    112\u001b[0m \u001b[0;34m\u001b[0m\u001b[0m\n\u001b[1;32m    113\u001b[0m     \u001b[0;32mdef\u001b[0m \u001b[0mforward\u001b[0m\u001b[0;34m(\u001b[0m\u001b[0mself\u001b[0m\u001b[0;34m,\u001b[0m \u001b[0minput\u001b[0m\u001b[0;34m:\u001b[0m \u001b[0mTensor\u001b[0m\u001b[0;34m)\u001b[0m \u001b[0;34m->\u001b[0m \u001b[0mTensor\u001b[0m\u001b[0;34m:\u001b[0m\u001b[0;34m\u001b[0m\u001b[0;34m\u001b[0m\u001b[0m\n\u001b[0;32m--> 114\u001b[0;31m         \u001b[0;32mreturn\u001b[0m \u001b[0mF\u001b[0m\u001b[0;34m.\u001b[0m\u001b[0mlinear\u001b[0m\u001b[0;34m(\u001b[0m\u001b[0minput\u001b[0m\u001b[0;34m,\u001b[0m \u001b[0mself\u001b[0m\u001b[0;34m.\u001b[0m\u001b[0mweight\u001b[0m\u001b[0;34m,\u001b[0m \u001b[0mself\u001b[0m\u001b[0;34m.\u001b[0m\u001b[0mbias\u001b[0m\u001b[0;34m)\u001b[0m\u001b[0;34m\u001b[0m\u001b[0;34m\u001b[0m\u001b[0m\n\u001b[0m\u001b[1;32m    115\u001b[0m \u001b[0;34m\u001b[0m\u001b[0m\n\u001b[1;32m    116\u001b[0m     \u001b[0;32mdef\u001b[0m \u001b[0mextra_repr\u001b[0m\u001b[0;34m(\u001b[0m\u001b[0mself\u001b[0m\u001b[0;34m)\u001b[0m \u001b[0;34m->\u001b[0m \u001b[0mstr\u001b[0m\u001b[0;34m:\u001b[0m\u001b[0;34m\u001b[0m\u001b[0;34m\u001b[0m\u001b[0m\n",
            "\u001b[0;31mRuntimeError\u001b[0m: mat1 and mat2 shapes cannot be multiplied (10x7 and 4x64)"
          ]
        }
      ],
      "source": [
        "res = plot_metrics(three_layer_model, device, dataloaders, phase='test')"
      ]
    },
    {
      "cell_type": "markdown",
      "source": [
        "Here we can see the ROC curve and confusion matrix that was discussed in the module. It looks like our model is incorrectly predicting Young Abalone as Old Abalone at a higher rate then vice-versa."
      ],
      "metadata": {
        "id": "YjnKAjeCx2_O"
      }
    },
    {
      "cell_type": "markdown",
      "metadata": {
        "id": "iO0tnP8s2dgI"
      },
      "source": [
        "## Additional Features\n",
        "For the first round of feature selection, we chose to only use numerical features. However, we are losing some critical information about the abalone by not including their sex in our model. In order to translate this ternary feature from our dataset into the model, we will use what is called a one hot encoding. We will now create one feature for each of the different options and assign a value of 1 if the sample is a member of that class, and 0 for the others. Encoding strategies can be simple such as this one hot method or can be much more complex as we will learn later in the course."
      ]
    },
    {
      "cell_type": "code",
      "execution_count": null,
      "metadata": {
        "id": "10fjzQGWU4KK",
        "colab": {
          "base_uri": "https://localhost:8080/",
          "height": 206
        },
        "outputId": "c6a4df6e-c668-4ede-ac6a-0f142acbef6e"
      },
      "outputs": [
        {
          "output_type": "execute_result",
          "data": {
            "text/plain": [
              "  Sex  I  F  M  Length  Diameter  Height  Whole weight  Shucked weight  \\\n",
              "0   M  0  0  1   0.455     0.365   0.095        0.5140          0.2245   \n",
              "1   M  0  0  1   0.350     0.265   0.090        0.2255          0.0995   \n",
              "2   F  0  1  0   0.530     0.420   0.135        0.6770          0.2565   \n",
              "3   M  0  0  1   0.440     0.365   0.125        0.5160          0.2155   \n",
              "4   I  1  0  0   0.330     0.255   0.080        0.2050          0.0895   \n",
              "\n",
              "   Viscera weight  Shell weights  Rings  Old  \n",
              "0          0.1010          0.150     15    1  \n",
              "1          0.0485          0.070      7    0  \n",
              "2          0.1415          0.210      9    0  \n",
              "3          0.1140          0.155     10    1  \n",
              "4          0.0395          0.055      7    0  "
            ],
            "text/html": [
              "\n",
              "  <div id=\"df-51fb54eb-15b7-424b-8aa3-c1dd1d677b90\">\n",
              "    <div class=\"colab-df-container\">\n",
              "      <div>\n",
              "<style scoped>\n",
              "    .dataframe tbody tr th:only-of-type {\n",
              "        vertical-align: middle;\n",
              "    }\n",
              "\n",
              "    .dataframe tbody tr th {\n",
              "        vertical-align: top;\n",
              "    }\n",
              "\n",
              "    .dataframe thead th {\n",
              "        text-align: right;\n",
              "    }\n",
              "</style>\n",
              "<table border=\"1\" class=\"dataframe\">\n",
              "  <thead>\n",
              "    <tr style=\"text-align: right;\">\n",
              "      <th></th>\n",
              "      <th>Sex</th>\n",
              "      <th>I</th>\n",
              "      <th>F</th>\n",
              "      <th>M</th>\n",
              "      <th>Length</th>\n",
              "      <th>Diameter</th>\n",
              "      <th>Height</th>\n",
              "      <th>Whole weight</th>\n",
              "      <th>Shucked weight</th>\n",
              "      <th>Viscera weight</th>\n",
              "      <th>Shell weights</th>\n",
              "      <th>Rings</th>\n",
              "      <th>Old</th>\n",
              "    </tr>\n",
              "  </thead>\n",
              "  <tbody>\n",
              "    <tr>\n",
              "      <th>0</th>\n",
              "      <td>M</td>\n",
              "      <td>0</td>\n",
              "      <td>0</td>\n",
              "      <td>1</td>\n",
              "      <td>0.455</td>\n",
              "      <td>0.365</td>\n",
              "      <td>0.095</td>\n",
              "      <td>0.5140</td>\n",
              "      <td>0.2245</td>\n",
              "      <td>0.1010</td>\n",
              "      <td>0.150</td>\n",
              "      <td>15</td>\n",
              "      <td>1</td>\n",
              "    </tr>\n",
              "    <tr>\n",
              "      <th>1</th>\n",
              "      <td>M</td>\n",
              "      <td>0</td>\n",
              "      <td>0</td>\n",
              "      <td>1</td>\n",
              "      <td>0.350</td>\n",
              "      <td>0.265</td>\n",
              "      <td>0.090</td>\n",
              "      <td>0.2255</td>\n",
              "      <td>0.0995</td>\n",
              "      <td>0.0485</td>\n",
              "      <td>0.070</td>\n",
              "      <td>7</td>\n",
              "      <td>0</td>\n",
              "    </tr>\n",
              "    <tr>\n",
              "      <th>2</th>\n",
              "      <td>F</td>\n",
              "      <td>0</td>\n",
              "      <td>1</td>\n",
              "      <td>0</td>\n",
              "      <td>0.530</td>\n",
              "      <td>0.420</td>\n",
              "      <td>0.135</td>\n",
              "      <td>0.6770</td>\n",
              "      <td>0.2565</td>\n",
              "      <td>0.1415</td>\n",
              "      <td>0.210</td>\n",
              "      <td>9</td>\n",
              "      <td>0</td>\n",
              "    </tr>\n",
              "    <tr>\n",
              "      <th>3</th>\n",
              "      <td>M</td>\n",
              "      <td>0</td>\n",
              "      <td>0</td>\n",
              "      <td>1</td>\n",
              "      <td>0.440</td>\n",
              "      <td>0.365</td>\n",
              "      <td>0.125</td>\n",
              "      <td>0.5160</td>\n",
              "      <td>0.2155</td>\n",
              "      <td>0.1140</td>\n",
              "      <td>0.155</td>\n",
              "      <td>10</td>\n",
              "      <td>1</td>\n",
              "    </tr>\n",
              "    <tr>\n",
              "      <th>4</th>\n",
              "      <td>I</td>\n",
              "      <td>1</td>\n",
              "      <td>0</td>\n",
              "      <td>0</td>\n",
              "      <td>0.330</td>\n",
              "      <td>0.255</td>\n",
              "      <td>0.080</td>\n",
              "      <td>0.2050</td>\n",
              "      <td>0.0895</td>\n",
              "      <td>0.0395</td>\n",
              "      <td>0.055</td>\n",
              "      <td>7</td>\n",
              "      <td>0</td>\n",
              "    </tr>\n",
              "  </tbody>\n",
              "</table>\n",
              "</div>\n",
              "      <button class=\"colab-df-convert\" onclick=\"convertToInteractive('df-51fb54eb-15b7-424b-8aa3-c1dd1d677b90')\"\n",
              "              title=\"Convert this dataframe to an interactive table.\"\n",
              "              style=\"display:none;\">\n",
              "        \n",
              "  <svg xmlns=\"http://www.w3.org/2000/svg\" height=\"24px\"viewBox=\"0 0 24 24\"\n",
              "       width=\"24px\">\n",
              "    <path d=\"M0 0h24v24H0V0z\" fill=\"none\"/>\n",
              "    <path d=\"M18.56 5.44l.94 2.06.94-2.06 2.06-.94-2.06-.94-.94-2.06-.94 2.06-2.06.94zm-11 1L8.5 8.5l.94-2.06 2.06-.94-2.06-.94L8.5 2.5l-.94 2.06-2.06.94zm10 10l.94 2.06.94-2.06 2.06-.94-2.06-.94-.94-2.06-.94 2.06-2.06.94z\"/><path d=\"M17.41 7.96l-1.37-1.37c-.4-.4-.92-.59-1.43-.59-.52 0-1.04.2-1.43.59L10.3 9.45l-7.72 7.72c-.78.78-.78 2.05 0 2.83L4 21.41c.39.39.9.59 1.41.59.51 0 1.02-.2 1.41-.59l7.78-7.78 2.81-2.81c.8-.78.8-2.07 0-2.86zM5.41 20L4 18.59l7.72-7.72 1.47 1.35L5.41 20z\"/>\n",
              "  </svg>\n",
              "      </button>\n",
              "      \n",
              "  <style>\n",
              "    .colab-df-container {\n",
              "      display:flex;\n",
              "      flex-wrap:wrap;\n",
              "      gap: 12px;\n",
              "    }\n",
              "\n",
              "    .colab-df-convert {\n",
              "      background-color: #E8F0FE;\n",
              "      border: none;\n",
              "      border-radius: 50%;\n",
              "      cursor: pointer;\n",
              "      display: none;\n",
              "      fill: #1967D2;\n",
              "      height: 32px;\n",
              "      padding: 0 0 0 0;\n",
              "      width: 32px;\n",
              "    }\n",
              "\n",
              "    .colab-df-convert:hover {\n",
              "      background-color: #E2EBFA;\n",
              "      box-shadow: 0px 1px 2px rgba(60, 64, 67, 0.3), 0px 1px 3px 1px rgba(60, 64, 67, 0.15);\n",
              "      fill: #174EA6;\n",
              "    }\n",
              "\n",
              "    [theme=dark] .colab-df-convert {\n",
              "      background-color: #3B4455;\n",
              "      fill: #D2E3FC;\n",
              "    }\n",
              "\n",
              "    [theme=dark] .colab-df-convert:hover {\n",
              "      background-color: #434B5C;\n",
              "      box-shadow: 0px 1px 3px 1px rgba(0, 0, 0, 0.15);\n",
              "      filter: drop-shadow(0px 1px 2px rgba(0, 0, 0, 0.3));\n",
              "      fill: #FFFFFF;\n",
              "    }\n",
              "  </style>\n",
              "\n",
              "      <script>\n",
              "        const buttonEl =\n",
              "          document.querySelector('#df-51fb54eb-15b7-424b-8aa3-c1dd1d677b90 button.colab-df-convert');\n",
              "        buttonEl.style.display =\n",
              "          google.colab.kernel.accessAllowed ? 'block' : 'none';\n",
              "\n",
              "        async function convertToInteractive(key) {\n",
              "          const element = document.querySelector('#df-51fb54eb-15b7-424b-8aa3-c1dd1d677b90');\n",
              "          const dataTable =\n",
              "            await google.colab.kernel.invokeFunction('convertToInteractive',\n",
              "                                                     [key], {});\n",
              "          if (!dataTable) return;\n",
              "\n",
              "          const docLinkHtml = 'Like what you see? Visit the ' +\n",
              "            '<a target=\"_blank\" href=https://colab.research.google.com/notebooks/data_table.ipynb>data table notebook</a>'\n",
              "            + ' to learn more about interactive tables.';\n",
              "          element.innerHTML = '';\n",
              "          dataTable['output_type'] = 'display_data';\n",
              "          await google.colab.output.renderOutput(dataTable, element);\n",
              "          const docLink = document.createElement('div');\n",
              "          docLink.innerHTML = docLinkHtml;\n",
              "          element.appendChild(docLink);\n",
              "        }\n",
              "      </script>\n",
              "    </div>\n",
              "  </div>\n",
              "  "
            ]
          },
          "metadata": {},
          "execution_count": 35
        }
      ],
      "source": [
        "# Insert the new one hot encoding features\n",
        "encoded_df = df.copy(True)\n",
        "encoded_df.insert(1, 'M', 0)\n",
        "encoded_df.insert(1, 'F', 0)\n",
        "encoded_df.insert(1, 'I', 0)\n",
        "encoded_df.loc[(df['Sex'] == 'M'), 'M'] = 1\n",
        "encoded_df.loc[(df['Sex'] == 'F'), 'F'] = 1\n",
        "encoded_df.loc[(df['Sex'] == 'I'), 'I'] = 1\n",
        "encoded_column_names = column_names[:]\n",
        "encoded_column_names.insert(1,\"M\")\n",
        "encoded_column_names.insert(1,\"F\")\n",
        "encoded_column_names.insert(1,\"I\")\n",
        "encoded_df.head()"
      ]
    },
    {
      "cell_type": "code",
      "execution_count": null,
      "metadata": {
        "colab": {
          "base_uri": "https://localhost:8080/",
          "height": 224
        },
        "id": "P89lZpnZ5Cba",
        "outputId": "3fc87a7d-4698-4b89-9cbf-4e58413aebc9"
      },
      "outputs": [
        {
          "output_type": "stream",
          "name": "stdout",
          "text": [
            "['I', 'F', 'M', 'Length', 'Diameter', 'Height', 'Whole weight']\n"
          ]
        },
        {
          "output_type": "execute_result",
          "data": {
            "text/plain": [
              "  Sex  Length  Diameter  Height  Whole weight  Shucked weight  Viscera weight  \\\n",
              "0   M   0.455     0.365   0.095        0.5140          0.2245          0.1010   \n",
              "1   M   0.350     0.265   0.090        0.2255          0.0995          0.0485   \n",
              "2   F   0.530     0.420   0.135        0.6770          0.2565          0.1415   \n",
              "3   M   0.440     0.365   0.125        0.5160          0.2155          0.1140   \n",
              "4   I   0.330     0.255   0.080        0.2050          0.0895          0.0395   \n",
              "\n",
              "   Shell weights  Rings  Old  \n",
              "0          0.150     15    1  \n",
              "1          0.070      7    0  \n",
              "2          0.210      9    0  \n",
              "3          0.155     10    1  \n",
              "4          0.055      7    0  "
            ],
            "text/html": [
              "\n",
              "  <div id=\"df-32d56378-9c95-44df-9185-6bc650fd1599\">\n",
              "    <div class=\"colab-df-container\">\n",
              "      <div>\n",
              "<style scoped>\n",
              "    .dataframe tbody tr th:only-of-type {\n",
              "        vertical-align: middle;\n",
              "    }\n",
              "\n",
              "    .dataframe tbody tr th {\n",
              "        vertical-align: top;\n",
              "    }\n",
              "\n",
              "    .dataframe thead th {\n",
              "        text-align: right;\n",
              "    }\n",
              "</style>\n",
              "<table border=\"1\" class=\"dataframe\">\n",
              "  <thead>\n",
              "    <tr style=\"text-align: right;\">\n",
              "      <th></th>\n",
              "      <th>Sex</th>\n",
              "      <th>Length</th>\n",
              "      <th>Diameter</th>\n",
              "      <th>Height</th>\n",
              "      <th>Whole weight</th>\n",
              "      <th>Shucked weight</th>\n",
              "      <th>Viscera weight</th>\n",
              "      <th>Shell weights</th>\n",
              "      <th>Rings</th>\n",
              "      <th>Old</th>\n",
              "    </tr>\n",
              "  </thead>\n",
              "  <tbody>\n",
              "    <tr>\n",
              "      <th>0</th>\n",
              "      <td>M</td>\n",
              "      <td>0.455</td>\n",
              "      <td>0.365</td>\n",
              "      <td>0.095</td>\n",
              "      <td>0.5140</td>\n",
              "      <td>0.2245</td>\n",
              "      <td>0.1010</td>\n",
              "      <td>0.150</td>\n",
              "      <td>15</td>\n",
              "      <td>1</td>\n",
              "    </tr>\n",
              "    <tr>\n",
              "      <th>1</th>\n",
              "      <td>M</td>\n",
              "      <td>0.350</td>\n",
              "      <td>0.265</td>\n",
              "      <td>0.090</td>\n",
              "      <td>0.2255</td>\n",
              "      <td>0.0995</td>\n",
              "      <td>0.0485</td>\n",
              "      <td>0.070</td>\n",
              "      <td>7</td>\n",
              "      <td>0</td>\n",
              "    </tr>\n",
              "    <tr>\n",
              "      <th>2</th>\n",
              "      <td>F</td>\n",
              "      <td>0.530</td>\n",
              "      <td>0.420</td>\n",
              "      <td>0.135</td>\n",
              "      <td>0.6770</td>\n",
              "      <td>0.2565</td>\n",
              "      <td>0.1415</td>\n",
              "      <td>0.210</td>\n",
              "      <td>9</td>\n",
              "      <td>0</td>\n",
              "    </tr>\n",
              "    <tr>\n",
              "      <th>3</th>\n",
              "      <td>M</td>\n",
              "      <td>0.440</td>\n",
              "      <td>0.365</td>\n",
              "      <td>0.125</td>\n",
              "      <td>0.5160</td>\n",
              "      <td>0.2155</td>\n",
              "      <td>0.1140</td>\n",
              "      <td>0.155</td>\n",
              "      <td>10</td>\n",
              "      <td>1</td>\n",
              "    </tr>\n",
              "    <tr>\n",
              "      <th>4</th>\n",
              "      <td>I</td>\n",
              "      <td>0.330</td>\n",
              "      <td>0.255</td>\n",
              "      <td>0.080</td>\n",
              "      <td>0.2050</td>\n",
              "      <td>0.0895</td>\n",
              "      <td>0.0395</td>\n",
              "      <td>0.055</td>\n",
              "      <td>7</td>\n",
              "      <td>0</td>\n",
              "    </tr>\n",
              "  </tbody>\n",
              "</table>\n",
              "</div>\n",
              "      <button class=\"colab-df-convert\" onclick=\"convertToInteractive('df-32d56378-9c95-44df-9185-6bc650fd1599')\"\n",
              "              title=\"Convert this dataframe to an interactive table.\"\n",
              "              style=\"display:none;\">\n",
              "        \n",
              "  <svg xmlns=\"http://www.w3.org/2000/svg\" height=\"24px\"viewBox=\"0 0 24 24\"\n",
              "       width=\"24px\">\n",
              "    <path d=\"M0 0h24v24H0V0z\" fill=\"none\"/>\n",
              "    <path d=\"M18.56 5.44l.94 2.06.94-2.06 2.06-.94-2.06-.94-.94-2.06-.94 2.06-2.06.94zm-11 1L8.5 8.5l.94-2.06 2.06-.94-2.06-.94L8.5 2.5l-.94 2.06-2.06.94zm10 10l.94 2.06.94-2.06 2.06-.94-2.06-.94-.94-2.06-.94 2.06-2.06.94z\"/><path d=\"M17.41 7.96l-1.37-1.37c-.4-.4-.92-.59-1.43-.59-.52 0-1.04.2-1.43.59L10.3 9.45l-7.72 7.72c-.78.78-.78 2.05 0 2.83L4 21.41c.39.39.9.59 1.41.59.51 0 1.02-.2 1.41-.59l7.78-7.78 2.81-2.81c.8-.78.8-2.07 0-2.86zM5.41 20L4 18.59l7.72-7.72 1.47 1.35L5.41 20z\"/>\n",
              "  </svg>\n",
              "      </button>\n",
              "      \n",
              "  <style>\n",
              "    .colab-df-container {\n",
              "      display:flex;\n",
              "      flex-wrap:wrap;\n",
              "      gap: 12px;\n",
              "    }\n",
              "\n",
              "    .colab-df-convert {\n",
              "      background-color: #E8F0FE;\n",
              "      border: none;\n",
              "      border-radius: 50%;\n",
              "      cursor: pointer;\n",
              "      display: none;\n",
              "      fill: #1967D2;\n",
              "      height: 32px;\n",
              "      padding: 0 0 0 0;\n",
              "      width: 32px;\n",
              "    }\n",
              "\n",
              "    .colab-df-convert:hover {\n",
              "      background-color: #E2EBFA;\n",
              "      box-shadow: 0px 1px 2px rgba(60, 64, 67, 0.3), 0px 1px 3px 1px rgba(60, 64, 67, 0.15);\n",
              "      fill: #174EA6;\n",
              "    }\n",
              "\n",
              "    [theme=dark] .colab-df-convert {\n",
              "      background-color: #3B4455;\n",
              "      fill: #D2E3FC;\n",
              "    }\n",
              "\n",
              "    [theme=dark] .colab-df-convert:hover {\n",
              "      background-color: #434B5C;\n",
              "      box-shadow: 0px 1px 3px 1px rgba(0, 0, 0, 0.15);\n",
              "      filter: drop-shadow(0px 1px 2px rgba(0, 0, 0, 0.3));\n",
              "      fill: #FFFFFF;\n",
              "    }\n",
              "  </style>\n",
              "\n",
              "      <script>\n",
              "        const buttonEl =\n",
              "          document.querySelector('#df-32d56378-9c95-44df-9185-6bc650fd1599 button.colab-df-convert');\n",
              "        buttonEl.style.display =\n",
              "          google.colab.kernel.accessAllowed ? 'block' : 'none';\n",
              "\n",
              "        async function convertToInteractive(key) {\n",
              "          const element = document.querySelector('#df-32d56378-9c95-44df-9185-6bc650fd1599');\n",
              "          const dataTable =\n",
              "            await google.colab.kernel.invokeFunction('convertToInteractive',\n",
              "                                                     [key], {});\n",
              "          if (!dataTable) return;\n",
              "\n",
              "          const docLinkHtml = 'Like what you see? Visit the ' +\n",
              "            '<a target=\"_blank\" href=https://colab.research.google.com/notebooks/data_table.ipynb>data table notebook</a>'\n",
              "            + ' to learn more about interactive tables.';\n",
              "          element.innerHTML = '';\n",
              "          dataTable['output_type'] = 'display_data';\n",
              "          await google.colab.output.renderOutput(dataTable, element);\n",
              "          const docLink = document.createElement('div');\n",
              "          docLink.innerHTML = docLinkHtml;\n",
              "          element.appendChild(docLink);\n",
              "        }\n",
              "      </script>\n",
              "    </div>\n",
              "  </div>\n",
              "  "
            ]
          },
          "metadata": {},
          "execution_count": 36
        }
      ],
      "source": [
        "encoded_feature_columns = encoded_column_names[1:8]\n",
        "print(encoded_feature_columns)\n",
        "label_column = 'Old'\n",
        "\n",
        "df.head()"
      ]
    },
    {
      "cell_type": "markdown",
      "metadata": {
        "id": "61Ms5ZOI0W06"
      },
      "source": [
        "### Train-Validation-Test Split and Standardization\n",
        "\n",
        "Again we want to perform a Train-Validation-Test split on our dataset. However, we want to make sure that we don't perform standardization on our new features that are one-hot encodings!"
      ]
    },
    {
      "cell_type": "code",
      "execution_count": null,
      "metadata": {
        "id": "hWrfoPZd05BZ"
      },
      "outputs": [],
      "source": [
        "# Here we will use the ColumnTransformer to perform datastandardization again. However we are only performing this standardization on the numerical features,\n",
        "# NOT the one hot encoded features, so we specify that in the constructor of the ColumnTransformer.\n",
        "ct = ColumnTransformer([('numerical_features', StandardScaler(), numerical_feature_columns)], remainder='passthrough')\n",
        "\n",
        "encoded_train_dataset, encoded_test_dataset, encoded_val_dataset = train_test_val_split(encoded_df, encoded_feature_columns, label_column, ct)"
      ]
    },
    {
      "cell_type": "markdown",
      "metadata": {
        "id": "aDiYLEKX7mKz"
      },
      "source": [
        "### Model Hyperparameters and Definition"
      ]
    },
    {
      "cell_type": "code",
      "execution_count": null,
      "metadata": {
        "id": "Sh48ywI6-0ax"
      },
      "outputs": [],
      "source": [
        "# device config (train our model on GPU if it is available which is much faster)\n",
        "device = torch.device('cuda' if torch.cuda.is_available() else 'cpu')\n",
        "\n",
        "# hyperparameters\n",
        "\n",
        "input_size = len(encoded_feature_columns) # make sure our input size includes the new features\n",
        "hidden_size1 = 64\n",
        "hidden_size2 = 64\n",
        "hidden_size3 = 64\n",
        "num_classes = 2\n",
        "\n",
        "# external training parameters\n",
        "batch_size = 10\n",
        "learning_rate = 0.001\n",
        "num_epochs = 50\n"
      ]
    },
    {
      "cell_type": "code",
      "execution_count": null,
      "metadata": {
        "colab": {
          "base_uri": "https://localhost:8080/"
        },
        "id": "5bKw6_N2-_-h",
        "outputId": "aa1e9c79-d4c3-4c77-aaf5-d2bf980cd098"
      },
      "outputs": [
        {
          "output_type": "stream",
          "name": "stdout",
          "text": [
            "SimpleClassifier3Layer(\n",
            "  (layers): Sequential(\n",
            "    (0): Linear(in_features=7, out_features=64, bias=True)\n",
            "    (1): ReLU()\n",
            "    (2): Linear(in_features=64, out_features=64, bias=True)\n",
            "    (3): ReLU()\n",
            "    (4): Linear(in_features=64, out_features=64, bias=True)\n",
            "    (5): ReLU()\n",
            "    (6): Linear(in_features=64, out_features=2, bias=True)\n",
            "  )\n",
            ")\n"
          ]
        }
      ],
      "source": [
        "three_layer_encoded_model = SimpleClassifier3Layer(input_size, hidden_size1, hidden_size2, hidden_size3, num_classes).to(device)\n",
        "print(three_layer_encoded_model)"
      ]
    },
    {
      "cell_type": "markdown",
      "metadata": {
        "id": "dLpVue4k7sDM"
      },
      "source": [
        "### Final Data Preparation"
      ]
    },
    {
      "cell_type": "code",
      "execution_count": null,
      "metadata": {
        "colab": {
          "base_uri": "https://localhost:8080/"
        },
        "id": "v_x4P5X6-Ylq",
        "outputId": "282b84be-e6e9-4ad3-c784-c744e44e054e"
      },
      "outputs": [
        {
          "output_type": "stream",
          "name": "stdout",
          "text": [
            "dataset_sizes = {'train': 2506, 'val': 836, 'test': 835}\n"
          ]
        }
      ],
      "source": [
        "# Set up pytorch Datasets and DataLoaders\n",
        "\n",
        "dataloaders = {'train': DataLoader(encoded_train_dataset, batch_size=batch_size),\n",
        "               'val': DataLoader(encoded_val_dataset, batch_size=batch_size),\n",
        "               'test': DataLoader(encoded_test_dataset, batch_size=batch_size)}\n",
        "\n",
        "dataset_sizes = {'train': len(encoded_train_dataset),\n",
        "                 'val': len(encoded_val_dataset),\n",
        "                 'test': len(encoded_test_dataset)}\n",
        "print(f'dataset_sizes = {dataset_sizes}')"
      ]
    },
    {
      "cell_type": "code",
      "execution_count": null,
      "metadata": {
        "colab": {
          "base_uri": "https://localhost:8080/"
        },
        "id": "u8YeIhjR-efP",
        "outputId": "26c1d4c4-7968-4da2-bd4d-8a3ad9c48684"
      },
      "outputs": [
        {
          "output_type": "stream",
          "name": "stdout",
          "text": [
            "\n",
            "Epoch 1/50\n",
            "----------\n",
            "train Loss: 0.5322 Acc: 0.7306\n",
            "val   Loss: 0.4440 Acc: 0.7859\n",
            "test  Loss: 0.5125 Acc: 0.7305\n",
            "\n",
            "Epoch 2/50\n",
            "----------\n",
            "train Loss: 0.5052 Acc: 0.7422\n",
            "val   Loss: 0.4396 Acc: 0.7907\n",
            "test  Loss: 0.5072 Acc: 0.7281\n",
            "\n",
            "Epoch 3/50\n",
            "----------\n",
            "train Loss: 0.4990 Acc: 0.7470\n",
            "val   Loss: 0.4391 Acc: 0.7859\n",
            "test  Loss: 0.5054 Acc: 0.7210\n",
            "\n",
            "Epoch 4/50\n",
            "----------\n",
            "train Loss: 0.4929 Acc: 0.7462\n",
            "val   Loss: 0.4360 Acc: 0.7931\n",
            "test  Loss: 0.5040 Acc: 0.7234\n",
            "\n",
            "Epoch 5/50\n",
            "----------\n",
            "train Loss: 0.4906 Acc: 0.7454\n",
            "val   Loss: 0.4357 Acc: 0.7955\n",
            "test  Loss: 0.5038 Acc: 0.7246\n",
            "\n",
            "Epoch 6/50\n",
            "----------\n",
            "train Loss: 0.4885 Acc: 0.7446\n",
            "val   Loss: 0.4353 Acc: 0.7955\n",
            "test  Loss: 0.5040 Acc: 0.7257\n",
            "\n",
            "Epoch 7/50\n",
            "----------\n",
            "train Loss: 0.4869 Acc: 0.7466\n",
            "val   Loss: 0.4350 Acc: 0.7967\n",
            "test  Loss: 0.5039 Acc: 0.7234\n",
            "\n",
            "Epoch 8/50\n",
            "----------\n",
            "train Loss: 0.4852 Acc: 0.7466\n",
            "val   Loss: 0.4347 Acc: 0.8002\n",
            "test  Loss: 0.5043 Acc: 0.7257\n",
            "\n",
            "Epoch 9/50\n",
            "----------\n",
            "train Loss: 0.4839 Acc: 0.7474\n",
            "val   Loss: 0.4348 Acc: 0.7990\n",
            "test  Loss: 0.5045 Acc: 0.7269\n",
            "\n",
            "Epoch 10/50\n",
            "----------\n",
            "train Loss: 0.4825 Acc: 0.7462\n",
            "val   Loss: 0.4347 Acc: 0.7990\n",
            "test  Loss: 0.5046 Acc: 0.7269\n",
            "\n",
            "Epoch 11/50\n",
            "----------\n",
            "train Loss: 0.4814 Acc: 0.7462\n",
            "val   Loss: 0.4353 Acc: 0.7990\n",
            "test  Loss: 0.5049 Acc: 0.7222\n",
            "\n",
            "Epoch 12/50\n",
            "----------\n",
            "train Loss: 0.4803 Acc: 0.7474\n",
            "val   Loss: 0.4356 Acc: 0.8002\n",
            "test  Loss: 0.5053 Acc: 0.7234\n",
            "\n",
            "Epoch 13/50\n",
            "----------\n",
            "train Loss: 0.4793 Acc: 0.7490\n",
            "val   Loss: 0.4360 Acc: 0.8038\n",
            "test  Loss: 0.5054 Acc: 0.7222\n",
            "\n",
            "Epoch 14/50\n",
            "----------\n",
            "train Loss: 0.4783 Acc: 0.7506\n",
            "val   Loss: 0.4362 Acc: 0.8038\n",
            "test  Loss: 0.5058 Acc: 0.7198\n",
            "\n",
            "Epoch 15/50\n",
            "----------\n",
            "train Loss: 0.4775 Acc: 0.7522\n",
            "val   Loss: 0.4365 Acc: 0.8062\n",
            "test  Loss: 0.5062 Acc: 0.7174\n",
            "\n",
            "Epoch 16/50\n",
            "----------\n",
            "train Loss: 0.4766 Acc: 0.7518\n",
            "val   Loss: 0.4370 Acc: 0.8014\n",
            "test  Loss: 0.5066 Acc: 0.7210\n",
            "\n",
            "Epoch 17/50\n",
            "----------\n",
            "train Loss: 0.4759 Acc: 0.7518\n",
            "val   Loss: 0.4373 Acc: 0.8014\n",
            "test  Loss: 0.5066 Acc: 0.7210\n",
            "\n",
            "Epoch 18/50\n",
            "----------\n",
            "train Loss: 0.4751 Acc: 0.7530\n",
            "val   Loss: 0.4377 Acc: 0.8002\n",
            "test  Loss: 0.5069 Acc: 0.7198\n",
            "\n",
            "Epoch 19/50\n",
            "----------\n",
            "train Loss: 0.4744 Acc: 0.7534\n",
            "val   Loss: 0.4381 Acc: 0.7967\n",
            "test  Loss: 0.5071 Acc: 0.7186\n",
            "\n",
            "Epoch 20/50\n",
            "----------\n",
            "train Loss: 0.4737 Acc: 0.7538\n",
            "val   Loss: 0.4383 Acc: 0.7967\n",
            "test  Loss: 0.5073 Acc: 0.7210\n",
            "\n",
            "Epoch 21/50\n",
            "----------\n",
            "train Loss: 0.4731 Acc: 0.7566\n",
            "val   Loss: 0.4387 Acc: 0.7955\n",
            "test  Loss: 0.5075 Acc: 0.7246\n",
            "\n",
            "Epoch 22/50\n",
            "----------\n",
            "train Loss: 0.4724 Acc: 0.7554\n",
            "val   Loss: 0.4388 Acc: 0.7978\n",
            "test  Loss: 0.5077 Acc: 0.7234\n",
            "\n",
            "Epoch 23/50\n",
            "----------\n",
            "train Loss: 0.4718 Acc: 0.7562\n",
            "val   Loss: 0.4389 Acc: 0.7990\n",
            "test  Loss: 0.5080 Acc: 0.7234\n",
            "\n",
            "Epoch 24/50\n",
            "----------\n",
            "train Loss: 0.4713 Acc: 0.7558\n",
            "val   Loss: 0.4389 Acc: 0.7990\n",
            "test  Loss: 0.5081 Acc: 0.7234\n",
            "\n",
            "Epoch 25/50\n",
            "----------\n",
            "train Loss: 0.4708 Acc: 0.7554\n",
            "val   Loss: 0.4390 Acc: 0.7990\n",
            "test  Loss: 0.5085 Acc: 0.7246\n",
            "\n",
            "Epoch 26/50\n",
            "----------\n",
            "train Loss: 0.4702 Acc: 0.7554\n",
            "val   Loss: 0.4389 Acc: 0.7990\n",
            "test  Loss: 0.5088 Acc: 0.7257\n",
            "\n",
            "Epoch 27/50\n",
            "----------\n",
            "train Loss: 0.4698 Acc: 0.7558\n",
            "val   Loss: 0.4390 Acc: 0.8002\n",
            "test  Loss: 0.5091 Acc: 0.7281\n",
            "\n",
            "Epoch 28/50\n",
            "----------\n",
            "train Loss: 0.4694 Acc: 0.7566\n",
            "val   Loss: 0.4390 Acc: 0.7990\n",
            "test  Loss: 0.5093 Acc: 0.7269\n",
            "\n",
            "Epoch 29/50\n",
            "----------\n",
            "train Loss: 0.4689 Acc: 0.7566\n",
            "val   Loss: 0.4392 Acc: 0.7990\n",
            "test  Loss: 0.5096 Acc: 0.7269\n",
            "\n",
            "Epoch 30/50\n",
            "----------\n",
            "train Loss: 0.4686 Acc: 0.7578\n",
            "val   Loss: 0.4391 Acc: 0.7990\n",
            "test  Loss: 0.5099 Acc: 0.7246\n",
            "\n",
            "Epoch 31/50\n",
            "----------\n",
            "train Loss: 0.4681 Acc: 0.7590\n",
            "val   Loss: 0.4392 Acc: 0.7990\n",
            "test  Loss: 0.5101 Acc: 0.7234\n",
            "\n",
            "Epoch 32/50\n",
            "----------\n",
            "train Loss: 0.4678 Acc: 0.7590\n",
            "val   Loss: 0.4392 Acc: 0.8002\n",
            "test  Loss: 0.5104 Acc: 0.7234\n",
            "\n",
            "Epoch 33/50\n",
            "----------\n",
            "train Loss: 0.4674 Acc: 0.7586\n",
            "val   Loss: 0.4392 Acc: 0.8002\n",
            "test  Loss: 0.5106 Acc: 0.7246\n",
            "\n",
            "Epoch 34/50\n",
            "----------\n",
            "train Loss: 0.4671 Acc: 0.7594\n",
            "val   Loss: 0.4392 Acc: 0.8002\n",
            "test  Loss: 0.5108 Acc: 0.7246\n",
            "\n",
            "Epoch 35/50\n",
            "----------\n",
            "train Loss: 0.4668 Acc: 0.7582\n",
            "val   Loss: 0.4392 Acc: 0.7990\n",
            "test  Loss: 0.5110 Acc: 0.7246\n",
            "\n",
            "Epoch 36/50\n",
            "----------\n",
            "train Loss: 0.4664 Acc: 0.7590\n",
            "val   Loss: 0.4391 Acc: 0.7990\n",
            "test  Loss: 0.5112 Acc: 0.7246\n",
            "\n",
            "Epoch 37/50\n",
            "----------\n",
            "train Loss: 0.4662 Acc: 0.7594\n",
            "val   Loss: 0.4392 Acc: 0.7990\n",
            "test  Loss: 0.5115 Acc: 0.7246\n",
            "\n",
            "Epoch 38/50\n",
            "----------\n",
            "train Loss: 0.4659 Acc: 0.7610\n",
            "val   Loss: 0.4391 Acc: 0.7990\n",
            "test  Loss: 0.5117 Acc: 0.7257\n",
            "\n",
            "Epoch 39/50\n",
            "----------\n",
            "train Loss: 0.4656 Acc: 0.7614\n",
            "val   Loss: 0.4391 Acc: 0.7978\n",
            "test  Loss: 0.5119 Acc: 0.7257\n",
            "\n",
            "Epoch 40/50\n",
            "----------\n",
            "train Loss: 0.4653 Acc: 0.7618\n",
            "val   Loss: 0.4391 Acc: 0.7978\n",
            "test  Loss: 0.5121 Acc: 0.7246\n",
            "\n",
            "Epoch 41/50\n",
            "----------\n",
            "train Loss: 0.4650 Acc: 0.7618\n",
            "val   Loss: 0.4391 Acc: 0.7990\n",
            "test  Loss: 0.5123 Acc: 0.7246\n",
            "\n",
            "Epoch 42/50\n",
            "----------\n",
            "train Loss: 0.4648 Acc: 0.7630\n",
            "val   Loss: 0.4391 Acc: 0.7990\n",
            "test  Loss: 0.5125 Acc: 0.7246\n",
            "\n",
            "Epoch 43/50\n",
            "----------\n",
            "train Loss: 0.4646 Acc: 0.7634\n",
            "val   Loss: 0.4390 Acc: 0.7990\n",
            "test  Loss: 0.5127 Acc: 0.7234\n",
            "\n",
            "Epoch 44/50\n",
            "----------\n",
            "train Loss: 0.4644 Acc: 0.7634\n",
            "val   Loss: 0.4391 Acc: 0.7990\n",
            "test  Loss: 0.5129 Acc: 0.7257\n",
            "\n",
            "Epoch 45/50\n",
            "----------\n",
            "train Loss: 0.4641 Acc: 0.7630\n",
            "val   Loss: 0.4390 Acc: 0.8026\n",
            "test  Loss: 0.5130 Acc: 0.7269\n",
            "\n",
            "Epoch 46/50\n",
            "----------\n",
            "train Loss: 0.4639 Acc: 0.7618\n",
            "val   Loss: 0.4390 Acc: 0.8026\n",
            "test  Loss: 0.5132 Acc: 0.7269\n",
            "\n",
            "Epoch 47/50\n",
            "----------\n",
            "train Loss: 0.4637 Acc: 0.7622\n",
            "val   Loss: 0.4389 Acc: 0.8026\n",
            "test  Loss: 0.5134 Acc: 0.7269\n",
            "\n",
            "Epoch 48/50\n",
            "----------\n",
            "train Loss: 0.4635 Acc: 0.7618\n",
            "val   Loss: 0.4389 Acc: 0.8026\n",
            "test  Loss: 0.5136 Acc: 0.7269\n",
            "\n",
            "Epoch 49/50\n",
            "----------\n",
            "train Loss: 0.4633 Acc: 0.7630\n",
            "val   Loss: 0.4388 Acc: 0.8026\n",
            "test  Loss: 0.5138 Acc: 0.7281\n",
            "\n",
            "Epoch 50/50\n",
            "----------\n",
            "train Loss: 0.4631 Acc: 0.7634\n",
            "val   Loss: 0.4388 Acc: 0.8026\n",
            "test  Loss: 0.5140 Acc: 0.7281\n",
            "\n",
            "Training complete in 0m 22s\n",
            "Best val Acc: 0.806220 at epoch 14\n"
          ]
        }
      ],
      "source": [
        "# loss and optimizer\n",
        "criterion = nn.CrossEntropyLoss()\n",
        "optimizer = torch.optim.Adam(three_layer_encoded_model.parameters(), lr=learning_rate)\n",
        "scheduler = torch.optim.lr_scheduler.ExponentialLR(optimizer, gamma=0.95)\n",
        "\n",
        "three_layer_encoded_model, training_curves_three_layer_encoded = train_model(three_layer_encoded_model, dataloaders, dataset_sizes,\n",
        "                                     criterion, optimizer, scheduler, num_epochs=num_epochs)"
      ]
    },
    {
      "cell_type": "markdown",
      "metadata": {
        "id": "aZqikOnu7zOX"
      },
      "source": [
        "By including these new features we actually see little change in our overall performance which indicates that these new features are not offering a significant information gain."
      ]
    },
    {
      "cell_type": "markdown",
      "metadata": {
        "id": "mWMTZWLb8KIf"
      },
      "source": [
        "### Training Curves and Metrics"
      ]
    },
    {
      "cell_type": "code",
      "execution_count": null,
      "metadata": {
        "colab": {
          "base_uri": "https://localhost:8080/",
          "height": 573
        },
        "id": "eNiHfJg18l9Z",
        "outputId": "72a6f74e-ddc4-4e7b-f6ab-bd8ce34744fb"
      },
      "outputs": [
        {
          "output_type": "display_data",
          "data": {
            "text/plain": [
              "<Figure size 432x288 with 1 Axes>"
            ],
            "image/png": "[encoded data removed]"
          },
          "metadata": {
            "needs_background": "light"
          }
        },
        {
          "output_type": "display_data",
          "data": {
            "text/plain": [
              "<Figure size 432x288 with 1 Axes>"
            ],
            "image/png": "[encoded data removed]"
          },
          "metadata": {
            "needs_background": "light"
          }
        }
      ],
      "source": [
        "plot_training_curves(training_curves_three_layer_encoded, phases=['train', 'val', 'test'])"
      ]
    },
    {
      "cell_type": "markdown",
      "source": [
        "Additionally, it looks like our model is still overfitting to the dataset based on these graphs."
      ],
      "metadata": {
        "id": "_cqJ5x8b6TxW"
      }
    },
    {
      "cell_type": "code",
      "execution_count": null,
      "metadata": {
        "colab": {
          "base_uri": "https://localhost:8080/",
          "height": 973
        },
        "id": "YsuYM0en8voG",
        "outputId": "7e92d7d7-08b5-44c9-e474-07803568c14a"
      },
      "outputs": [
        {
          "output_type": "stream",
          "name": "stdout",
          "text": [
            "\n",
            "At default threshold:\n",
            " TN =   259,  FP =   142 -> N =   401\n",
            " FN =    94,  TP =   340 -> P =   434\n",
            "TNR = 0.646, FPR = 0.354\n",
            "FNR = 0.217, TPR = 0.783\n",
            "ACC =  0.717\n"
          ]
        },
        {
          "output_type": "display_data",
          "data": {
            "text/plain": [
              "<Figure size 432x288 with 1 Axes>"
            ],
            "image/png": "[encoded data removed]"
          },
          "metadata": {
            "needs_background": "light"
          }
        },
        {
          "output_type": "display_data",
          "data": {
            "text/plain": [
              "<Figure size 432x288 with 2 Axes>"
            ],
            "image/png": "[encoded data removed]"
          },
          "metadata": {
            "needs_background": "light"
          }
        },
        {
          "output_type": "display_data",
          "data": {
            "text/plain": [
              "<Figure size 432x288 with 2 Axes>"
            ],
            "image/png": "[encoded data removed]"
          },
          "metadata": {
            "needs_background": "light"
          }
        }
      ],
      "source": [
        "res = plot_metrics(three_layer_encoded_model, device, dataloaders, phase='test')"
      ]
    },
    {
      "cell_type": "markdown",
      "metadata": {
        "id": "_UdLrwahbEF0"
      },
      "source": [
        "## Regularization and Dropout\n",
        "\n",
        "One of the key things we talked about in this module were methods to avoid overfitting. Looking at the training graphs above, we can see that the model significantly overfit to the training dataset. In order to combat this, we have a few tools at our disposal.\n",
        "\n",
        "PyTorch has two of the methods we discussed, Regularization and Dropout built in! We will examine how both of these affects the performance of the model."
      ]
    },
    {
      "cell_type": "markdown",
      "metadata": {
        "id": "eKy0vUu29r0K"
      },
      "source": [
        "### Regularization"
      ]
    },
    {
      "cell_type": "code",
      "execution_count": null,
      "metadata": {
        "colab": {
          "base_uri": "https://localhost:8080/"
        },
        "id": "XYw5YCRQ9K9K",
        "outputId": "b7d8a59e-adf2-4f6f-9a9b-0e504ce35a03"
      },
      "outputs": [
        {
          "output_type": "stream",
          "name": "stdout",
          "text": [
            "SimpleClassifier3Layer(\n",
            "  (layers): Sequential(\n",
            "    (0): Linear(in_features=7, out_features=64, bias=True)\n",
            "    (1): ReLU()\n",
            "    (2): Linear(in_features=64, out_features=64, bias=True)\n",
            "    (3): ReLU()\n",
            "    (4): Linear(in_features=64, out_features=64, bias=True)\n",
            "    (5): ReLU()\n",
            "    (6): Linear(in_features=64, out_features=2, bias=True)\n",
            "  )\n",
            ")\n"
          ]
        }
      ],
      "source": [
        "# Reset the model\n",
        "three_layer_encoded_l2_model = SimpleClassifier3Layer(input_size, hidden_size1, hidden_size2, hidden_size3,\n",
        "                         num_classes).to(device)\n",
        "print(three_layer_encoded_l2_model)"
      ]
    },
    {
      "cell_type": "code",
      "execution_count": null,
      "metadata": {
        "colab": {
          "base_uri": "https://localhost:8080/"
        },
        "id": "JyhpMfgBb94D",
        "outputId": "759416b8-48f3-482e-f3aa-59f4d1a233de"
      },
      "outputs": [
        {
          "output_type": "stream",
          "name": "stdout",
          "text": [
            "\n",
            "Epoch 1/50\n",
            "----------\n",
            "train Loss: 0.5367 Acc: 0.7330\n",
            "val   Loss: 0.4566 Acc: 0.7787\n",
            "test  Loss: 0.5196 Acc: 0.7281\n",
            "\n",
            "Epoch 2/50\n",
            "----------\n",
            "train Loss: 0.5135 Acc: 0.7410\n",
            "val   Loss: 0.4544 Acc: 0.7823\n",
            "test  Loss: 0.5168 Acc: 0.7246\n",
            "\n",
            "Epoch 3/50\n",
            "----------\n",
            "train Loss: 0.5111 Acc: 0.7434\n",
            "val   Loss: 0.4543 Acc: 0.7823\n",
            "test  Loss: 0.5163 Acc: 0.7269\n",
            "\n",
            "Epoch 4/50\n",
            "----------\n",
            "train Loss: 0.5098 Acc: 0.7438\n",
            "val   Loss: 0.4544 Acc: 0.7835\n",
            "test  Loss: 0.5162 Acc: 0.7269\n",
            "\n",
            "Epoch 5/50\n",
            "----------\n",
            "train Loss: 0.5089 Acc: 0.7454\n",
            "val   Loss: 0.4546 Acc: 0.7895\n",
            "test  Loss: 0.5159 Acc: 0.7281\n",
            "\n",
            "Epoch 6/50\n",
            "----------\n",
            "train Loss: 0.5082 Acc: 0.7454\n",
            "val   Loss: 0.4549 Acc: 0.7907\n",
            "test  Loss: 0.5158 Acc: 0.7269\n",
            "\n",
            "Epoch 7/50\n",
            "----------\n",
            "train Loss: 0.5076 Acc: 0.7462\n",
            "val   Loss: 0.4552 Acc: 0.7907\n",
            "test  Loss: 0.5158 Acc: 0.7257\n",
            "\n",
            "Epoch 8/50\n",
            "----------\n",
            "train Loss: 0.5071 Acc: 0.7466\n",
            "val   Loss: 0.4552 Acc: 0.7931\n",
            "test  Loss: 0.5156 Acc: 0.7293\n",
            "\n",
            "Epoch 9/50\n",
            "----------\n",
            "train Loss: 0.5066 Acc: 0.7474\n",
            "val   Loss: 0.4553 Acc: 0.7919\n",
            "test  Loss: 0.5155 Acc: 0.7293\n",
            "\n",
            "Epoch 10/50\n",
            "----------\n",
            "train Loss: 0.5062 Acc: 0.7478\n",
            "val   Loss: 0.4555 Acc: 0.7895\n",
            "test  Loss: 0.5155 Acc: 0.7293\n",
            "\n",
            "Epoch 11/50\n",
            "----------\n",
            "train Loss: 0.5058 Acc: 0.7478\n",
            "val   Loss: 0.4556 Acc: 0.7895\n",
            "test  Loss: 0.5155 Acc: 0.7281\n",
            "\n",
            "Epoch 12/50\n",
            "----------\n",
            "train Loss: 0.5055 Acc: 0.7482\n",
            "val   Loss: 0.4555 Acc: 0.7895\n",
            "test  Loss: 0.5155 Acc: 0.7281\n",
            "\n",
            "Epoch 13/50\n",
            "----------\n",
            "train Loss: 0.5052 Acc: 0.7482\n",
            "val   Loss: 0.4554 Acc: 0.7895\n",
            "test  Loss: 0.5154 Acc: 0.7293\n",
            "\n",
            "Epoch 14/50\n",
            "----------\n",
            "train Loss: 0.5050 Acc: 0.7486\n",
            "val   Loss: 0.4554 Acc: 0.7895\n",
            "test  Loss: 0.5153 Acc: 0.7293\n",
            "\n",
            "Epoch 15/50\n",
            "----------\n",
            "train Loss: 0.5047 Acc: 0.7482\n",
            "val   Loss: 0.4554 Acc: 0.7895\n",
            "test  Loss: 0.5154 Acc: 0.7293\n",
            "\n",
            "Epoch 16/50\n",
            "----------\n",
            "train Loss: 0.5045 Acc: 0.7486\n",
            "val   Loss: 0.4553 Acc: 0.7907\n",
            "test  Loss: 0.5153 Acc: 0.7293\n",
            "\n",
            "Epoch 17/50\n",
            "----------\n",
            "train Loss: 0.5043 Acc: 0.7470\n",
            "val   Loss: 0.4552 Acc: 0.7907\n",
            "test  Loss: 0.5151 Acc: 0.7293\n",
            "\n",
            "Epoch 18/50\n",
            "----------\n",
            "train Loss: 0.5041 Acc: 0.7478\n",
            "val   Loss: 0.4550 Acc: 0.7907\n",
            "test  Loss: 0.5150 Acc: 0.7305\n",
            "\n",
            "Epoch 19/50\n",
            "----------\n",
            "train Loss: 0.5039 Acc: 0.7486\n",
            "val   Loss: 0.4548 Acc: 0.7907\n",
            "test  Loss: 0.5150 Acc: 0.7305\n",
            "\n",
            "Epoch 20/50\n",
            "----------\n",
            "train Loss: 0.5037 Acc: 0.7494\n",
            "val   Loss: 0.4545 Acc: 0.7919\n",
            "test  Loss: 0.5149 Acc: 0.7317\n",
            "\n",
            "Epoch 21/50\n",
            "----------\n",
            "train Loss: 0.5035 Acc: 0.7494\n",
            "val   Loss: 0.4543 Acc: 0.7919\n",
            "test  Loss: 0.5147 Acc: 0.7317\n",
            "\n",
            "Epoch 22/50\n",
            "----------\n",
            "train Loss: 0.5033 Acc: 0.7502\n",
            "val   Loss: 0.4540 Acc: 0.7919\n",
            "test  Loss: 0.5146 Acc: 0.7317\n",
            "\n",
            "Epoch 23/50\n",
            "----------\n",
            "train Loss: 0.5032 Acc: 0.7498\n",
            "val   Loss: 0.4536 Acc: 0.7931\n",
            "test  Loss: 0.5144 Acc: 0.7305\n",
            "\n",
            "Epoch 24/50\n",
            "----------\n",
            "train Loss: 0.5030 Acc: 0.7498\n",
            "val   Loss: 0.4532 Acc: 0.7931\n",
            "test  Loss: 0.5143 Acc: 0.7317\n",
            "\n",
            "Epoch 25/50\n",
            "----------\n",
            "train Loss: 0.5029 Acc: 0.7502\n",
            "val   Loss: 0.4529 Acc: 0.7931\n",
            "test  Loss: 0.5142 Acc: 0.7317\n",
            "\n",
            "Epoch 26/50\n",
            "----------\n",
            "train Loss: 0.5027 Acc: 0.7498\n",
            "val   Loss: 0.4525 Acc: 0.7931\n",
            "test  Loss: 0.5140 Acc: 0.7305\n",
            "\n",
            "Epoch 27/50\n",
            "----------\n",
            "train Loss: 0.5025 Acc: 0.7498\n",
            "val   Loss: 0.4522 Acc: 0.7931\n",
            "test  Loss: 0.5138 Acc: 0.7317\n",
            "\n",
            "Epoch 28/50\n",
            "----------\n",
            "train Loss: 0.5024 Acc: 0.7510\n",
            "val   Loss: 0.4517 Acc: 0.7931\n",
            "test  Loss: 0.5137 Acc: 0.7329\n",
            "\n",
            "Epoch 29/50\n",
            "----------\n",
            "train Loss: 0.5022 Acc: 0.7514\n",
            "val   Loss: 0.4514 Acc: 0.7931\n",
            "test  Loss: 0.5135 Acc: 0.7329\n",
            "\n",
            "Epoch 30/50\n",
            "----------\n",
            "train Loss: 0.5021 Acc: 0.7518\n",
            "val   Loss: 0.4510 Acc: 0.7931\n",
            "test  Loss: 0.5134 Acc: 0.7329\n",
            "\n",
            "Epoch 31/50\n",
            "----------\n",
            "train Loss: 0.5020 Acc: 0.7518\n",
            "val   Loss: 0.4507 Acc: 0.7931\n",
            "test  Loss: 0.5133 Acc: 0.7329\n",
            "\n",
            "Epoch 32/50\n",
            "----------\n",
            "train Loss: 0.5019 Acc: 0.7518\n",
            "val   Loss: 0.4504 Acc: 0.7931\n",
            "test  Loss: 0.5131 Acc: 0.7329\n",
            "\n",
            "Epoch 33/50\n",
            "----------\n",
            "train Loss: 0.5018 Acc: 0.7518\n",
            "val   Loss: 0.4501 Acc: 0.7931\n",
            "test  Loss: 0.5130 Acc: 0.7329\n",
            "\n",
            "Epoch 34/50\n",
            "----------\n",
            "train Loss: 0.5017 Acc: 0.7522\n",
            "val   Loss: 0.4497 Acc: 0.7931\n",
            "test  Loss: 0.5129 Acc: 0.7329\n",
            "\n",
            "Epoch 35/50\n",
            "----------\n",
            "train Loss: 0.5016 Acc: 0.7526\n",
            "val   Loss: 0.4494 Acc: 0.7931\n",
            "test  Loss: 0.5128 Acc: 0.7329\n",
            "\n",
            "Epoch 36/50\n",
            "----------\n",
            "train Loss: 0.5015 Acc: 0.7526\n",
            "val   Loss: 0.4491 Acc: 0.7931\n",
            "test  Loss: 0.5127 Acc: 0.7329\n",
            "\n",
            "Epoch 37/50\n",
            "----------\n",
            "train Loss: 0.5014 Acc: 0.7526\n",
            "val   Loss: 0.4489 Acc: 0.7931\n",
            "test  Loss: 0.5126 Acc: 0.7329\n",
            "\n",
            "Epoch 38/50\n",
            "----------\n",
            "train Loss: 0.5013 Acc: 0.7530\n",
            "val   Loss: 0.4486 Acc: 0.7931\n",
            "test  Loss: 0.5125 Acc: 0.7329\n",
            "\n",
            "Epoch 39/50\n",
            "----------\n",
            "train Loss: 0.5012 Acc: 0.7530\n",
            "val   Loss: 0.4484 Acc: 0.7931\n",
            "test  Loss: 0.5125 Acc: 0.7329\n",
            "\n",
            "Epoch 40/50\n",
            "----------\n",
            "train Loss: 0.5012 Acc: 0.7530\n",
            "val   Loss: 0.4481 Acc: 0.7931\n",
            "test  Loss: 0.5124 Acc: 0.7329\n",
            "\n",
            "Epoch 41/50\n",
            "----------\n",
            "train Loss: 0.5011 Acc: 0.7530\n",
            "val   Loss: 0.4479 Acc: 0.7931\n",
            "test  Loss: 0.5123 Acc: 0.7329\n",
            "\n",
            "Epoch 42/50\n",
            "----------\n",
            "train Loss: 0.5010 Acc: 0.7534\n",
            "val   Loss: 0.4477 Acc: 0.7931\n",
            "test  Loss: 0.5123 Acc: 0.7329\n",
            "\n",
            "Epoch 43/50\n",
            "----------\n",
            "train Loss: 0.5009 Acc: 0.7538\n",
            "val   Loss: 0.4475 Acc: 0.7931\n",
            "test  Loss: 0.5122 Acc: 0.7329\n",
            "\n",
            "Epoch 44/50\n",
            "----------\n",
            "train Loss: 0.5009 Acc: 0.7538\n",
            "val   Loss: 0.4473 Acc: 0.7931\n",
            "test  Loss: 0.5122 Acc: 0.7329\n",
            "\n",
            "Epoch 45/50\n",
            "----------\n",
            "train Loss: 0.5008 Acc: 0.7546\n",
            "val   Loss: 0.4471 Acc: 0.7931\n",
            "test  Loss: 0.5121 Acc: 0.7329\n",
            "\n",
            "Epoch 46/50\n",
            "----------\n",
            "train Loss: 0.5007 Acc: 0.7546\n",
            "val   Loss: 0.4469 Acc: 0.7931\n",
            "test  Loss: 0.5121 Acc: 0.7329\n",
            "\n",
            "Epoch 47/50\n",
            "----------\n",
            "train Loss: 0.5007 Acc: 0.7542\n",
            "val   Loss: 0.4467 Acc: 0.7931\n",
            "test  Loss: 0.5120 Acc: 0.7329\n",
            "\n",
            "Epoch 48/50\n",
            "----------\n",
            "train Loss: 0.5006 Acc: 0.7546\n",
            "val   Loss: 0.4465 Acc: 0.7931\n",
            "test  Loss: 0.5120 Acc: 0.7329\n",
            "\n",
            "Epoch 49/50\n",
            "----------\n",
            "train Loss: 0.5006 Acc: 0.7542\n",
            "val   Loss: 0.4464 Acc: 0.7931\n",
            "test  Loss: 0.5120 Acc: 0.7329\n",
            "\n",
            "Epoch 50/50\n",
            "----------\n",
            "train Loss: 0.5005 Acc: 0.7542\n",
            "val   Loss: 0.4462 Acc: 0.7919\n",
            "test  Loss: 0.5119 Acc: 0.7329\n",
            "\n",
            "Training complete in 0m 30s\n",
            "Best val Acc: 0.793062 at epoch 7\n"
          ]
        }
      ],
      "source": [
        "# loss and optimizer\n",
        "criterion = nn.CrossEntropyLoss()\n",
        "# By adding a weight_decay term to the optimizer, we are including L2 Regularization!\n",
        "optimizer = torch.optim.Adam(three_layer_encoded_l2_model.parameters(), lr=learning_rate, weight_decay=0.01)\n",
        "scheduler = torch.optim.lr_scheduler.ExponentialLR(optimizer, gamma=0.95)\n",
        "\n",
        "three_layer_encoded_l2_model, training_curves_three_layer_encoded_l2 = train_model(three_layer_encoded_l2_model, dataloaders, dataset_sizes,\n",
        "                                     criterion, optimizer, scheduler, num_epochs=num_epochs)"
      ]
    },
    {
      "cell_type": "markdown",
      "metadata": {
        "id": "RLGfeHwH_aSJ"
      },
      "source": [
        "#### Training Curves and Metrics"
      ]
    },
    {
      "cell_type": "code",
      "execution_count": null,
      "metadata": {
        "id": "njHLc4qN_dHZ",
        "outputId": "633db5d2-bf98-44d2-e90c-f4a90917bcfe",
        "colab": {
          "base_uri": "https://localhost:8080/",
          "height": 573
        }
      },
      "outputs": [
        {
          "output_type": "display_data",
          "data": {
            "text/plain": [
              "<Figure size 432x288 with 1 Axes>"
            ],
            "image/png": "[encoded data removed]"
          },
          "metadata": {
            "needs_background": "light"
          }
        },
        {
          "output_type": "display_data",
          "data": {
            "text/plain": [
              "<Figure size 432x288 with 1 Axes>"
            ],
            "image/png": "[encoded data removed]"
          },
          "metadata": {
            "needs_background": "light"
          }
        }
      ],
      "source": [
        "plot_training_curves(training_curves_three_layer_encoded_l2, phases=['train', 'val', 'test'])"
      ]
    },
    {
      "cell_type": "markdown",
      "source": [
        "Looking at the graphs above we do not see the same overfitting behavior to the validation set, however there are still other methods we can use to improve generalization even further."
      ],
      "metadata": {
        "id": "KHa91PNn7BYb"
      }
    },
    {
      "cell_type": "code",
      "execution_count": null,
      "metadata": {
        "id": "Kg3klkzl_g1Q",
        "outputId": "489e9aca-dc62-422a-e157-a4b418abffbf",
        "colab": {
          "base_uri": "https://localhost:8080/",
          "height": 973
        }
      },
      "outputs": [
        {
          "output_type": "stream",
          "name": "stdout",
          "text": [
            "\n",
            "At default threshold:\n",
            " TN =   249,  FP =   152 -> N =   401\n",
            " FN =    74,  TP =   360 -> P =   434\n",
            "TNR = 0.621, FPR = 0.379\n",
            "FNR = 0.171, TPR = 0.829\n",
            "ACC =  0.729\n"
          ]
        },
        {
          "output_type": "display_data",
          "data": {
            "text/plain": [
              "<Figure size 432x288 with 1 Axes>"
            ],
            "image/png": "[encoded data removed]"
          },
          "metadata": {
            "needs_background": "light"
          }
        },
        {
          "output_type": "display_data",
          "data": {
            "text/plain": [
              "<Figure size 432x288 with 2 Axes>"
            ],
            "image/png": "[encoded data removed]"
          },
          "metadata": {
            "needs_background": "light"
          }
        },
        {
          "output_type": "display_data",
          "data": {
            "text/plain": [
              "<Figure size 432x288 with 2 Axes>"
            ],
            "image/png": "[encoded data removed]"
          },
          "metadata": {
            "needs_background": "light"
          }
        }
      ],
      "source": [
        "res = plot_metrics(three_layer_encoded_l2_model, device, dataloaders, phase='test')"
      ]
    },
    {
      "cell_type": "markdown",
      "metadata": {
        "id": "rZrzXg0c9uoY"
      },
      "source": [
        "### Dropout"
      ]
    },
    {
      "cell_type": "code",
      "execution_count": null,
      "metadata": {
        "id": "s8mcxTej-uiX"
      },
      "outputs": [],
      "source": [
        "# device config (train our model on GPU if it is available which is much faster)\n",
        "device = torch.device('cuda' if torch.cuda.is_available() else 'cpu')\n",
        "\n",
        "# hyperparameters\n",
        "\n",
        "# model architecture\n",
        "input_size = len(encoded_feature_columns)\n",
        "hidden_size1 = 64\n",
        "hidden_size2 = 64\n",
        "hidden_size3 = 64\n",
        "num_classes = 2\n",
        "dropout = .25\n",
        "\n",
        "# external training parameters\n",
        "batch_size = 10\n",
        "learning_rate = 0.001\n",
        "num_epochs = 50"
      ]
    },
    {
      "cell_type": "code",
      "execution_count": null,
      "metadata": {
        "id": "O5GqsKCR9x6l"
      },
      "outputs": [],
      "source": [
        "# Simple three-hidden-layer classification model with dropout\n",
        "class SimpleClassifier3LayerDropout(nn.Module):\n",
        "    def __init__(self, input_size, hidden_size1, hidden_size2, hidden_size3, num_classes, dropout):\n",
        "        super(SimpleClassifier3LayerDropout, self).__init__()\n",
        "        self.dropout = nn.Dropout(dropout) # dropout rate\n",
        "        self.layers = nn.Sequential(\n",
        "            nn.Linear(input_size, hidden_size1),\n",
        "            nn.ReLU(),\n",
        "            self.dropout,\n",
        "            nn.Linear(hidden_size1, hidden_size2),\n",
        "            nn.ReLU(),\n",
        "            self.dropout,\n",
        "            nn.Linear(hidden_size2, hidden_size3),\n",
        "            nn.ReLU(),\n",
        "            self.dropout,\n",
        "            nn.Linear(hidden_size3, num_classes),\n",
        "        )\n",
        "\n",
        "    def forward(self, x):\n",
        "        return self.layers(x)"
      ]
    },
    {
      "cell_type": "code",
      "execution_count": null,
      "metadata": {
        "colab": {
          "base_uri": "https://localhost:8080/"
        },
        "id": "UX1eBlH9--Ga",
        "outputId": "19844e92-d23a-47b7-98b0-c7c60167f932"
      },
      "outputs": [
        {
          "output_type": "stream",
          "name": "stdout",
          "text": [
            "SimpleClassifier3LayerDropout(\n",
            "  (dropout): Dropout(p=0.25, inplace=False)\n",
            "  (layers): Sequential(\n",
            "    (0): Linear(in_features=7, out_features=64, bias=True)\n",
            "    (1): ReLU()\n",
            "    (2): Dropout(p=0.25, inplace=False)\n",
            "    (3): Linear(in_features=64, out_features=64, bias=True)\n",
            "    (4): ReLU()\n",
            "    (5): Dropout(p=0.25, inplace=False)\n",
            "    (6): Linear(in_features=64, out_features=64, bias=True)\n",
            "    (7): ReLU()\n",
            "    (8): Dropout(p=0.25, inplace=False)\n",
            "    (9): Linear(in_features=64, out_features=2, bias=True)\n",
            "  )\n",
            ")\n"
          ]
        }
      ],
      "source": [
        "# Reset the model with dropout\n",
        "three_layer_encoded_l2_dropout_model = SimpleClassifier3LayerDropout(input_size, hidden_size1, hidden_size2, hidden_size3,\n",
        "                         num_classes, dropout).to(device)\n",
        "print(three_layer_encoded_l2_dropout_model)"
      ]
    },
    {
      "cell_type": "code",
      "execution_count": null,
      "metadata": {
        "colab": {
          "base_uri": "https://localhost:8080/"
        },
        "id": "FQEtWMhf_S5d",
        "outputId": "fbd71b33-3c8f-4cb2-a856-b2d3042a37e0"
      },
      "outputs": [
        {
          "output_type": "stream",
          "name": "stdout",
          "text": [
            "\n",
            "Epoch 1/50\n",
            "----------\n",
            "train Loss: 0.5554 Acc: 0.7127\n",
            "val   Loss: 0.4603 Acc: 0.7775\n",
            "test  Loss: 0.5233 Acc: 0.7210\n",
            "\n",
            "Epoch 2/50\n",
            "----------\n",
            "train Loss: 0.5216 Acc: 0.7458\n",
            "val   Loss: 0.4589 Acc: 0.7823\n",
            "test  Loss: 0.5215 Acc: 0.7281\n",
            "\n",
            "Epoch 3/50\n",
            "----------\n",
            "train Loss: 0.5229 Acc: 0.7394\n",
            "val   Loss: 0.4572 Acc: 0.7871\n",
            "test  Loss: 0.5195 Acc: 0.7257\n",
            "\n",
            "Epoch 4/50\n",
            "----------\n",
            "train Loss: 0.5178 Acc: 0.7454\n",
            "val   Loss: 0.4597 Acc: 0.7835\n",
            "test  Loss: 0.5206 Acc: 0.7293\n",
            "\n",
            "Epoch 5/50\n",
            "----------\n",
            "train Loss: 0.5174 Acc: 0.7442\n",
            "val   Loss: 0.4619 Acc: 0.7931\n",
            "test  Loss: 0.5200 Acc: 0.7246\n",
            "\n",
            "Epoch 6/50\n",
            "----------\n",
            "train Loss: 0.5198 Acc: 0.7462\n",
            "val   Loss: 0.4608 Acc: 0.7919\n",
            "test  Loss: 0.5199 Acc: 0.7246\n",
            "\n",
            "Epoch 7/50\n",
            "----------\n",
            "train Loss: 0.5143 Acc: 0.7434\n",
            "val   Loss: 0.4572 Acc: 0.7883\n",
            "test  Loss: 0.5181 Acc: 0.7281\n",
            "\n",
            "Epoch 8/50\n",
            "----------\n",
            "train Loss: 0.5124 Acc: 0.7458\n",
            "val   Loss: 0.4536 Acc: 0.7871\n",
            "test  Loss: 0.5170 Acc: 0.7281\n",
            "\n",
            "Epoch 9/50\n",
            "----------\n",
            "train Loss: 0.5115 Acc: 0.7442\n",
            "val   Loss: 0.4570 Acc: 0.7907\n",
            "test  Loss: 0.5178 Acc: 0.7281\n",
            "\n",
            "Epoch 10/50\n",
            "----------\n",
            "train Loss: 0.5162 Acc: 0.7454\n",
            "val   Loss: 0.4587 Acc: 0.7955\n",
            "test  Loss: 0.5176 Acc: 0.7317\n",
            "\n",
            "Epoch 11/50\n",
            "----------\n",
            "train Loss: 0.5098 Acc: 0.7514\n",
            "val   Loss: 0.4586 Acc: 0.7895\n",
            "test  Loss: 0.5179 Acc: 0.7293\n",
            "\n",
            "Epoch 12/50\n",
            "----------\n",
            "train Loss: 0.5118 Acc: 0.7470\n",
            "val   Loss: 0.4579 Acc: 0.7931\n",
            "test  Loss: 0.5169 Acc: 0.7293\n",
            "\n",
            "Epoch 13/50\n",
            "----------\n",
            "train Loss: 0.5144 Acc: 0.7446\n",
            "val   Loss: 0.4602 Acc: 0.7907\n",
            "test  Loss: 0.5184 Acc: 0.7293\n",
            "\n",
            "Epoch 14/50\n",
            "----------\n",
            "train Loss: 0.5127 Acc: 0.7478\n",
            "val   Loss: 0.4645 Acc: 0.7895\n",
            "test  Loss: 0.5206 Acc: 0.7257\n",
            "\n",
            "Epoch 15/50\n",
            "----------\n",
            "train Loss: 0.5133 Acc: 0.7482\n",
            "val   Loss: 0.4572 Acc: 0.7895\n",
            "test  Loss: 0.5174 Acc: 0.7281\n",
            "\n",
            "Epoch 16/50\n",
            "----------\n",
            "train Loss: 0.5125 Acc: 0.7506\n",
            "val   Loss: 0.4585 Acc: 0.7931\n",
            "test  Loss: 0.5175 Acc: 0.7293\n",
            "\n",
            "Epoch 17/50\n",
            "----------\n",
            "train Loss: 0.5137 Acc: 0.7462\n",
            "val   Loss: 0.4600 Acc: 0.7943\n",
            "test  Loss: 0.5180 Acc: 0.7305\n",
            "\n",
            "Epoch 18/50\n",
            "----------\n",
            "train Loss: 0.5100 Acc: 0.7466\n",
            "val   Loss: 0.4564 Acc: 0.7943\n",
            "test  Loss: 0.5168 Acc: 0.7305\n",
            "\n",
            "Epoch 19/50\n",
            "----------\n",
            "train Loss: 0.5115 Acc: 0.7462\n",
            "val   Loss: 0.4583 Acc: 0.7943\n",
            "test  Loss: 0.5173 Acc: 0.7281\n",
            "\n",
            "Epoch 20/50\n",
            "----------\n",
            "train Loss: 0.5097 Acc: 0.7474\n",
            "val   Loss: 0.4564 Acc: 0.7895\n",
            "test  Loss: 0.5167 Acc: 0.7281\n",
            "\n",
            "Epoch 21/50\n",
            "----------\n",
            "train Loss: 0.5101 Acc: 0.7494\n",
            "val   Loss: 0.4587 Acc: 0.7943\n",
            "test  Loss: 0.5173 Acc: 0.7257\n",
            "\n",
            "Epoch 22/50\n",
            "----------\n",
            "train Loss: 0.5096 Acc: 0.7470\n",
            "val   Loss: 0.4569 Acc: 0.7955\n",
            "test  Loss: 0.5164 Acc: 0.7269\n",
            "\n",
            "Epoch 23/50\n",
            "----------\n",
            "train Loss: 0.5139 Acc: 0.7474\n",
            "val   Loss: 0.4582 Acc: 0.7943\n",
            "test  Loss: 0.5170 Acc: 0.7281\n",
            "\n",
            "Epoch 24/50\n",
            "----------\n",
            "train Loss: 0.5102 Acc: 0.7482\n",
            "val   Loss: 0.4561 Acc: 0.7943\n",
            "test  Loss: 0.5164 Acc: 0.7269\n",
            "\n",
            "Epoch 25/50\n",
            "----------\n",
            "train Loss: 0.5088 Acc: 0.7494\n",
            "val   Loss: 0.4561 Acc: 0.7907\n",
            "test  Loss: 0.5161 Acc: 0.7269\n",
            "\n",
            "Epoch 26/50\n",
            "----------\n",
            "train Loss: 0.5113 Acc: 0.7490\n",
            "val   Loss: 0.4564 Acc: 0.7907\n",
            "test  Loss: 0.5161 Acc: 0.7246\n",
            "\n",
            "Epoch 27/50\n",
            "----------\n",
            "train Loss: 0.5097 Acc: 0.7474\n",
            "val   Loss: 0.4554 Acc: 0.7943\n",
            "test  Loss: 0.5155 Acc: 0.7222\n",
            "\n",
            "Epoch 28/50\n",
            "----------\n",
            "train Loss: 0.5132 Acc: 0.7470\n",
            "val   Loss: 0.4538 Acc: 0.7907\n",
            "test  Loss: 0.5151 Acc: 0.7246\n",
            "\n",
            "Epoch 29/50\n",
            "----------\n",
            "train Loss: 0.5082 Acc: 0.7474\n",
            "val   Loss: 0.4545 Acc: 0.7895\n",
            "test  Loss: 0.5155 Acc: 0.7293\n",
            "\n",
            "Epoch 30/50\n",
            "----------\n",
            "train Loss: 0.5137 Acc: 0.7502\n",
            "val   Loss: 0.4555 Acc: 0.7919\n",
            "test  Loss: 0.5159 Acc: 0.7281\n",
            "\n",
            "Epoch 31/50\n",
            "----------\n",
            "train Loss: 0.5115 Acc: 0.7482\n",
            "val   Loss: 0.4544 Acc: 0.7931\n",
            "test  Loss: 0.5155 Acc: 0.7293\n",
            "\n",
            "Epoch 32/50\n",
            "----------\n",
            "train Loss: 0.5130 Acc: 0.7466\n",
            "val   Loss: 0.4540 Acc: 0.7931\n",
            "test  Loss: 0.5156 Acc: 0.7281\n",
            "\n",
            "Epoch 33/50\n",
            "----------\n",
            "train Loss: 0.5128 Acc: 0.7466\n",
            "val   Loss: 0.4525 Acc: 0.7931\n",
            "test  Loss: 0.5152 Acc: 0.7293\n",
            "\n",
            "Epoch 34/50\n",
            "----------\n",
            "train Loss: 0.5092 Acc: 0.7502\n",
            "val   Loss: 0.4508 Acc: 0.7907\n",
            "test  Loss: 0.5146 Acc: 0.7305\n",
            "\n",
            "Epoch 35/50\n",
            "----------\n",
            "train Loss: 0.5119 Acc: 0.7478\n",
            "val   Loss: 0.4509 Acc: 0.7931\n",
            "test  Loss: 0.5146 Acc: 0.7293\n",
            "\n",
            "Epoch 36/50\n",
            "----------\n",
            "train Loss: 0.5102 Acc: 0.7502\n",
            "val   Loss: 0.4515 Acc: 0.7931\n",
            "test  Loss: 0.5146 Acc: 0.7329\n",
            "\n",
            "Epoch 37/50\n",
            "----------\n",
            "train Loss: 0.5090 Acc: 0.7466\n",
            "val   Loss: 0.4513 Acc: 0.7931\n",
            "test  Loss: 0.5142 Acc: 0.7329\n",
            "\n",
            "Epoch 38/50\n",
            "----------\n",
            "train Loss: 0.5099 Acc: 0.7518\n",
            "val   Loss: 0.4519 Acc: 0.7943\n",
            "test  Loss: 0.5146 Acc: 0.7329\n",
            "\n",
            "Epoch 39/50\n",
            "----------\n",
            "train Loss: 0.5075 Acc: 0.7502\n",
            "val   Loss: 0.4500 Acc: 0.7931\n",
            "test  Loss: 0.5138 Acc: 0.7317\n",
            "\n",
            "Epoch 40/50\n",
            "----------\n",
            "train Loss: 0.5102 Acc: 0.7510\n",
            "val   Loss: 0.4504 Acc: 0.7931\n",
            "test  Loss: 0.5138 Acc: 0.7305\n",
            "\n",
            "Epoch 41/50\n",
            "----------\n",
            "train Loss: 0.5103 Acc: 0.7486\n",
            "val   Loss: 0.4496 Acc: 0.7931\n",
            "test  Loss: 0.5139 Acc: 0.7317\n",
            "\n",
            "Epoch 42/50\n",
            "----------\n",
            "train Loss: 0.5105 Acc: 0.7502\n",
            "val   Loss: 0.4510 Acc: 0.7931\n",
            "test  Loss: 0.5141 Acc: 0.7305\n",
            "\n",
            "Epoch 43/50\n",
            "----------\n",
            "train Loss: 0.5118 Acc: 0.7506\n",
            "val   Loss: 0.4507 Acc: 0.7931\n",
            "test  Loss: 0.5140 Acc: 0.7329\n",
            "\n",
            "Epoch 44/50\n",
            "----------\n",
            "train Loss: 0.5087 Acc: 0.7494\n",
            "val   Loss: 0.4499 Acc: 0.7943\n",
            "test  Loss: 0.5138 Acc: 0.7329\n",
            "\n",
            "Epoch 45/50\n",
            "----------\n",
            "train Loss: 0.5103 Acc: 0.7514\n",
            "val   Loss: 0.4506 Acc: 0.7943\n",
            "test  Loss: 0.5138 Acc: 0.7329\n",
            "\n",
            "Epoch 46/50\n",
            "----------\n",
            "train Loss: 0.5126 Acc: 0.7490\n",
            "val   Loss: 0.4500 Acc: 0.7931\n",
            "test  Loss: 0.5138 Acc: 0.7293\n",
            "\n",
            "Epoch 47/50\n",
            "----------\n",
            "train Loss: 0.5092 Acc: 0.7534\n",
            "val   Loss: 0.4501 Acc: 0.7943\n",
            "test  Loss: 0.5137 Acc: 0.7317\n",
            "\n",
            "Epoch 48/50\n",
            "----------\n",
            "train Loss: 0.5074 Acc: 0.7514\n",
            "val   Loss: 0.4493 Acc: 0.7943\n",
            "test  Loss: 0.5136 Acc: 0.7329\n",
            "\n",
            "Epoch 49/50\n",
            "----------\n",
            "train Loss: 0.5086 Acc: 0.7498\n",
            "val   Loss: 0.4492 Acc: 0.7931\n",
            "test  Loss: 0.5136 Acc: 0.7317\n",
            "\n",
            "Epoch 50/50\n",
            "----------\n",
            "train Loss: 0.5139 Acc: 0.7542\n",
            "val   Loss: 0.4500 Acc: 0.7943\n",
            "test  Loss: 0.5138 Acc: 0.7329\n",
            "\n",
            "Training complete in 0m 33s\n",
            "Best val Acc: 0.795455 at epoch 9\n"
          ]
        }
      ],
      "source": [
        "# loss and optimizer\n",
        "criterion = nn.CrossEntropyLoss()\n",
        "# By adding a weight_decay term to the optimizer, we are including L2 Regularization!\n",
        "optimizer = torch.optim.Adam(three_layer_encoded_l2_dropout_model.parameters(), lr=learning_rate, weight_decay=1e-2)\n",
        "scheduler = torch.optim.lr_scheduler.ExponentialLR(optimizer, gamma=0.95)\n",
        "\n",
        "three_layer_encoded_l2_dropout_model, training_curves_three_layer_encoded_l2_dropout = train_model(three_layer_encoded_l2_dropout_model, dataloaders, dataset_sizes,\n",
        "                                     criterion, optimizer, scheduler, num_epochs=num_epochs)"
      ]
    },
    {
      "cell_type": "markdown",
      "source": [
        "In this case, including dropout seemed to only make a little change in our overall accuracy. Considering this is a relatively simple deep model (especially compared to some of the Vision focused nets we will be seeing in the future), this is not entirely unexpected and dropout may not be the best choice for this problem. However let's investigate the training curves below."
      ],
      "metadata": {
        "id": "niKRS6plB0oK"
      }
    },
    {
      "cell_type": "markdown",
      "metadata": {
        "id": "-Vwmj4mS_wFg"
      },
      "source": [
        "#### Training Curves and Metrics"
      ]
    },
    {
      "cell_type": "code",
      "execution_count": null,
      "metadata": {
        "colab": {
          "base_uri": "https://localhost:8080/",
          "height": 573
        },
        "id": "BlAXVB9K_0BL",
        "outputId": "eba1875a-1b71-4479-f69a-e6256771fb8b"
      },
      "outputs": [
        {
          "output_type": "display_data",
          "data": {
            "text/plain": [
              "<Figure size 432x288 with 1 Axes>"
            ],
            "image/png": "[encoded data removed]"
          },
          "metadata": {
            "needs_background": "light"
          }
        },
        {
          "output_type": "display_data",
          "data": {
            "text/plain": [
              "<Figure size 432x288 with 1 Axes>"
            ],
            "image/png": "[encoded data removed]"
          },
          "metadata": {
            "needs_background": "light"
          }
        }
      ],
      "source": [
        "plot_training_curves(training_curves_three_layer_encoded_l2_dropout, phases=['train', 'val', 'test'])"
      ]
    },
    {
      "cell_type": "markdown",
      "source": [
        "Looking at these curves, we can see that including dropout improved the generalization of our model and kept us from overfitting!"
      ],
      "metadata": {
        "id": "PR6ZQHdvc_a8"
      }
    },
    {
      "cell_type": "code",
      "execution_count": null,
      "metadata": {
        "id": "-TJEtJEZ_zcI",
        "outputId": "9c007fb5-a4cf-4a22-e663-d4254ec4d703",
        "colab": {
          "base_uri": "https://localhost:8080/",
          "height": 973
        }
      },
      "outputs": [
        {
          "output_type": "stream",
          "name": "stdout",
          "text": [
            "\n",
            "At default threshold:\n",
            " TN =   244,  FP =   157 -> N =   401\n",
            " FN =    67,  TP =   367 -> P =   434\n",
            "TNR = 0.608, FPR = 0.392\n",
            "FNR = 0.154, TPR = 0.846\n",
            "ACC =  0.732\n"
          ]
        },
        {
          "output_type": "display_data",
          "data": {
            "text/plain": [
              "<Figure size 432x288 with 1 Axes>"
            ],
            "image/png": "[encoded data removed]"
          },
          "metadata": {
            "needs_background": "light"
          }
        },
        {
          "output_type": "display_data",
          "data": {
            "text/plain": [
              "<Figure size 432x288 with 2 Axes>"
            ],
            "image/png": "[encoded data removed]"
          },
          "metadata": {
            "needs_background": "light"
          }
        },
        {
          "output_type": "display_data",
          "data": {
            "text/plain": [
              "<Figure size 432x288 with 2 Axes>"
            ],
            "image/png": "[encoded data removed]"
          },
          "metadata": {
            "needs_background": "light"
          }
        }
      ],
      "source": [
        "res = plot_metrics(three_layer_encoded_l2_dropout_model, device, dataloaders, phase='test')"
      ]
    },
    {
      "cell_type": "markdown",
      "metadata": {
        "id": "jj4YLMee_gi-"
      },
      "source": [
        "## Regression Model\n",
        "\n",
        "Now instead of just doing a binary classification on whether an abalone is young or old - we want to predict the exact number of rings! We can easily adapt our model to perform this regression task instead!"
      ]
    },
    {
      "cell_type": "markdown",
      "metadata": {
        "id": "vB63dPX2AZo0"
      },
      "source": [
        "### Dataset Preparation"
      ]
    },
    {
      "cell_type": "code",
      "execution_count": null,
      "metadata": {
        "colab": {
          "base_uri": "https://localhost:8080/"
        },
        "id": "v5ejpQhL_pKb",
        "outputId": "6adb748d-8825-4295-d63c-17d43836cd94"
      },
      "outputs": [
        {
          "output_type": "execute_result",
          "data": {
            "text/plain": [
              "Sex                object\n",
              "I                   int64\n",
              "F                   int64\n",
              "M                   int64\n",
              "Length            float64\n",
              "Diameter          float64\n",
              "Height            float64\n",
              "Whole weight      float64\n",
              "Shucked weight    float64\n",
              "Viscera weight    float64\n",
              "Shell weights     float64\n",
              "Rings             float32\n",
              "Old                 int64\n",
              "dtype: object"
            ]
          },
          "metadata": {},
          "execution_count": 54
        }
      ],
      "source": [
        "regression_label_column = 'Rings' # just switch the label column!\n",
        "# Rings needs to be float as well, otherwise our Loss Function won't work\n",
        "encoded_df[regression_label_column] = encoded_df[regression_label_column].astype('float32')\n",
        "encoded_df.dtypes"
      ]
    },
    {
      "cell_type": "markdown",
      "metadata": {
        "id": "byhGjrLHAgg1"
      },
      "source": [
        "### Train-Validation-Test Split and Standardization"
      ]
    },
    {
      "cell_type": "code",
      "execution_count": null,
      "metadata": {
        "id": "bmjBPOI-AoE1"
      },
      "outputs": [],
      "source": [
        "ct = ColumnTransformer([('numerical_features', StandardScaler(), numerical_feature_columns)], remainder='passthrough')\n",
        "\n",
        "regression_train_dataset, regression_test_dataset, regression_val_dataset = train_test_val_split(encoded_df, encoded_feature_columns, regression_label_column, ct)"
      ]
    },
    {
      "cell_type": "markdown",
      "metadata": {
        "id": "X9HJLfwdAsda"
      },
      "source": [
        "### Model Hyperparameters and Definition"
      ]
    },
    {
      "cell_type": "code",
      "execution_count": null,
      "metadata": {
        "id": "enydwYGrAHlr"
      },
      "outputs": [],
      "source": [
        "# device config (train our model on GPU if it is available which is much faster)\n",
        "device = torch.device('cuda' if torch.cuda.is_available() else 'cpu')\n",
        "\n",
        "# hyperparameters\n",
        "\n",
        "# model architecture\n",
        "input_size = len(encoded_feature_columns)\n",
        "hidden_size1 = 64\n",
        "hidden_size2 = 64\n",
        "hidden_size3 = 64\n",
        "output_neurons = 1\n",
        "dropout = .25\n",
        "\n",
        "# external training parameters\n",
        "batch_size = 10\n",
        "learning_rate = 0.001\n",
        "num_epochs = 50"
      ]
    },
    {
      "cell_type": "code",
      "execution_count": null,
      "metadata": {
        "id": "YXJt8d1VhCGw"
      },
      "outputs": [],
      "source": [
        "# Simple three-hidden-layer regression model with dropout\n",
        "class SimpleRegressor(nn.Module):\n",
        "    def __init__(self, input_size, hidden_size1, hidden_size2, hidden_size3, output_neurons, dropout):\n",
        "        super(SimpleRegressor, self).__init__()\n",
        "        self.dropout = nn.Dropout(dropout) # dropout rate\n",
        "        self.layers = nn.Sequential(\n",
        "            nn.Linear(input_size, hidden_size1),\n",
        "            nn.ReLU(),\n",
        "            self.dropout,\n",
        "            nn.Linear(hidden_size1, hidden_size2),\n",
        "            nn.ReLU(),\n",
        "            self.dropout,\n",
        "            nn.Linear(hidden_size2, hidden_size3),\n",
        "            nn.ReLU(),\n",
        "            self.dropout,\n",
        "            nn.Linear(hidden_size3, output_neurons),\n",
        "        )\n",
        "\n",
        "    def forward(self, x):\n",
        "        return self.layers(x)"
      ]
    },
    {
      "cell_type": "code",
      "execution_count": null,
      "metadata": {
        "colab": {
          "base_uri": "https://localhost:8080/"
        },
        "id": "JW6TSNg_hj6b",
        "outputId": "8d6ccc8b-5069-4ea3-a5b3-b621dde5453f"
      },
      "outputs": [
        {
          "output_type": "stream",
          "name": "stdout",
          "text": [
            "SimpleRegressor(\n",
            "  (dropout): Dropout(p=0.25, inplace=False)\n",
            "  (layers): Sequential(\n",
            "    (0): Linear(in_features=7, out_features=64, bias=True)\n",
            "    (1): ReLU()\n",
            "    (2): Dropout(p=0.25, inplace=False)\n",
            "    (3): Linear(in_features=64, out_features=64, bias=True)\n",
            "    (4): ReLU()\n",
            "    (5): Dropout(p=0.25, inplace=False)\n",
            "    (6): Linear(in_features=64, out_features=64, bias=True)\n",
            "    (7): ReLU()\n",
            "    (8): Dropout(p=0.25, inplace=False)\n",
            "    (9): Linear(in_features=64, out_features=1, bias=True)\n",
            "  )\n",
            ")\n"
          ]
        }
      ],
      "source": [
        "regression_model = SimpleRegressor(input_size, hidden_size1, hidden_size2, hidden_size3, output_neurons, dropout).to(device)\n",
        "print(regression_model)"
      ]
    },
    {
      "cell_type": "markdown",
      "metadata": {
        "id": "YcrIz-FtBdTU"
      },
      "source": [
        "### Final Data Preparation"
      ]
    },
    {
      "cell_type": "code",
      "execution_count": null,
      "metadata": {
        "colab": {
          "base_uri": "https://localhost:8080/"
        },
        "id": "qRIi6ojCAKRM",
        "outputId": "6ec6216d-4d5b-401b-bed6-33a48a134b83"
      },
      "outputs": [
        {
          "output_type": "stream",
          "name": "stdout",
          "text": [
            "dataset_sizes = {'train': 2506, 'val': 836, 'test': 835}\n"
          ]
        }
      ],
      "source": [
        "# Set up pytorch Datasets and DataLoaders\n",
        "\n",
        "dataloaders = {'train': DataLoader(regression_train_dataset, batch_size=batch_size),\n",
        "               'val': DataLoader(regression_val_dataset, batch_size=batch_size),\n",
        "               'test': DataLoader(regression_test_dataset, batch_size=batch_size)}\n",
        "\n",
        "dataset_sizes = {'train': len(regression_train_dataset),\n",
        "                 'val': len(regression_val_dataset),\n",
        "                 'test': len(regression_test_dataset)}\n",
        "print(f'dataset_sizes = {dataset_sizes}')"
      ]
    },
    {
      "cell_type": "markdown",
      "metadata": {
        "id": "B1fa2a5dBva5"
      },
      "source": [
        "### Training the Model\n",
        "\n",
        "We will augment the training procedure from before to now fit our regression problem"
      ]
    },
    {
      "cell_type": "code",
      "execution_count": null,
      "metadata": {
        "id": "5XNyz6pNh86x"
      },
      "outputs": [],
      "source": [
        "# From https://pytorch.org/tutorials/beginner/transfer_learning_tutorial.html\n",
        "\n",
        "def train_regression_model(model, dataloaders, dataset_sizes, criterion, optimizer, scheduler, num_epochs=25):\n",
        "    since = time.time()\n",
        "\n",
        "    best_model_wts = copy.deepcopy(model.state_dict())\n",
        "    best_loss = np.inf\n",
        "    best_epoch = 0\n",
        "\n",
        "    # Each epoch has a training, validation, and test phase\n",
        "    phases = ['train', 'val', 'test']\n",
        "\n",
        "    # Keep track of how loss and accuracy evolves during training\n",
        "    training_curves = {}\n",
        "    for phase in phases:\n",
        "        training_curves[phase+'_loss'] = []\n",
        "\n",
        "    for epoch in range(num_epochs):\n",
        "        print(f'\\nEpoch {epoch+1}/{num_epochs}')\n",
        "        print('-' * 10)\n",
        "\n",
        "        for phase in phases:\n",
        "            if phase == 'train':\n",
        "                model.train()  # Set model to training mode\n",
        "            else:\n",
        "                model.eval()   # Set model to evaluate mode\n",
        "\n",
        "            running_loss = 0.0\n",
        "\n",
        "            # Iterate over data.\n",
        "            for inputs, targets in dataloaders[phase]:\n",
        "                inputs = inputs.to(device)\n",
        "                targets = targets.to(device) #\n",
        "\n",
        "                # zero the parameter gradients\n",
        "                optimizer.zero_grad()\n",
        "\n",
        "                # forward\n",
        "                with torch.set_grad_enabled(phase == 'train'):\n",
        "                    outputs = torch.flatten(model(inputs))\n",
        "                    loss = criterion(outputs, targets)\n",
        "\n",
        "                    # backward + update weights only if in training phase\n",
        "                    if phase == 'train':\n",
        "                        loss.backward()\n",
        "                        optimizer.step()\n",
        "\n",
        "                # statistics\n",
        "                running_loss += loss.item() * inputs.size(0)\n",
        "\n",
        "            if phase == 'train':\n",
        "                scheduler.step()\n",
        "\n",
        "            epoch_loss = running_loss / dataset_sizes[phase]\n",
        "            training_curves[phase+'_loss'].append(epoch_loss)\n",
        "\n",
        "            print(f'{phase:5} Loss: {epoch_loss:.4f}')\n",
        "\n",
        "            # deep copy the model if it's the best accuracy (based on validation)\n",
        "            if phase == 'val' and epoch_loss < best_loss:\n",
        "                best_epoch = epoch\n",
        "                best_loss = epoch_loss\n",
        "                best_model_wts = copy.deepcopy(model.state_dict())\n",
        "\n",
        "    time_elapsed = time.time() - since\n",
        "    print(f'\\nTraining complete in {time_elapsed // 60:.0f}m {time_elapsed % 60:.0f}s')\n",
        "    print(f'Best val Loss: {best_loss:4f} at epoch {best_epoch}')\n",
        "\n",
        "    # load best model weights\n",
        "    model.load_state_dict(best_model_wts)\n",
        "\n",
        "    return model, training_curves"
      ]
    },
    {
      "cell_type": "code",
      "execution_count": null,
      "metadata": {
        "colab": {
          "base_uri": "https://localhost:8080/"
        },
        "id": "aB6OEYG8hseH",
        "outputId": "c0e8ad6c-b9cd-425f-fd97-3061bb30b164"
      },
      "outputs": [
        {
          "output_type": "stream",
          "name": "stdout",
          "text": [
            "\n",
            "Epoch 1/50\n",
            "----------\n",
            "train Loss: 26.4749\n",
            "val   Loss: 6.6037\n",
            "test  Loss: 5.9042\n",
            "\n",
            "Epoch 2/50\n",
            "----------\n",
            "train Loss: 12.8369\n",
            "val   Loss: 6.7384\n",
            "test  Loss: 5.6014\n",
            "\n",
            "Epoch 3/50\n",
            "----------\n",
            "train Loss: 10.9643\n",
            "val   Loss: 6.4257\n",
            "test  Loss: 5.5533\n",
            "\n",
            "Epoch 4/50\n",
            "----------\n",
            "train Loss: 10.3306\n",
            "val   Loss: 6.4179\n",
            "test  Loss: 5.8504\n",
            "\n",
            "Epoch 5/50\n",
            "----------\n",
            "train Loss: 9.1954\n",
            "val   Loss: 6.2432\n",
            "test  Loss: 5.6240\n",
            "\n",
            "Epoch 6/50\n",
            "----------\n",
            "train Loss: 9.1867\n",
            "val   Loss: 6.3400\n",
            "test  Loss: 5.5162\n",
            "\n",
            "Epoch 7/50\n",
            "----------\n",
            "train Loss: 8.9495\n",
            "val   Loss: 6.3010\n",
            "test  Loss: 5.4210\n",
            "\n",
            "Epoch 8/50\n",
            "----------\n",
            "train Loss: 8.6923\n",
            "val   Loss: 6.3305\n",
            "test  Loss: 5.4874\n",
            "\n",
            "Epoch 9/50\n",
            "----------\n",
            "train Loss: 8.6214\n",
            "val   Loss: 6.2656\n",
            "test  Loss: 5.5767\n",
            "\n",
            "Epoch 10/50\n",
            "----------\n",
            "train Loss: 8.6131\n",
            "val   Loss: 6.3528\n",
            "test  Loss: 5.3939\n",
            "\n",
            "Epoch 11/50\n",
            "----------\n",
            "train Loss: 8.4955\n",
            "val   Loss: 6.2509\n",
            "test  Loss: 5.4654\n",
            "\n",
            "Epoch 12/50\n",
            "----------\n",
            "train Loss: 8.2899\n",
            "val   Loss: 6.2406\n",
            "test  Loss: 5.4397\n",
            "\n",
            "Epoch 13/50\n",
            "----------\n",
            "train Loss: 8.5863\n",
            "val   Loss: 6.2361\n",
            "test  Loss: 5.3957\n",
            "\n",
            "Epoch 14/50\n",
            "----------\n",
            "train Loss: 8.2597\n",
            "val   Loss: 6.2427\n",
            "test  Loss: 5.3472\n",
            "\n",
            "Epoch 15/50\n",
            "----------\n",
            "train Loss: 8.4446\n",
            "val   Loss: 6.1548\n",
            "test  Loss: 5.4123\n",
            "\n",
            "Epoch 16/50\n",
            "----------\n",
            "train Loss: 8.2256\n",
            "val   Loss: 6.1895\n",
            "test  Loss: 5.3903\n",
            "\n",
            "Epoch 17/50\n",
            "----------\n",
            "train Loss: 8.1290\n",
            "val   Loss: 6.1530\n",
            "test  Loss: 5.3468\n",
            "\n",
            "Epoch 18/50\n",
            "----------\n",
            "train Loss: 8.0554\n",
            "val   Loss: 6.1265\n",
            "test  Loss: 5.3666\n",
            "\n",
            "Epoch 19/50\n",
            "----------\n",
            "train Loss: 8.0600\n",
            "val   Loss: 6.1744\n",
            "test  Loss: 5.3950\n",
            "\n",
            "Epoch 20/50\n",
            "----------\n",
            "train Loss: 7.8736\n",
            "val   Loss: 6.1502\n",
            "test  Loss: 5.3691\n",
            "\n",
            "Epoch 21/50\n",
            "----------\n",
            "train Loss: 7.7553\n",
            "val   Loss: 6.1313\n",
            "test  Loss: 5.3826\n",
            "\n",
            "Epoch 22/50\n",
            "----------\n",
            "train Loss: 7.6815\n",
            "val   Loss: 6.1518\n",
            "test  Loss: 5.3340\n",
            "\n",
            "Epoch 23/50\n",
            "----------\n",
            "train Loss: 7.9697\n",
            "val   Loss: 6.1141\n",
            "test  Loss: 5.3317\n",
            "\n",
            "Epoch 24/50\n",
            "----------\n",
            "train Loss: 7.6771\n",
            "val   Loss: 6.1377\n",
            "test  Loss: 5.3634\n",
            "\n",
            "Epoch 25/50\n",
            "----------\n",
            "train Loss: 7.7220\n",
            "val   Loss: 6.0937\n",
            "test  Loss: 5.3420\n",
            "\n",
            "Epoch 26/50\n",
            "----------\n",
            "train Loss: 7.6006\n",
            "val   Loss: 6.1295\n",
            "test  Loss: 5.3015\n",
            "\n",
            "Epoch 27/50\n",
            "----------\n",
            "train Loss: 7.8296\n",
            "val   Loss: 6.1429\n",
            "test  Loss: 5.3552\n",
            "\n",
            "Epoch 28/50\n",
            "----------\n",
            "train Loss: 7.7314\n",
            "val   Loss: 6.1399\n",
            "test  Loss: 5.2823\n",
            "\n",
            "Epoch 29/50\n",
            "----------\n",
            "train Loss: 7.7765\n",
            "val   Loss: 6.0927\n",
            "test  Loss: 5.2973\n",
            "\n",
            "Epoch 30/50\n",
            "----------\n",
            "train Loss: 7.4922\n",
            "val   Loss: 6.0906\n",
            "test  Loss: 5.2890\n",
            "\n",
            "Epoch 31/50\n",
            "----------\n",
            "train Loss: 7.6395\n",
            "val   Loss: 6.1157\n",
            "test  Loss: 5.2357\n",
            "\n",
            "Epoch 32/50\n",
            "----------\n",
            "train Loss: 7.6140\n",
            "val   Loss: 6.0765\n",
            "test  Loss: 5.3071\n",
            "\n",
            "Epoch 33/50\n",
            "----------\n",
            "train Loss: 7.7892\n",
            "val   Loss: 6.1188\n",
            "test  Loss: 5.3019\n",
            "\n",
            "Epoch 34/50\n",
            "----------\n",
            "train Loss: 7.6021\n",
            "val   Loss: 6.1187\n",
            "test  Loss: 5.3261\n",
            "\n",
            "Epoch 35/50\n",
            "----------\n",
            "train Loss: 7.6470\n",
            "val   Loss: 6.1275\n",
            "test  Loss: 5.3282\n",
            "\n",
            "Epoch 36/50\n",
            "----------\n",
            "train Loss: 7.6512\n",
            "val   Loss: 6.0939\n",
            "test  Loss: 5.2865\n",
            "\n",
            "Epoch 37/50\n",
            "----------\n",
            "train Loss: 7.3198\n",
            "val   Loss: 6.1353\n",
            "test  Loss: 5.3876\n",
            "\n",
            "Epoch 38/50\n",
            "----------\n",
            "train Loss: 7.3689\n",
            "val   Loss: 6.0976\n",
            "test  Loss: 5.3063\n",
            "\n",
            "Epoch 39/50\n",
            "----------\n",
            "train Loss: 7.6576\n",
            "val   Loss: 6.1095\n",
            "test  Loss: 5.2095\n",
            "\n",
            "Epoch 40/50\n",
            "----------\n",
            "train Loss: 7.5722\n",
            "val   Loss: 6.0922\n",
            "test  Loss: 5.2891\n",
            "\n",
            "Epoch 41/50\n",
            "----------\n",
            "train Loss: 7.4575\n",
            "val   Loss: 6.1259\n",
            "test  Loss: 5.2207\n",
            "\n",
            "Epoch 42/50\n",
            "----------\n",
            "train Loss: 7.6131\n",
            "val   Loss: 6.1039\n",
            "test  Loss: 5.2796\n",
            "\n",
            "Epoch 43/50\n",
            "----------\n",
            "train Loss: 7.3798\n",
            "val   Loss: 6.0693\n",
            "test  Loss: 5.2399\n",
            "\n",
            "Epoch 44/50\n",
            "----------\n",
            "train Loss: 7.6952\n",
            "val   Loss: 6.1003\n",
            "test  Loss: 5.2231\n",
            "\n",
            "Epoch 45/50\n",
            "----------\n",
            "train Loss: 7.4377\n",
            "val   Loss: 6.0884\n",
            "test  Loss: 5.2351\n",
            "\n",
            "Epoch 46/50\n",
            "----------\n",
            "train Loss: 7.6270\n",
            "val   Loss: 6.0841\n",
            "test  Loss: 5.2225\n",
            "\n",
            "Epoch 47/50\n",
            "----------\n",
            "train Loss: 7.4517\n",
            "val   Loss: 6.0946\n",
            "test  Loss: 5.2182\n",
            "\n",
            "Epoch 48/50\n",
            "----------\n",
            "train Loss: 7.3933\n",
            "val   Loss: 6.0978\n",
            "test  Loss: 5.2135\n",
            "\n",
            "Epoch 49/50\n",
            "----------\n",
            "train Loss: 7.6824\n",
            "val   Loss: 6.0923\n",
            "test  Loss: 5.2184\n",
            "\n",
            "Epoch 50/50\n",
            "----------\n",
            "train Loss: 7.5435\n",
            "val   Loss: 6.0767\n",
            "test  Loss: 5.2432\n",
            "\n",
            "Training complete in 0m 25s\n",
            "Best val Loss: 6.069312 at epoch 42\n"
          ]
        }
      ],
      "source": [
        "# loss and optimizer\n",
        "criterion = nn.MSELoss() # MSE Loss instead of CrossEntropy\n",
        "optimizer = torch.optim.Adam(regression_model.parameters(), lr=learning_rate,\n",
        "                             weight_decay=0.01)\n",
        "scheduler = torch.optim.lr_scheduler.ExponentialLR(optimizer, gamma=0.95)\n",
        "\n",
        "regression_model, training_curves_regression = train_regression_model(regression_model, dataloaders, dataset_sizes,\n",
        "                                     criterion, optimizer, scheduler, num_epochs=num_epochs)"
      ]
    },
    {
      "cell_type": "code",
      "execution_count": null,
      "metadata": {
        "id": "ZTNZRTbz4c87",
        "outputId": "345d203a-aa2d-4f9a-fc9e-34d94ac00d00",
        "colab": {
          "base_uri": "https://localhost:8080/",
          "height": 295
        }
      },
      "outputs": [
        {
          "output_type": "display_data",
          "data": {
            "text/plain": [
              "<Figure size 432x288 with 1 Axes>"
            ],
            "image/png": "[encoded data removed]"
          },
          "metadata": {
            "needs_background": "light"
          }
        }
      ],
      "source": [
        "plot_training_curves(training_curves_regression, metrics=['loss'])"
      ]
    },
    {
      "cell_type": "code",
      "execution_count": null,
      "metadata": {
        "id": "dArSkp6F4c87"
      },
      "outputs": [],
      "source": [
        "predicted_ages, true_ages = regress_predictions(regression_model, device, dataloaders['train'])\n",
        "# You can see that our predictions look sensible compared to the abalone ages!"
      ]
    },
    {
      "cell_type": "code",
      "execution_count": null,
      "metadata": {
        "id": "bSI2U1Xa4c87",
        "outputId": "c47b564b-e55e-4b6e-b5a3-cd4604c850b5",
        "colab": {
          "base_uri": "https://localhost:8080/"
        }
      },
      "outputs": [
        {
          "output_type": "execute_result",
          "data": {
            "text/plain": [
              "tensor([[10.7833],\n",
              "        [ 7.5867],\n",
              "        [11.2583],\n",
              "        ...,\n",
              "        [ 8.6376],\n",
              "        [10.9198],\n",
              "        [ 8.1794]])"
            ]
          },
          "metadata": {},
          "execution_count": 64
        }
      ],
      "source": [
        "predicted_ages"
      ]
    },
    {
      "cell_type": "code",
      "execution_count": null,
      "metadata": {
        "id": "1-Q8dg7c4c87",
        "outputId": "1021ee73-1ace-450f-f903-ede813f801d5",
        "colab": {
          "base_uri": "https://localhost:8080/"
        }
      },
      "outputs": [
        {
          "output_type": "execute_result",
          "data": {
            "text/plain": [
              "tensor([10.,  9.,  9.,  ...,  7., 14., 10.])"
            ]
          },
          "metadata": {},
          "execution_count": 65
        }
      ],
      "source": [
        "true_ages"
      ]
    },
    {
      "cell_type": "code",
      "execution_count": null,
      "metadata": {
        "id": "A0NyaDDw4c87",
        "outputId": "1fb9b6e2-f812-4c80-eb6c-6f46a83fce26",
        "colab": {
          "base_uri": "https://localhost:8080/",
          "height": 295
        }
      },
      "outputs": [
        {
          "output_type": "display_data",
          "data": {
            "text/plain": [
              "<Figure size 432x288 with 1 Axes>"
            ],
            "image/png": "[encoded data removed]"
          },
          "metadata": {
            "needs_background": "light"
          }
        }
      ],
      "source": [
        "# Train Results\n",
        "plot_regression(regression_model, device, dataloaders['train'])"
      ]
    },
    {
      "cell_type": "code",
      "execution_count": null,
      "metadata": {
        "id": "rCkT20lG4c87",
        "outputId": "0dfe763a-afc2-4847-b837-e741aa606458",
        "colab": {
          "base_uri": "https://localhost:8080/",
          "height": 295
        }
      },
      "outputs": [
        {
          "output_type": "display_data",
          "data": {
            "text/plain": [
              "<Figure size 432x288 with 1 Axes>"
            ],
            "image/png": "[encoded data removed]"
          },
          "metadata": {
            "needs_background": "light"
          }
        }
      ],
      "source": [
        "# Validation Results\n",
        "plot_regression(regression_model, device, dataloaders['val'])"
      ]
    },
    {
      "cell_type": "code",
      "execution_count": null,
      "metadata": {
        "id": "OlIM-RK54c87",
        "outputId": "4c635093-7299-411c-93d7-80aa5671407d",
        "colab": {
          "base_uri": "https://localhost:8080/",
          "height": 295
        }
      },
      "outputs": [
        {
          "output_type": "display_data",
          "data": {
            "text/plain": [
              "<Figure size 432x288 with 1 Axes>"
            ],
            "image/png": "[encoded data removed]"
          },
          "metadata": {
            "needs_background": "light"
          }
        }
      ],
      "source": [
        "# Test Results\n",
        "plot_regression(regression_model, device, dataloaders['test'])"
      ]
    },
    {
      "cell_type": "markdown",
      "source": [
        "### Looking Ahead\n",
        "\n",
        "Now that we have built a foundation in PyTorch, we will be able to perform many different machine learning tasks. We will first look to handwritten digit recognition using the MNIST dataset and use that dataset to introduce more complex Deep Neural Network architectures!"
      ],
      "metadata": {
        "id": "doTU0oTMLQhp"
      }
    }
  ],
  "metadata": {
    "colab": {
      "provenance": []
    },
    "kernelspec": {
      "display_name": "Python 3",
      "language": "python",
      "name": "python3"
    },
    "language_info": {
      "codemirror_mode": {
        "name": "ipython",
        "version": 3
      },
      "file_extension": ".py",
      "mimetype": "text/x-python",
      "name": "python",
      "nbconvert_exporter": "python",
      "pygments_lexer": "ipython3",
      "version": "3.8.10"
    }
  },
  "nbformat": 4,
  "nbformat_minor": 0
}