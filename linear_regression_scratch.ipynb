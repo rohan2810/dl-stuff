{
  "nbformat": 4,
  "nbformat_minor": 0,
  "metadata": {
    "colab": {
      "provenance": [],
      "gpuType": "T4",
      "authorship_tag": "ABX9TyOwSr+BUiewjDoQM4q45LpT"
    },
    "kernelspec": {
      "name": "python3",
      "display_name": "Python 3"
    },
    "language_info": {
      "name": "python"
    },
    "accelerator": "GPU"
  },
  "cells": [
    {
      "cell_type": "code",
      "source": [
        "# Download the wine .csv files from data archive\n",
        "!rm -f winequality-red.csv winequality-white.csv\n",
        "!wget https://archive.ics.uci.edu/ml/machine-learning-databases/wine-quality/winequality-red.csv\n",
        "!wget https://archive.ics.uci.edu/ml/machine-learning-databases/wine-quality/winequality-white.csv\n",
        "\n",
        "# These are the packages required for this assignment\n",
        "import pandas as pd\n",
        "import numpy as np\n"
      ],
      "metadata": {
        "colab": {
          "base_uri": "https://localhost:8080/"
        },
        "id": "c9Yh4Z2ILBfI",
        "outputId": "a60c991e-5a24-44ba-83c8-3b055350da16"
      },
      "execution_count": 1,
      "outputs": [
        {
          "output_type": "stream",
          "name": "stdout",
          "text": [
            "--2024-05-17 03:39:25--  https://archive.ics.uci.edu/ml/machine-learning-databases/wine-quality/winequality-red.csv\n",
            "Resolving archive.ics.uci.edu (archive.ics.uci.edu)... 128.195.10.252\n",
            "Connecting to archive.ics.uci.edu (archive.ics.uci.edu)|128.195.10.252|:443... connected.\n",
            "HTTP request sent, awaiting response... 200 OK\n",
            "Length: unspecified\n",
            "Saving to: ‘winequality-red.csv’\n",
            "\n",
            "winequality-red.csv     [  <=>               ]  82.23K   213KB/s    in 0.4s    \n",
            "\n",
            "2024-05-17 03:39:26 (213 KB/s) - ‘winequality-red.csv’ saved [84199]\n",
            "\n",
            "--2024-05-17 03:39:26--  https://archive.ics.uci.edu/ml/machine-learning-databases/wine-quality/winequality-white.csv\n",
            "Resolving archive.ics.uci.edu (archive.ics.uci.edu)... 128.195.10.252\n",
            "Connecting to archive.ics.uci.edu (archive.ics.uci.edu)|128.195.10.252|:443... connected.\n",
            "HTTP request sent, awaiting response... 200 OK\n",
            "Length: unspecified\n",
            "Saving to: ‘winequality-white.csv’\n",
            "\n",
            "winequality-white.c     [   <=>              ] 258.23K   500KB/s    in 0.5s    \n",
            "\n",
            "2024-05-17 03:39:27 (500 KB/s) - ‘winequality-white.csv’ saved [264426]\n",
            "\n"
          ]
        }
      ]
    },
    {
      "cell_type": "code",
      "source": [
        "# Use Pandas to read the csv file into a dataframe.\n",
        "# Note that the delimiter in this csv is the semicolon \";\" instead of a ,\n",
        "df_red = pd.read_csv('winequality-red.csv',delimiter=\";\")\n",
        "\n",
        "# Because we are performing a classification task, we will assign all red wine a label of 1\n",
        "df_red[\"color\"] = 1\n",
        "\n",
        "# The method .head() is super useful for seeing a preview of our data!\n",
        "df_red.head()\n",
        "\n",
        "df_white = pd.read_csv('winequality-white.csv',delimiter=\";\")\n",
        "df_white[\"color\"] = 0  #assign white wine the label 0\n",
        "df_white.head()\n",
        "\n",
        "# Now we combine our two dataframes\n",
        "df = pd.concat([df_red, df_white])\n",
        "\n",
        "# And shuffle them in place to mix the red and white wine data together\n",
        "df = df.sample(frac=1).reset_index(drop=True)\n",
        "df.head()\n",
        "\n",
        "# We choose three attributes of the wine to perform our prediction on\n",
        "input_columns = [\"citric acid\", \"residual sugar\", \"total sulfur dioxide\"]\n",
        "output_columns = [\"color\"]\n",
        "\n",
        "# We extract the relevant features into our X and Y numpy arrays\n",
        "X = df[input_columns].to_numpy()\n",
        "Y = df[output_columns].to_numpy()\n",
        "print(\"Shape of X:\", X.shape)\n",
        "print(\"Shape of Y:\", Y.shape)\n",
        "in_features = X.shape[1]"
      ],
      "metadata": {
        "colab": {
          "base_uri": "https://localhost:8080/"
        },
        "id": "VlgbdEcHLDb_",
        "outputId": "6cd14a95-4144-439a-d14f-98c65fd27112"
      },
      "execution_count": 2,
      "outputs": [
        {
          "output_type": "stream",
          "name": "stdout",
          "text": [
            "Shape of X: (6497, 3)\n",
            "Shape of Y: (6497, 1)\n"
          ]
        }
      ]
    },
    {
      "cell_type": "code",
      "source": [
        "class WineClassifierModel():\n",
        "  def __init__(self, in_features):\n",
        "    self.w = 0.01 * np.random.randn(in_features)\n",
        "    self.b = 0.01 * np.random.randn()\n",
        "    self.non_zero_tolerance = 1e-8\n",
        "\n",
        "  def forward(self,x):\n",
        "    self.z = x @ self.w.T + self.b\n",
        "    self.a = self.activation(self.z)\n",
        "    return self.a\n",
        "\n",
        "  def activation(self,z):\n",
        "    return 1 / (1 + np.exp(-z) + self.non_zero_tolerance)\n",
        "\n",
        "  def gradient(self,x):\n",
        "    self.dw = self.a * (1- self.a) * x\n",
        "    self.db = self.a * (1- self.a)\n",
        "\n",
        "  def update(self, grad_loss, lr):\n",
        "    self.w -= grad_loss * self.dw * lr\n",
        "    self.b -= grad_loss * self.db * lr\n"
      ],
      "metadata": {
        "id": "rfklE1jfLLfg"
      },
      "execution_count": null,
      "outputs": []
    },
    {
      "cell_type": "code",
      "source": [
        "def train_model_NLL_loss(model, input_data, output_data, learning_rate, num_epochs):\n",
        "    non_zero_tolerance = 1e-8\n",
        "    num_samples = len(input_data)\n",
        "    for epoch in range(1, num_epochs+1):\n",
        "        total_loss = 0\n",
        "        for i in range(num_samples):\n",
        "            x = input_data[i,...]\n",
        "            y = output_data[i]\n",
        "            y_predicted = model.forward(x)\n",
        "            loss = -(y * np.log(y_predicted + non_zero_tolerance) + (1-y) * np.log(1-y_predicted + non_zero_tolerance))\n",
        "            total_loss += loss\n",
        "\n",
        "            model.gradient(x)\n",
        "            grad_loss = (y_predicted - y)/(y_predicted * (1-y_predicted))\n",
        "            model.update(grad_loss, learning_rate)\n",
        "\n",
        "        report_every = max(1, num_epochs // 10)\n",
        "        if epoch == 1 or epoch % report_every == 0: #every few epochs, report\n",
        "            print(\"epoch\", epoch, \"has total loss\", total_loss/ num_samples)"
      ],
      "metadata": {
        "id": "AapxooXjNgn0"
      },
      "execution_count": null,
      "outputs": []
    },
    {
      "cell_type": "code",
      "source": [
        "# We will use this function to evaluate how well our trained classifier perfom\n",
        "# Hint: the model you define above must have a .forward function in order to be compatible\n",
        "# Hint: this evaluation function is identical to those in previous notebooks\n",
        "def evaluate_classification_accuracy(model, input_data, labels):\n",
        "    # Count the number of correctly classified samples given a set of weights\n",
        "    correct = 0\n",
        "    num_samples = len(input_data)\n",
        "    for i in range(num_samples):\n",
        "        x = input_data[i,...]\n",
        "        y = labels[i]\n",
        "        y_predicted = model.forward(x)\n",
        "        label_predicted = 1 if y_predicted > 0.5 else 0\n",
        "        if label_predicted == y:\n",
        "            correct += 1\n",
        "    accuracy = correct / num_samples\n",
        "    print(\"Our model predicted\", correct, \"out of\", num_samples,\n",
        "          \"correctly for\", accuracy*100, \"% accuracy\")\n",
        "    return accuracy"
      ],
      "metadata": {
        "id": "XjWZvBQKO5iP"
      },
      "execution_count": null,
      "outputs": []
    },
    {
      "cell_type": "code",
      "source": [
        "# train the model...\n",
        "lr = 0.001\n",
        "epochs = 250\n",
        "\n",
        "model = WineClassifierModel(in_features)\n",
        "# train_model_NLL_loss(model, input_data, output_data, learning_rate=0.01, num_epochs=100, batch_size=32)\n",
        "\n",
        "train_model_NLL_loss(model, X, Y, lr, epochs)\n",
        "print(\"\\nFinal weights:\")\n",
        "print(model.w, model.b)"
      ],
      "metadata": {
        "colab": {
          "base_uri": "https://localhost:8080/"
        },
        "id": "bsTCxaZ6NnxI",
        "outputId": "c54c314d-cf47-4121-8b5a-ee524e49c1d4"
      },
      "execution_count": null,
      "outputs": [
        {
          "output_type": "stream",
          "name": "stdout",
          "text": [
            "epoch 1 has total loss [0.99485867]\n",
            "epoch 25 has total loss [0.53205897]\n",
            "epoch 50 has total loss [0.51737028]\n",
            "epoch 75 has total loss [0.51783065]\n",
            "epoch 100 has total loss [0.51874003]\n",
            "epoch 125 has total loss [0.51879059]\n",
            "epoch 150 has total loss [0.51833416]\n",
            "epoch 175 has total loss [0.51773802]\n",
            "epoch 200 has total loss [0.51700691]\n",
            "epoch 225 has total loss [0.51606454]\n",
            "epoch 250 has total loss [0.51510341]\n",
            "\n",
            "Final weights:\n",
            "[-1.36638812 -0.4019177  -0.21720915] [11.81553132]\n"
          ]
        }
      ]
    },
    {
      "cell_type": "code",
      "source": [
        "print(\n",
        "    \"Training Accuracy\",\n",
        "    evaluate_classification_accuracy(model, X, Y) * 100,\n",
        "    \"%\",\n",
        ")\n",
        "# print(\"Parameters\", model.weights, model.bias)"
      ],
      "metadata": {
        "colab": {
          "base_uri": "https://localhost:8080/"
        },
        "id": "L9YgooaKO4qB",
        "outputId": "01ab3c80-ece7-4146-b265-483ec3202242"
      },
      "execution_count": null,
      "outputs": [
        {
          "output_type": "stream",
          "name": "stdout",
          "text": [
            "Our model predicted 5862 out of 6497 correctly for 90.2262582730491 % accuracy\n",
            "Training Accuracy 90.2262582730491 %\n"
          ]
        }
      ]
    },
    {
      "cell_type": "code",
      "source": [],
      "metadata": {
        "id": "P-N7U9VHvfz1"
      },
      "execution_count": null,
      "outputs": []
    }
  ]
}